{
 "cells": [
  {
   "cell_type": "markdown",
   "id": "9be14867-684c-4585-a0db-8706a0ae5212",
   "metadata": {},
   "source": [
    "# 模型侧代码demo\n",
    "\n",
    "## 参考链接：\n",
    "\n",
    "* [sklearn api](https://scikit-learn.org/stable/modules/classes.html#module-sklearn.neighbors)\n",
    "* [sklearn linear model](https://scikit-learn.org/stable/modules/classes.html#module-sklearn.linear_model)\n",
    "* [sklearn svm](https://scikit-learn.org/stable/modules/classes.html#module-sklearn.svm)\n",
    "* [sklearn decision tree](https://scikit-learn.org/stable/modules/classes.html#module-sklearn.tree)\n",
    "* [sklearn ensemble method](https://scikit-learn.org/stable/modules/classes.html#module-sklearn.ensemble)\n",
    "* [xgboost](https://xgboost.readthedocs.io/en/latest/#)\n",
    "* [lightgbm](https://lightgbm.readthedocs.io/en/latest/index.html)\n",
    "* [sklearn clustering](https://scikit-learn.org/stable/modules/classes.html#module-sklearn.cluster)\n",
    "\n",
    "# 有监督\n",
    "## 导入模块"
   ]
  },
  {
   "cell_type": "code",
   "execution_count": 21,
   "id": "ddfe4948-69d4-4015-8bdc-37692daa6a67",
   "metadata": {},
   "outputs": [],
   "source": [
    "from sklearn.datasets import load_iris  # 导入数据\n",
    "\n",
    "from sklearn.model_selection import train_test_split  # 划分训练测试集\n",
    "\n",
    "from sklearn.preprocessing import StandardScaler  # 正态化\n",
    "\n",
    "# model\n",
    "from sklearn.linear_model import LogisticRegression, LogisticRegressionCV  # logistic regression\n",
    "from sklearn.svm import SVC  # svm\n",
    "from sklearn.tree import DecisionTreeClassifier  # 决策树\n",
    "from sklearn.ensemble import RandomForestClassifier, GradientBoostingClassifier  # 随机森林 gbdt\n",
    "\n",
    "# metrics\n",
    "from sklearn.metrics import roc_curve, precision_recall_curve, confusion_matrix\n",
    "from sklearn.metrics import accuracy_score, f1_score, precision_score, recall_score, roc_auc_score, auc\n",
    "from sklearn.metrics import plot_roc_curve, plot_precision_recall_curve, plot_confusion_matrix\n",
    "\n",
    "# hyper_parameter optimizers\n",
    "from sklearn.model_selection import GridSearchCV, RandomizedSearchCV\n",
    "\n",
    "# model validation\n",
    "from sklearn.model_selection import cross_val_predict, cross_val_score  # cross_val_predict是将k折的预测合在一起，不具备泛化误差参考性"
   ]
  },
  {
   "cell_type": "markdown",
   "id": "9070312e-ae94-463c-b472-9509d85beb7c",
   "metadata": {},
   "source": [
    "## 导入数据"
   ]
  },
  {
   "cell_type": "code",
   "execution_count": 5,
   "id": "0b7d8bba-3545-4f73-ba47-a18e16a185ed",
   "metadata": {},
   "outputs": [
    {
     "data": {
      "text/plain": [
       "(150, 4)"
      ]
     },
     "execution_count": 5,
     "metadata": {},
     "output_type": "execute_result"
    }
   ],
   "source": [
    "X, y = load_iris(return_X_y=True)\n",
    "X.shape"
   ]
  },
  {
   "cell_type": "markdown",
   "id": "a3271fcb-9c1b-42b9-ae64-47113c80bd7d",
   "metadata": {},
   "source": [
    "## 划分训练、验证、测试集"
   ]
  },
  {
   "cell_type": "code",
   "execution_count": 18,
   "id": "ab529392-57fc-400c-adcc-3c55b8002e50",
   "metadata": {},
   "outputs": [
    {
     "name": "stdout",
     "output_type": "stream",
     "text": [
      "X_train size (96, 4), y_train size (96,)\n",
      "X_dev size (24, 4), y_dev size (24,)\n",
      "X_test size (30, 4), y_test size (30,)\n"
     ]
    }
   ],
   "source": [
    "random_state = 42\n",
    "X_full_train, X_test, y_full_train, y_test = train_test_split(X, y, test_size=0.2, random_state=random_state, stratify=y)\n",
    "X_train, X_dev, y_train, y_dev = train_test_split(X_full_train, y_full_train, test_size=0.2, random_state=random_state, stratify=y_full_train)\n",
    "\n",
    "print(f'X_train size {X_train.shape}, y_train size {y_train.shape}')\n",
    "print(f'X_dev size {X_dev.shape}, y_dev size {y_dev.shape}')\n",
    "print(f'X_test size {X_test.shape}, y_test size {y_test.shape}')"
   ]
  },
  {
   "cell_type": "markdown",
   "id": "0e037b66-b38d-4dd0-bea9-ecd253c12e27",
   "metadata": {},
   "source": [
    "## 数据归一化"
   ]
  },
  {
   "cell_type": "code",
   "execution_count": 29,
   "id": "62b9aaf6-3152-4aaa-b725-cafa6afa94d2",
   "metadata": {},
   "outputs": [],
   "source": [
    "scaler = StandardScaler()\n",
    "scaler.fit(X_train)\n",
    "\n",
    "X_train_s = scaler.transform(X_train)\n",
    "X_dev_s = scaler.transform(X_dev)\n",
    "X_test_s = scaler.transform(X_test)"
   ]
  },
  {
   "cell_type": "markdown",
   "id": "773fb05a-9693-4975-8e05-802d6daf3324",
   "metadata": {},
   "source": [
    "## 构建模型"
   ]
  },
  {
   "cell_type": "code",
   "execution_count": 79,
   "id": "a4d41d72-bfc4-4c75-8921-07f3da52a1ba",
   "metadata": {},
   "outputs": [],
   "source": [
    "lr_fit = LogisticRegression(random_state=random_state).fit(X_train_s, y_train)\n",
    "svm_fit = SVC(random_state=random_state, probability=True).fit(X_train_s, y_train)\n",
    "dt_fit = DecisionTreeClassifier(random_state=random_state).fit(X_train_s, y_train)\n",
    "gbdt_fit = GradientBoostingClassifier(random_state=0).fit(X_train_s, y_train)"
   ]
  },
  {
   "cell_type": "markdown",
   "id": "48801415-966e-4b18-aeed-4ca02f4a082c",
   "metadata": {},
   "source": [
    "## 各种分数计算"
   ]
  },
  {
   "cell_type": "code",
   "execution_count": 80,
   "id": "759bf3ec-1a08-43fa-8a41-95af1eba4e3f",
   "metadata": {},
   "outputs": [],
   "source": [
    "model_dict = {\n",
    "    'lr  ': lr_fit,\n",
    "    'svm ': svm_fit,\n",
    "    'dt  ': dt_fit,\n",
    "    'gbdt': gbdt_fit\n",
    "}"
   ]
  },
  {
   "cell_type": "code",
   "execution_count": 81,
   "id": "3bf639e3-8e0f-4bea-b3ee-58178ac83373",
   "metadata": {},
   "outputs": [
    {
     "name": "stdout",
     "output_type": "stream",
     "text": [
      "lr  :\n",
      " [[8 0 0]\n",
      " [0 7 1]\n",
      " [0 0 8]]\n",
      "svm :\n",
      " [[8 0 0]\n",
      " [0 7 1]\n",
      " [0 0 8]]\n",
      "dt  :\n",
      " [[8 0 0]\n",
      " [0 7 1]\n",
      " [0 0 8]]\n",
      "gbdt:\n",
      " [[8 0 0]\n",
      " [0 7 1]\n",
      " [0 0 8]]\n"
     ]
    }
   ],
   "source": [
    "# confusion_matrix\n",
    "for key, value in model_dict.items():\n",
    "    pred = value.predict(X_dev_s)\n",
    "    print(key+ ':\\n', confusion_matrix(y_dev, pred))"
   ]
  },
  {
   "cell_type": "code",
   "execution_count": 99,
   "id": "2e650e43-bca9-4bc3-a7a9-4b71b97bf41d",
   "metadata": {},
   "outputs": [
    {
     "name": "stdout",
     "output_type": "stream",
     "text": [
      "lr  , acc: 0.95833, f1: 0.95817, precision: 0.96296, recall: 0.95833, roc_auc: 1.00000\n",
      "svm , acc: 0.95833, f1: 0.95817, precision: 0.96296, recall: 0.95833, roc_auc: 1.00000\n",
      "dt  , acc: 0.95833, f1: 0.95817, precision: 0.96296, recall: 0.95833, roc_auc: 0.96875\n",
      "gbdt, acc: 0.95833, f1: 0.95817, precision: 0.96296, recall: 0.95833, roc_auc: 1.00000\n"
     ]
    }
   ],
   "source": [
    "# score\n",
    "for key, clf in model_dict.items():\n",
    "    pred = clf.predict(X_dev_s)  # 预测target label\n",
    "    pred_prob = clf.predict_proba(X_dev_s)\n",
    "    acc = accuracy_score(y_dev, pred)\n",
    "    f1 = f1_score(y_dev, pred, average='weighted')\n",
    "    precision = precision_score(y_dev, pred, average='weighted')\n",
    "    recall = recall_score(y_dev, pred, average='weighted')\n",
    "    roc_auc = roc_auc_score(y_dev, pred_prob, average='weighted', multi_class='ovr')\n",
    "    print('{}, acc: {:.5f}, f1: {:.5f}, precision: {:.5f}, recall: {:.5f}, roc_auc: {:.5f}'\\\n",
    "          .format(key, acc, f1, precision, recall, roc_auc))"
   ]
  },
  {
   "cell_type": "code",
   "execution_count": null,
   "id": "5ae2386c-a225-466f-af84-8ac02e4a5cd0",
   "metadata": {},
   "outputs": [],
   "source": []
  },
  {
   "cell_type": "code",
   "execution_count": null,
   "id": "02024fcc-e336-42dd-b675-f24b6c7dc1ff",
   "metadata": {},
   "outputs": [],
   "source": []
  },
  {
   "cell_type": "code",
   "execution_count": null,
   "id": "b685c84c-1f80-4d84-94bc-5f61841c99ac",
   "metadata": {},
   "outputs": [],
   "source": []
  },
  {
   "cell_type": "code",
   "execution_count": null,
   "id": "e755f285-1c50-4001-aac3-37f3fb12e7b7",
   "metadata": {},
   "outputs": [],
   "source": []
  }
 ],
 "metadata": {
  "kernelspec": {
   "display_name": "Python 3",
   "language": "python",
   "name": "python3"
  },
  "language_info": {
   "codemirror_mode": {
    "name": "ipython",
    "version": 3
   },
   "file_extension": ".py",
   "mimetype": "text/x-python",
   "name": "python",
   "nbconvert_exporter": "python",
   "pygments_lexer": "ipython3",
   "version": "3.8.6"
  }
 },
 "nbformat": 4,
 "nbformat_minor": 5
}
