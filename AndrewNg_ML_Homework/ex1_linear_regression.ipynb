{
 "cells": [
  {
   "cell_type": "markdown",
   "id": "47ab00a6-b63b-4e54-b186-2aeb864c23f7",
   "metadata": {},
   "source": [
    "# linear regression(线性回归)\n",
    "\n",
    "* 注意：python版本为3.8"
   ]
  },
  {
   "cell_type": "markdown",
   "id": "19ffe8b5-2199-453c-bc76-aa9a2c2cd145",
   "metadata": {},
   "source": [
    "## 导入模块"
   ]
  },
  {
   "cell_type": "code",
   "execution_count": 1,
   "id": "bedfab10-6a9b-4872-91c4-f9e0433d9ae0",
   "metadata": {},
   "outputs": [],
   "source": [
    "import numpy as np\n",
    "import pandas as pd\n",
    "import seaborn as sns\n",
    "import matplotlib.pyplot as plt\n",
    "import tensorflow as tf\n",
    "\n",
    "sns.set(context='notebook', style='whitegrid', palette='dark')\n",
    "%matplotlib inline"
   ]
  },
  {
   "cell_type": "markdown",
   "id": "f92c941f-d077-44f9-b2c5-f82010c1c849",
   "metadata": {},
   "source": [
    "## 导入数据"
   ]
  },
  {
   "cell_type": "code",
   "execution_count": 2,
   "id": "da1787ef-e353-40e4-bb38-7d15daea3a3a",
   "metadata": {},
   "outputs": [],
   "source": [
    "ex1data1_path = './ex1/ex1data1.txt'\n",
    "ex1data2_path = './ex1/ex1data2.txt'"
   ]
  },
  {
   "cell_type": "code",
   "execution_count": 3,
   "id": "688ffa4a-fe40-4587-a2e4-354c1b986988",
   "metadata": {},
   "outputs": [],
   "source": [
    "df = pd.read_csv(ex1data1_path, names=['population', 'profit'])"
   ]
  },
  {
   "cell_type": "markdown",
   "id": "f2593384-f5a4-42a1-a553-5f666c10264a",
   "metadata": {
    "tags": []
   },
   "source": [
    "## 数据eda"
   ]
  },
  {
   "cell_type": "code",
   "execution_count": 4,
   "id": "ee426e56-a947-4f08-a345-865bfa42e7f7",
   "metadata": {},
   "outputs": [
    {
     "data": {
      "text/html": [
       "<div>\n",
       "<style scoped>\n",
       "    .dataframe tbody tr th:only-of-type {\n",
       "        vertical-align: middle;\n",
       "    }\n",
       "\n",
       "    .dataframe tbody tr th {\n",
       "        vertical-align: top;\n",
       "    }\n",
       "\n",
       "    .dataframe thead th {\n",
       "        text-align: right;\n",
       "    }\n",
       "</style>\n",
       "<table border=\"1\" class=\"dataframe\">\n",
       "  <thead>\n",
       "    <tr style=\"text-align: right;\">\n",
       "      <th></th>\n",
       "      <th>population</th>\n",
       "      <th>profit</th>\n",
       "    </tr>\n",
       "  </thead>\n",
       "  <tbody>\n",
       "    <tr>\n",
       "      <th>0</th>\n",
       "      <td>6.1101</td>\n",
       "      <td>17.5920</td>\n",
       "    </tr>\n",
       "    <tr>\n",
       "      <th>1</th>\n",
       "      <td>5.5277</td>\n",
       "      <td>9.1302</td>\n",
       "    </tr>\n",
       "    <tr>\n",
       "      <th>2</th>\n",
       "      <td>8.5186</td>\n",
       "      <td>13.6620</td>\n",
       "    </tr>\n",
       "    <tr>\n",
       "      <th>3</th>\n",
       "      <td>7.0032</td>\n",
       "      <td>11.8540</td>\n",
       "    </tr>\n",
       "    <tr>\n",
       "      <th>4</th>\n",
       "      <td>5.8598</td>\n",
       "      <td>6.8233</td>\n",
       "    </tr>\n",
       "  </tbody>\n",
       "</table>\n",
       "</div>"
      ],
      "text/plain": [
       "   population   profit\n",
       "0      6.1101  17.5920\n",
       "1      5.5277   9.1302\n",
       "2      8.5186  13.6620\n",
       "3      7.0032  11.8540\n",
       "4      5.8598   6.8233"
      ]
     },
     "execution_count": 4,
     "metadata": {},
     "output_type": "execute_result"
    }
   ],
   "source": [
    "df.head()"
   ]
  },
  {
   "cell_type": "code",
   "execution_count": 5,
   "id": "18792c15-3f84-4a1a-9802-82b7a60defa0",
   "metadata": {},
   "outputs": [
    {
     "name": "stdout",
     "output_type": "stream",
     "text": [
      "<class 'pandas.core.frame.DataFrame'>\n",
      "RangeIndex: 97 entries, 0 to 96\n",
      "Data columns (total 2 columns):\n",
      " #   Column      Non-Null Count  Dtype  \n",
      "---  ------      --------------  -----  \n",
      " 0   population  97 non-null     float64\n",
      " 1   profit      97 non-null     float64\n",
      "dtypes: float64(2)\n",
      "memory usage: 1.6 KB\n"
     ]
    }
   ],
   "source": [
    "df.info()"
   ]
  },
  {
   "cell_type": "code",
   "execution_count": 6,
   "id": "66d43416-73d6-4419-8e4b-cfcf7d5068c3",
   "metadata": {},
   "outputs": [
    {
     "data": {
      "text/html": [
       "<div>\n",
       "<style scoped>\n",
       "    .dataframe tbody tr th:only-of-type {\n",
       "        vertical-align: middle;\n",
       "    }\n",
       "\n",
       "    .dataframe tbody tr th {\n",
       "        vertical-align: top;\n",
       "    }\n",
       "\n",
       "    .dataframe thead th {\n",
       "        text-align: right;\n",
       "    }\n",
       "</style>\n",
       "<table border=\"1\" class=\"dataframe\">\n",
       "  <thead>\n",
       "    <tr style=\"text-align: right;\">\n",
       "      <th></th>\n",
       "      <th>population</th>\n",
       "      <th>profit</th>\n",
       "    </tr>\n",
       "  </thead>\n",
       "  <tbody>\n",
       "    <tr>\n",
       "      <th>count</th>\n",
       "      <td>97.000000</td>\n",
       "      <td>97.000000</td>\n",
       "    </tr>\n",
       "    <tr>\n",
       "      <th>mean</th>\n",
       "      <td>8.159800</td>\n",
       "      <td>5.839135</td>\n",
       "    </tr>\n",
       "    <tr>\n",
       "      <th>std</th>\n",
       "      <td>3.869884</td>\n",
       "      <td>5.510262</td>\n",
       "    </tr>\n",
       "    <tr>\n",
       "      <th>min</th>\n",
       "      <td>5.026900</td>\n",
       "      <td>-2.680700</td>\n",
       "    </tr>\n",
       "    <tr>\n",
       "      <th>25%</th>\n",
       "      <td>5.707700</td>\n",
       "      <td>1.986900</td>\n",
       "    </tr>\n",
       "    <tr>\n",
       "      <th>50%</th>\n",
       "      <td>6.589400</td>\n",
       "      <td>4.562300</td>\n",
       "    </tr>\n",
       "    <tr>\n",
       "      <th>75%</th>\n",
       "      <td>8.578100</td>\n",
       "      <td>7.046700</td>\n",
       "    </tr>\n",
       "    <tr>\n",
       "      <th>max</th>\n",
       "      <td>22.203000</td>\n",
       "      <td>24.147000</td>\n",
       "    </tr>\n",
       "  </tbody>\n",
       "</table>\n",
       "</div>"
      ],
      "text/plain": [
       "       population     profit\n",
       "count   97.000000  97.000000\n",
       "mean     8.159800   5.839135\n",
       "std      3.869884   5.510262\n",
       "min      5.026900  -2.680700\n",
       "25%      5.707700   1.986900\n",
       "50%      6.589400   4.562300\n",
       "75%      8.578100   7.046700\n",
       "max     22.203000  24.147000"
      ]
     },
     "execution_count": 6,
     "metadata": {},
     "output_type": "execute_result"
    }
   ],
   "source": [
    "df.describe()"
   ]
  },
  {
   "cell_type": "code",
   "execution_count": 7,
   "id": "2a3d2276-28a1-4adc-9db5-accdd19eabda",
   "metadata": {},
   "outputs": [
    {
     "data": {
      "image/png": "[encoded data removed]",
      "text/plain": [
       "<Figure size 432x432 with 1 Axes>"
      ]
     },
     "metadata": {
      "needs_background": "light"
     },
     "output_type": "display_data"
    }
   ],
   "source": [
    "# Plot data and regression model fits across a FacetGrid.\n",
    "sns.lmplot(x='population', y='profit', data=df, height=6, fit_reg=False)\n",
    "plt.show()"
   ]
  },
  {
   "cell_type": "markdown",
   "id": "79f05d8c-522d-4afd-8e68-442281c3b388",
   "metadata": {},
   "source": [
    "## 一些函数\n",
    "\n",
    "1. 读取X,y函数`func_get_X_y()`\n",
    "2. 读取y函数`func_get_y()`\n",
    "3. 归一化函数`func_normalize_X()`"
   ]
  },
  {
   "cell_type": "code",
   "execution_count": 8,
   "id": "2e8c171e-8771-47de-87a2-dfbb3b8bb50a",
   "metadata": {},
   "outputs": [],
   "source": [
    "def func_get_X_y(df):\n",
    "    \"\"\"\n",
    "    得到X,y\n",
    "    :param df: A dataframe\n",
    "    :return X: ndarray matrix\n",
    "    :return y: target\n",
    "    \"\"\"\n",
    "    X = df.iloc[:, :-1].values\n",
    "    y = np.array(df.iloc[:, -1])\n",
    "    return X.T, np.expand_dims(y, axis=0)"
   ]
  },
  {
   "cell_type": "code",
   "execution_count": 9,
   "id": "71e7537d-3a0e-4d81-bb68-09e3cf0dc6f9",
   "metadata": {},
   "outputs": [],
   "source": [
    "def func_normalize_X(X):\n",
    "    \"\"\"\n",
    "    normalize X\n",
    "    :param X: ndarray matrix\n",
    "    :return X_norm: norm ndarray matrix\n",
    "    \"\"\"\n",
    "    X_mean = np.mean(X, axis=1, keepdims=True)\n",
    "    X_std = np.std(X, axis=1, keepdims=True)\n",
    "    X_norm = (X - X_mean) / X_std\n",
    "    return X_norm"
   ]
  },
  {
   "cell_type": "code",
   "execution_count": 10,
   "id": "bd29ce74-6bd1-4b24-88f1-ac68b7bf5423",
   "metadata": {},
   "outputs": [],
   "source": [
    "X, y = func_get_X_y(df)"
   ]
  },
  {
   "cell_type": "code",
   "execution_count": 11,
   "id": "ca54e8cb-ceb4-4c13-9fe8-92b8da4596ff",
   "metadata": {},
   "outputs": [
    {
     "data": {
      "text/plain": [
       "(1, 97)"
      ]
     },
     "execution_count": 11,
     "metadata": {},
     "output_type": "execute_result"
    }
   ],
   "source": [
    "X.shape"
   ]
  },
  {
   "cell_type": "code",
   "execution_count": 12,
   "id": "3027b159-92e8-4307-b5d0-27f73e8582d7",
   "metadata": {},
   "outputs": [
    {
     "data": {
      "text/plain": [
       "(1, 97)"
      ]
     },
     "execution_count": 12,
     "metadata": {},
     "output_type": "execute_result"
    }
   ],
   "source": [
    "y.shape"
   ]
  },
  {
   "cell_type": "code",
   "execution_count": 13,
   "id": "34c45ac3-095b-470e-926e-0c7cb69bc13a",
   "metadata": {},
   "outputs": [
    {
     "data": {
      "text/plain": [
       "array([[8.1598]])"
      ]
     },
     "execution_count": 13,
     "metadata": {},
     "output_type": "execute_result"
    }
   ],
   "source": [
    "np.mean(X, axis=1, keepdims=True)"
   ]
  },
  {
   "cell_type": "code",
   "execution_count": 14,
   "id": "03937f48-b4fd-438f-84ab-7d79b87b4286",
   "metadata": {},
   "outputs": [
    {
     "data": {
      "text/plain": [
       "array([[3.849884]])"
      ]
     },
     "execution_count": 14,
     "metadata": {},
     "output_type": "execute_result"
    }
   ],
   "source": [
    "np.std(X, axis=1, keepdims=True)"
   ]
  },
  {
   "cell_type": "code",
   "execution_count": 15,
   "id": "1a2ae19b-576b-4e82-be1f-475b40e01ef8",
   "metadata": {},
   "outputs": [],
   "source": [
    "X_norm = func_normalize_X(X)"
   ]
  },
  {
   "cell_type": "code",
   "execution_count": 16,
   "id": "b12db4be-0704-46f6-9823-f716812153fa",
   "metadata": {},
   "outputs": [
    {
     "data": {
      "text/plain": [
       "array([[3.1933219e-16]])"
      ]
     },
     "execution_count": 16,
     "metadata": {},
     "output_type": "execute_result"
    }
   ],
   "source": [
    "np.mean(X_norm, axis=1, keepdims=True)"
   ]
  },
  {
   "cell_type": "code",
   "execution_count": 17,
   "id": "3ec9c44f-d1a4-47de-9472-7572cea7f604",
   "metadata": {},
   "outputs": [
    {
     "data": {
      "text/plain": [
       "array([[1.]])"
      ]
     },
     "execution_count": 17,
     "metadata": {},
     "output_type": "execute_result"
    }
   ],
   "source": [
    "np.std(X_norm, axis=1, keepdims=True)"
   ]
  },
  {
   "cell_type": "markdown",
   "id": "54698ef6-3cf7-406c-a9d3-7aeb81ad97f5",
   "metadata": {},
   "source": [
    "## DNN实现linear regression\n",
    "\n",
    "### 步骤\n",
    "\n",
    "1. 初始化参数\n",
    "2. forward step\n",
    "3. 计算损失\n",
    "4. backward step\n",
    "5. 更新参数\n",
    "6. 将1-5步集合到一起\n",
    "7. predict"
   ]
  },
  {
   "cell_type": "markdown",
   "id": "69baab33-4504-4f6b-a6fe-23483e8b72f3",
   "metadata": {},
   "source": [
    "### 初始化参数"
   ]
  },
  {
   "cell_type": "code",
   "execution_count": 18,
   "id": "c81b1775-4369-47a3-a9fe-10cf6916076d",
   "metadata": {},
   "outputs": [],
   "source": [
    "def func_initial_parameters(X):\n",
    "    \"\"\"\n",
    "    初始化参数\n",
    "    :param X: input vector\n",
    "    :return params\n",
    "    \"\"\"\n",
    "    n_x = X.shape[0]\n",
    "    \n",
    "    w = np.zeros((1, n_x))\n",
    "    b = np.zeros((1, 1))\n",
    "    \n",
    "    params = {\n",
    "        'w': w,\n",
    "        'b': b\n",
    "    }\n",
    "    return params"
   ]
  },
  {
   "cell_type": "code",
   "execution_count": 19,
   "id": "7abdebbe-a7d7-4af9-82bd-96e416e43db1",
   "metadata": {},
   "outputs": [],
   "source": [
    "parameters = func_initial_parameters(X_norm)"
   ]
  },
  {
   "cell_type": "code",
   "execution_count": 20,
   "id": "8e90f8b2-e4b1-4f90-b2e7-cb132b3a9192",
   "metadata": {},
   "outputs": [
    {
     "name": "stdout",
     "output_type": "stream",
     "text": [
      "w [[0.]]\n",
      "(1, 1)\n",
      "b [[0.]]\n",
      "(1, 1)\n"
     ]
    }
   ],
   "source": [
    "for key, value in parameters.items():\n",
    "    print(key, value)\n",
    "    print(value.shape)"
   ]
  },
  {
   "cell_type": "markdown",
   "id": "7e361976-b209-49e2-9a39-dd33fbaef057",
   "metadata": {},
   "source": [
    "### forward step\n",
    "\n",
    "$$\n",
    "z = w*x+b\n",
    "$$"
   ]
  },
  {
   "cell_type": "code",
   "execution_count": 21,
   "id": "5ab2ec35-15b8-4324-8d4e-f7083a7772b9",
   "metadata": {},
   "outputs": [],
   "source": [
    "def func_forward_propagation(parameters, X):\n",
    "    \"\"\"\n",
    "    forward step\n",
    "    :param parameters:\n",
    "    :param X: input vector\n",
    "    :return z: output vector\n",
    "    \"\"\"\n",
    "    w = parameters['w']\n",
    "    b = parameters['b']\n",
    "    z = np.dot(w.T, X) + b\n",
    "    return z"
   ]
  },
  {
   "cell_type": "code",
   "execution_count": 22,
   "id": "e5c16c7e-67f8-43de-86fa-d449c860ab55",
   "metadata": {},
   "outputs": [],
   "source": [
    "z = func_forward_propagation(parameters, X_norm)"
   ]
  },
  {
   "cell_type": "code",
   "execution_count": 23,
   "id": "7ba77962-6630-4f90-9114-e3e45e39ec07",
   "metadata": {},
   "outputs": [
    {
     "data": {
      "text/plain": [
       "(1, 97)"
      ]
     },
     "execution_count": 23,
     "metadata": {},
     "output_type": "execute_result"
    }
   ],
   "source": [
    "z.shape"
   ]
  },
  {
   "cell_type": "markdown",
   "id": "00cfcdcd-d929-45be-a408-4df5b6c5f701",
   "metadata": {},
   "source": [
    "### compute cost\n",
    "\n",
    "* cost公式\n",
    "\n",
    "    $$\n",
    "    cost = \\frac{1}{2m}(z-y)^2\n",
    "    $$"
   ]
  },
  {
   "cell_type": "code",
   "execution_count": 24,
   "id": "d63f2455-5572-4b93-a9ea-183de230ecf3",
   "metadata": {},
   "outputs": [],
   "source": [
    "def func_compute_cost(z, y):\n",
    "    \"\"\"\n",
    "    计算损失\n",
    "    :param z: output vector\n",
    "    :param y: true label\n",
    "    :return cost: cost\n",
    "    \"\"\"\n",
    "    m = y.shape[1]\n",
    "    \n",
    "    cost = 1 / (2 * m) * np.sum(np.power(z-y, 2))\n",
    "    cost = cost.squeeze()\n",
    "    return cost"
   ]
  },
  {
   "cell_type": "code",
   "execution_count": 25,
   "id": "2f97d27b-36c4-4978-bc6f-70fd73f0ead4",
   "metadata": {},
   "outputs": [],
   "source": [
    "cost = func_compute_cost(z, y)"
   ]
  },
  {
   "cell_type": "code",
   "execution_count": 26,
   "id": "a0b3463f-52d8-4434-b4ef-44631a9850bb",
   "metadata": {},
   "outputs": [
    {
     "data": {
      "text/plain": [
       "32.072733877455676"
      ]
     },
     "execution_count": 26,
     "metadata": {},
     "output_type": "execute_result"
    }
   ],
   "source": [
    "cost"
   ]
  },
  {
   "cell_type": "markdown",
   "id": "7cb97210-f81c-428b-b711-070460568607",
   "metadata": {},
   "source": [
    "### backward step\n",
    "\n",
    "* 梯度公式\n",
    "\n",
    "    $$\n",
    "    dw = 1/m * X^T(z-y)  \\\\\n",
    "    db = 1/m * (z-y)\n",
    "    $$"
   ]
  },
  {
   "cell_type": "code",
   "execution_count": 35,
   "id": "86e36006-6266-4546-a3cf-f38f5ac0c2d6",
   "metadata": {},
   "outputs": [],
   "source": [
    "def func_backward_propagation(parameters, z, X, y):\n",
    "    \"\"\"\n",
    "    计算梯度\n",
    "    :param parameters:\n",
    "    :param X:\n",
    "    :param y:\n",
    "    :param z:\n",
    "    :return grads:\n",
    "    \"\"\"\n",
    "    \n",
    "    m = X.shape[1]\n",
    "    \n",
    "    dw = 1 / m * np.dot(X, (z-y).T)\n",
    "    db = 1 / m * np.sum(z - y, axis=1, keepdims=True)\n",
    "    \n",
    "    grads = {\n",
    "        'dw': dw,\n",
    "        'db': db\n",
    "    }\n",
    "    return grads"
   ]
  },
  {
   "cell_type": "code",
   "execution_count": 36,
   "id": "b177d843-7805-481c-bddf-3c396d972ab3",
   "metadata": {},
   "outputs": [],
   "source": [
    "grads = func_backward_propagation(parameters, z, X, y)"
   ]
  },
  {
   "cell_type": "code",
   "execution_count": 37,
   "id": "a93e7b14-a8d1-4990-a4d6-54be7476e591",
   "metadata": {},
   "outputs": [
    {
     "data": {
      "text/plain": [
       "{'dw': array([[-65.32884975]]), 'db': array([[-5.83913505]])}"
      ]
     },
     "execution_count": 37,
     "metadata": {},
     "output_type": "execute_result"
    }
   ],
   "source": [
    "grads"
   ]
  },
  {
   "cell_type": "markdown",
   "id": "0bc19324-76a6-472e-85eb-03b9a34005f2",
   "metadata": {},
   "source": [
    "### 更新参数\n",
    "\n",
    "* 公式\n",
    "\n",
    "    $$\n",
    "    \\theta = \\theta - \\alpha * d\\theta\n",
    "    $$"
   ]
  },
  {
   "cell_type": "code",
   "execution_count": 38,
   "id": "e8e3e85a-d20e-4ad8-b742-0221f2ca0a90",
   "metadata": {},
   "outputs": [],
   "source": [
    "def func_update_parameters(parameters, grads, lr):\n",
    "    \"\"\"\n",
    "    更新参数\n",
    "    :param parameters:\n",
    "    :param grads:\n",
    "    :param lr:\n",
    "    :return parameters:\n",
    "    \"\"\"\n",
    "    w = parameters['w']\n",
    "    b = parameters['b']\n",
    "    \n",
    "    dw = grads['dw']\n",
    "    db = grads['db']\n",
    "    \n",
    "    w = w - lr * dw\n",
    "    b = b - lr * db\n",
    "    \n",
    "    parameters = {\n",
    "        'w': w,\n",
    "        'b': b\n",
    "    }\n",
    "    return parameters"
   ]
  },
  {
   "cell_type": "code",
   "execution_count": 39,
   "id": "866cb69d-486e-45bd-8335-8537f3bdfe8b",
   "metadata": {},
   "outputs": [],
   "source": [
    "parameters = func_update_parameters(parameters, grads, lr=0.01)"
   ]
  },
  {
   "cell_type": "code",
   "execution_count": 40,
   "id": "3c4fbac2-1d26-4abf-80bc-7816a4be6833",
   "metadata": {},
   "outputs": [
    {
     "data": {
      "text/plain": [
       "{'w': array([[0.6532885]]), 'b': array([[0.05839135]])}"
      ]
     },
     "execution_count": 40,
     "metadata": {},
     "output_type": "execute_result"
    }
   ],
   "source": [
    "parameters"
   ]
  },
  {
   "cell_type": "markdown",
   "id": "29b0a1c9-a15e-4636-99fd-cbfa3d8b1651",
   "metadata": {},
   "source": [
    "### 整合到模型"
   ]
  },
  {
   "cell_type": "code",
   "execution_count": 41,
   "id": "992ed29c-16c3-4dc5-b6b5-0a567764f95d",
   "metadata": {},
   "outputs": [],
   "source": [
    "def func_linear_model(X, y, num_epochs=10000, lr=0.01, print_cost=False):\n",
    "    \"\"\"\n",
    "    神经网络实现linear model\n",
    "    :param X:\n",
    "    :param y:\n",
    "    :param num_epochs:\n",
    "    :param lr:\n",
    "    :param print_cost:\n",
    "    :return parameters\n",
    "    \"\"\"\n",
    "    parameters = func_initial_parameters(X)\n",
    "    \n",
    "    for i in range(num_epochs):\n",
    "        z = func_forward_propagation(parameters, X)\n",
    "        cost = func_compute_cost(z, y)\n",
    "        grads = func_backward_propagation(parameters, z, X, y)\n",
    "        parameters = func_update_parameters(parameters, grads, lr)\n",
    "        \n",
    "        if i % 1000 == 0 and print_cost:\n",
    "            print('cost after %i epoch: %f' % (i, cost))\n",
    "    \n",
    "    return parameters"
   ]
  },
  {
   "cell_type": "code",
   "execution_count": 57,
   "id": "ccfd1c45-2c7d-4c6b-8b0d-ea8381577585",
   "metadata": {},
   "outputs": [
    {
     "name": "stdout",
     "output_type": "stream",
     "text": [
      "cost after 0 epoch: 32.072734\n",
      "cost after 1000 epoch: 4.515956\n",
      "cost after 2000 epoch: 4.478028\n",
      "cost after 3000 epoch: 4.477000\n",
      "cost after 4000 epoch: 4.476972\n",
      "cost after 5000 epoch: 4.476971\n",
      "cost after 6000 epoch: 4.476971\n",
      "cost after 7000 epoch: 4.476971\n",
      "cost after 8000 epoch: 4.476971\n",
      "cost after 9000 epoch: 4.476971\n"
     ]
    }
   ],
   "source": [
    "parameters = func_linear_model(X, y, print_cost=True)"
   ]
  },
  {
   "cell_type": "code",
   "execution_count": 58,
   "id": "dd5cad51-b1ae-4ad1-82c8-8869ee6c520a",
   "metadata": {},
   "outputs": [
    {
     "data": {
      "text/plain": [
       "{'w': array([[1.19303364]]), 'b': array([[-3.89578082]])}"
      ]
     },
     "execution_count": 58,
     "metadata": {},
     "output_type": "execute_result"
    }
   ],
   "source": [
    "parameters"
   ]
  },
  {
   "cell_type": "markdown",
   "id": "b608fff8-1582-4d48-a3a1-23e01f918d91",
   "metadata": {},
   "source": [
    "### 可视化"
   ]
  },
  {
   "cell_type": "code",
   "execution_count": 59,
   "id": "51857b88-3931-4c14-987f-bfc178b8f5c0",
   "metadata": {},
   "outputs": [],
   "source": [
    "w = parameters['w'].squeeze()\n",
    "b = parameters['b'].squeeze()"
   ]
  },
  {
   "cell_type": "code",
   "execution_count": 67,
   "id": "f88bd0e8-3bff-4e16-852f-94110c2dfd4e",
   "metadata": {},
   "outputs": [
    {
     "data": {
      "image/png": "[encoded data removed]",
      "text/plain": [
       "<Figure size 432x288 with 1 Axes>"
      ]
     },
     "metadata": {
      "needs_background": "light"
     },
     "output_type": "display_data"
    }
   ],
   "source": [
    "plt.scatter(X, y, label='training data')\n",
    "plt.plot(X.squeeze(), (w*X+b).squeeze(), label='pred')\n",
    "plt.legend(loc=2)\n",
    "plt.show()"
   ]
  },
  {
   "cell_type": "code",
   "execution_count": null,
   "id": "298fe7d3-e56c-4f7a-aa60-ee797e600ad5",
   "metadata": {},
   "outputs": [],
   "source": []
  }
 ],
 "metadata": {
  "kernelspec": {
   "display_name": "Python 3 (ipykernel)",
   "language": "python",
   "name": "python3"
  },
  "language_info": {
   "codemirror_mode": {
    "name": "ipython",
    "version": 3
   },
   "file_extension": ".py",
   "mimetype": "text/x-python",
   "name": "python",
   "nbconvert_exporter": "python",
   "pygments_lexer": "ipython3",
   "version": "3.8.2"
  }
 },
 "nbformat": 4,
 "nbformat_minor": 5
}
