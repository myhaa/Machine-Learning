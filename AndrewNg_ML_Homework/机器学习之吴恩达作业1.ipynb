{
 "cells": [
  {
   "cell_type": "markdown",
   "id": "47ab00a6-b63b-4e54-b186-2aeb864c23f7",
   "metadata": {
    "tags": []
   },
   "source": [
    "# linear regression(线性回归)\n",
    "\n",
    "* 注意：python版本为3.8\n",
    "\n",
    "## 参考\n",
    "\n",
    "* 视频：[地址](https://study.163.com/course/courseLearn.htm?courseId=1004570029#/learn/video?lessonId=1049052745&courseId=1004570029)"
   ]
  },
  {
   "cell_type": "markdown",
   "id": "19ffe8b5-2199-453c-bc76-aa9a2c2cd145",
   "metadata": {
    "tags": []
   },
   "source": [
    "## 导入模块"
   ]
  },
  {
   "cell_type": "code",
   "execution_count": 1,
   "id": "bedfab10-6a9b-4872-91c4-f9e0433d9ae0",
   "metadata": {},
   "outputs": [],
   "source": [
    "import numpy as np\n",
    "import pandas as pd\n",
    "import seaborn as sns\n",
    "import matplotlib.pyplot as plt\n",
    "import tensorflow as tf\n",
    "\n",
    "sns.set(context='notebook', style='whitegrid', palette='dark')\n",
    "%matplotlib inline"
   ]
  },
  {
   "cell_type": "markdown",
   "id": "79f05d8c-522d-4afd-8e68-442281c3b388",
   "metadata": {
    "tags": []
   },
   "source": [
    "## 一些函数\n",
    "\n",
    "1. 读取X,y函数`func_get_X_y()`\n",
    "2. 读取y函数`func_get_y()`\n",
    "3. 归一化函数`func_normalize_X()`"
   ]
  },
  {
   "cell_type": "code",
   "execution_count": 2,
   "id": "2e8c171e-8771-47de-87a2-dfbb3b8bb50a",
   "metadata": {},
   "outputs": [],
   "source": [
    "def func_get_X_y(df):\n",
    "    \"\"\"\n",
    "    得到X,y\n",
    "    :param df: A dataframe\n",
    "    :return X: ndarray matrix\n",
    "    :return y: target\n",
    "    \"\"\"\n",
    "    X = df.iloc[:, :-1].values\n",
    "    y = np.array(df.iloc[:, -1])\n",
    "    return X.T, np.expand_dims(y, axis=0)"
   ]
  },
  {
   "cell_type": "code",
   "execution_count": 3,
   "id": "71e7537d-3a0e-4d81-bb68-09e3cf0dc6f9",
   "metadata": {},
   "outputs": [],
   "source": [
    "def func_normalize_X(X):\n",
    "    \"\"\"\n",
    "    normalize X\n",
    "    :param X: ndarray matrix\n",
    "    :return X_norm: norm ndarray matrix\n",
    "    \"\"\"\n",
    "    X_mean = np.mean(X, axis=1, keepdims=True)\n",
    "    X_std = np.std(X, axis=1, keepdims=True)\n",
    "    X_norm = (X - X_mean) / X_std\n",
    "    return X_norm"
   ]
  },
  {
   "cell_type": "markdown",
   "id": "54698ef6-3cf7-406c-a9d3-7aeb81ad97f5",
   "metadata": {
    "tags": []
   },
   "source": [
    "## DNN实现linear regression\n",
    "\n",
    "### 步骤\n",
    "\n",
    "1. 初始化参数\n",
    "2. forward step\n",
    "3. 计算损失\n",
    "4. backward step\n",
    "5. 更新参数\n",
    "6. 将1-5步集合到一起\n",
    "7. predict"
   ]
  },
  {
   "cell_type": "markdown",
   "id": "69baab33-4504-4f6b-a6fe-23483e8b72f3",
   "metadata": {},
   "source": [
    "### 初始化参数"
   ]
  },
  {
   "cell_type": "code",
   "execution_count": 4,
   "id": "c81b1775-4369-47a3-a9fe-10cf6916076d",
   "metadata": {},
   "outputs": [],
   "source": [
    "def func_initial_parameters(X):\n",
    "    \"\"\"\n",
    "    初始化参数\n",
    "    :param X: input vector\n",
    "    :return params\n",
    "    \"\"\"\n",
    "    n_x = X.shape[0]\n",
    "    \n",
    "    w = np.zeros((n_x, 1))\n",
    "    b = np.zeros((1, 1))\n",
    "    \n",
    "    params = {\n",
    "        'w': w,\n",
    "        'b': b\n",
    "    }\n",
    "    return params"
   ]
  },
  {
   "cell_type": "markdown",
   "id": "7e361976-b209-49e2-9a39-dd33fbaef057",
   "metadata": {},
   "source": [
    "### forward step\n",
    "\n",
    "$$\n",
    "z = w*x+b\n",
    "$$"
   ]
  },
  {
   "cell_type": "code",
   "execution_count": 5,
   "id": "5ab2ec35-15b8-4324-8d4e-f7083a7772b9",
   "metadata": {},
   "outputs": [],
   "source": [
    "def func_forward_propagation(parameters, X):\n",
    "    \"\"\"\n",
    "    forward step\n",
    "    :param parameters:\n",
    "    :param X: input vector\n",
    "    :return z: output vector\n",
    "    \"\"\"\n",
    "    w = parameters['w']\n",
    "    b = parameters['b']\n",
    "    z = np.dot(w.T, X) + b\n",
    "    return z"
   ]
  },
  {
   "cell_type": "markdown",
   "id": "00cfcdcd-d929-45be-a408-4df5b6c5f701",
   "metadata": {},
   "source": [
    "### compute cost\n",
    "\n",
    "* cost公式\n",
    "\n",
    "    $$\n",
    "    cost = \\frac{1}{2m}(z-y)^2\n",
    "    $$"
   ]
  },
  {
   "cell_type": "code",
   "execution_count": 6,
   "id": "d63f2455-5572-4b93-a9ea-183de230ecf3",
   "metadata": {},
   "outputs": [],
   "source": [
    "def func_compute_cost(z, y):\n",
    "    \"\"\"\n",
    "    计算损失\n",
    "    :param z: output vector\n",
    "    :param y: true label\n",
    "    :return cost: cost\n",
    "    \"\"\"\n",
    "    m = y.shape[1]\n",
    "    \n",
    "    cost = 1 / (2 * m) * np.sum(np.power(z-y, 2))\n",
    "    cost = cost.squeeze()\n",
    "    return cost"
   ]
  },
  {
   "cell_type": "markdown",
   "id": "7cb97210-f81c-428b-b711-070460568607",
   "metadata": {
    "tags": []
   },
   "source": [
    "### backward step\n",
    "\n",
    "* 梯度公式\n",
    "\n",
    "    $$\n",
    "    dw = 1/m * X^T(z-y)  \\\\\n",
    "    db = 1/m * (z-y)\n",
    "    $$"
   ]
  },
  {
   "cell_type": "code",
   "execution_count": 7,
   "id": "86e36006-6266-4546-a3cf-f38f5ac0c2d6",
   "metadata": {},
   "outputs": [],
   "source": [
    "def func_backward_propagation(parameters, z, X, y):\n",
    "    \"\"\"\n",
    "    计算梯度\n",
    "    :param parameters:\n",
    "    :param X:\n",
    "    :param y:\n",
    "    :param z:\n",
    "    :return grads:\n",
    "    \"\"\"\n",
    "    \n",
    "    m = X.shape[1]\n",
    "    \n",
    "    dw = 1 / m * np.dot(X, (z-y).T)\n",
    "    db = 1 / m * np.sum(z - y, axis=1, keepdims=True)\n",
    "    \n",
    "    grads = {\n",
    "        'dw': dw,\n",
    "        'db': db\n",
    "    }\n",
    "    return grads"
   ]
  },
  {
   "cell_type": "markdown",
   "id": "0bc19324-76a6-472e-85eb-03b9a34005f2",
   "metadata": {},
   "source": [
    "### 更新参数\n",
    "\n",
    "* 公式\n",
    "\n",
    "    $$\n",
    "    \\theta = \\theta - \\alpha * d\\theta\n",
    "    $$"
   ]
  },
  {
   "cell_type": "code",
   "execution_count": 8,
   "id": "e8e3e85a-d20e-4ad8-b742-0221f2ca0a90",
   "metadata": {},
   "outputs": [],
   "source": [
    "def func_update_parameters(parameters, grads, lr):\n",
    "    \"\"\"\n",
    "    更新参数\n",
    "    :param parameters:\n",
    "    :param grads:\n",
    "    :param lr:\n",
    "    :return parameters:\n",
    "    \"\"\"\n",
    "    w = parameters['w']\n",
    "    b = parameters['b']\n",
    "    \n",
    "    dw = grads['dw']\n",
    "    db = grads['db']\n",
    "    \n",
    "    w = w - lr * dw\n",
    "    b = b - lr * db\n",
    "    \n",
    "    parameters = {\n",
    "        'w': w,\n",
    "        'b': b\n",
    "    }\n",
    "    return parameters"
   ]
  },
  {
   "cell_type": "markdown",
   "id": "bee0d175-a0e8-4745-bac3-f5d1bed9d2a3",
   "metadata": {
    "tags": []
   },
   "source": [
    "### 整合到模型"
   ]
  },
  {
   "cell_type": "code",
   "execution_count": 9,
   "id": "992ed29c-16c3-4dc5-b6b5-0a567764f95d",
   "metadata": {},
   "outputs": [],
   "source": [
    "def func_linear_model(X, y, num_epochs=10000, lr=0.01, print_cost=False):\n",
    "    \"\"\"\n",
    "    神经网络实现linear model\n",
    "    :param X:\n",
    "    :param y:\n",
    "    :param num_epochs:\n",
    "    :param lr:\n",
    "    :param print_cost:\n",
    "    :return parameters\n",
    "    \"\"\"\n",
    "    parameters = func_initial_parameters(X)\n",
    "    cost_list = []\n",
    "    for i in range(num_epochs):\n",
    "        z = func_forward_propagation(parameters, X)\n",
    "        cost = func_compute_cost(z, y)\n",
    "        cost_list.append(cost)\n",
    "        grads = func_backward_propagation(parameters, z, X, y)\n",
    "        parameters = func_update_parameters(parameters, grads, lr)\n",
    "        \n",
    "        if i % 1000 == 0 and print_cost:\n",
    "            print('cost after %i epoch: %f' % (i, cost))\n",
    "    \n",
    "    return parameters, cost_list"
   ]
  },
  {
   "cell_type": "markdown",
   "id": "f997340b-ae51-43be-96b8-ce5b5b4da00d",
   "metadata": {
    "tags": []
   },
   "source": [
    "## 单变量线性回归"
   ]
  },
  {
   "cell_type": "markdown",
   "id": "cdb3433a-3d24-49d5-9213-1ea0928a6a46",
   "metadata": {
    "tags": []
   },
   "source": [
    "### 导入数据"
   ]
  },
  {
   "cell_type": "code",
   "execution_count": 10,
   "id": "b37768ce-5c8b-46dc-9f48-98b09a5c8933",
   "metadata": {},
   "outputs": [],
   "source": [
    "root_path = './机器学习之吴恩达作业1/'"
   ]
  },
  {
   "cell_type": "code",
   "execution_count": 11,
   "id": "151dc634-a0c1-489d-85a9-11c217d79196",
   "metadata": {},
   "outputs": [],
   "source": [
    "ex1data1_path = root_path + 'ex1data1.txt'"
   ]
  },
  {
   "cell_type": "code",
   "execution_count": 12,
   "id": "c61cba01-f09d-40dc-a5ff-bce9e13875b8",
   "metadata": {},
   "outputs": [],
   "source": [
    "df = pd.read_csv(ex1data1_path, names=['population', 'profit'])"
   ]
  },
  {
   "cell_type": "markdown",
   "id": "8096fa15-91db-48ad-9ef4-3d184a2f2bf6",
   "metadata": {
    "tags": []
   },
   "source": [
    "### 数据eda"
   ]
  },
  {
   "cell_type": "code",
   "execution_count": 13,
   "id": "6c729570-7836-4602-a5c1-5ffc8a85b432",
   "metadata": {},
   "outputs": [
    {
     "data": {
      "text/html": [
       "<div>\n",
       "<style scoped>\n",
       "    .dataframe tbody tr th:only-of-type {\n",
       "        vertical-align: middle;\n",
       "    }\n",
       "\n",
       "    .dataframe tbody tr th {\n",
       "        vertical-align: top;\n",
       "    }\n",
       "\n",
       "    .dataframe thead th {\n",
       "        text-align: right;\n",
       "    }\n",
       "</style>\n",
       "<table border=\"1\" class=\"dataframe\">\n",
       "  <thead>\n",
       "    <tr style=\"text-align: right;\">\n",
       "      <th></th>\n",
       "      <th>population</th>\n",
       "      <th>profit</th>\n",
       "    </tr>\n",
       "  </thead>\n",
       "  <tbody>\n",
       "    <tr>\n",
       "      <th>0</th>\n",
       "      <td>6.1101</td>\n",
       "      <td>17.5920</td>\n",
       "    </tr>\n",
       "    <tr>\n",
       "      <th>1</th>\n",
       "      <td>5.5277</td>\n",
       "      <td>9.1302</td>\n",
       "    </tr>\n",
       "    <tr>\n",
       "      <th>2</th>\n",
       "      <td>8.5186</td>\n",
       "      <td>13.6620</td>\n",
       "    </tr>\n",
       "    <tr>\n",
       "      <th>3</th>\n",
       "      <td>7.0032</td>\n",
       "      <td>11.8540</td>\n",
       "    </tr>\n",
       "    <tr>\n",
       "      <th>4</th>\n",
       "      <td>5.8598</td>\n",
       "      <td>6.8233</td>\n",
       "    </tr>\n",
       "  </tbody>\n",
       "</table>\n",
       "</div>"
      ],
      "text/plain": [
       "   population   profit\n",
       "0      6.1101  17.5920\n",
       "1      5.5277   9.1302\n",
       "2      8.5186  13.6620\n",
       "3      7.0032  11.8540\n",
       "4      5.8598   6.8233"
      ]
     },
     "execution_count": 13,
     "metadata": {},
     "output_type": "execute_result"
    }
   ],
   "source": [
    "df.head()"
   ]
  },
  {
   "cell_type": "code",
   "execution_count": 14,
   "id": "a4870aa2-88a4-4e69-a647-c9ebe38dcafd",
   "metadata": {},
   "outputs": [
    {
     "name": "stdout",
     "output_type": "stream",
     "text": [
      "<class 'pandas.core.frame.DataFrame'>\n",
      "RangeIndex: 97 entries, 0 to 96\n",
      "Data columns (total 2 columns):\n",
      " #   Column      Non-Null Count  Dtype  \n",
      "---  ------      --------------  -----  \n",
      " 0   population  97 non-null     float64\n",
      " 1   profit      97 non-null     float64\n",
      "dtypes: float64(2)\n",
      "memory usage: 1.6 KB\n"
     ]
    }
   ],
   "source": [
    "df.info()"
   ]
  },
  {
   "cell_type": "code",
   "execution_count": 15,
   "id": "83d98c68-ed21-4ce2-ae79-5d58bf093733",
   "metadata": {},
   "outputs": [
    {
     "data": {
      "text/html": [
       "<div>\n",
       "<style scoped>\n",
       "    .dataframe tbody tr th:only-of-type {\n",
       "        vertical-align: middle;\n",
       "    }\n",
       "\n",
       "    .dataframe tbody tr th {\n",
       "        vertical-align: top;\n",
       "    }\n",
       "\n",
       "    .dataframe thead th {\n",
       "        text-align: right;\n",
       "    }\n",
       "</style>\n",
       "<table border=\"1\" class=\"dataframe\">\n",
       "  <thead>\n",
       "    <tr style=\"text-align: right;\">\n",
       "      <th></th>\n",
       "      <th>population</th>\n",
       "      <th>profit</th>\n",
       "    </tr>\n",
       "  </thead>\n",
       "  <tbody>\n",
       "    <tr>\n",
       "      <th>count</th>\n",
       "      <td>97.000000</td>\n",
       "      <td>97.000000</td>\n",
       "    </tr>\n",
       "    <tr>\n",
       "      <th>mean</th>\n",
       "      <td>8.159800</td>\n",
       "      <td>5.839135</td>\n",
       "    </tr>\n",
       "    <tr>\n",
       "      <th>std</th>\n",
       "      <td>3.869884</td>\n",
       "      <td>5.510262</td>\n",
       "    </tr>\n",
       "    <tr>\n",
       "      <th>min</th>\n",
       "      <td>5.026900</td>\n",
       "      <td>-2.680700</td>\n",
       "    </tr>\n",
       "    <tr>\n",
       "      <th>25%</th>\n",
       "      <td>5.707700</td>\n",
       "      <td>1.986900</td>\n",
       "    </tr>\n",
       "    <tr>\n",
       "      <th>50%</th>\n",
       "      <td>6.589400</td>\n",
       "      <td>4.562300</td>\n",
       "    </tr>\n",
       "    <tr>\n",
       "      <th>75%</th>\n",
       "      <td>8.578100</td>\n",
       "      <td>7.046700</td>\n",
       "    </tr>\n",
       "    <tr>\n",
       "      <th>max</th>\n",
       "      <td>22.203000</td>\n",
       "      <td>24.147000</td>\n",
       "    </tr>\n",
       "  </tbody>\n",
       "</table>\n",
       "</div>"
      ],
      "text/plain": [
       "       population     profit\n",
       "count   97.000000  97.000000\n",
       "mean     8.159800   5.839135\n",
       "std      3.869884   5.510262\n",
       "min      5.026900  -2.680700\n",
       "25%      5.707700   1.986900\n",
       "50%      6.589400   4.562300\n",
       "75%      8.578100   7.046700\n",
       "max     22.203000  24.147000"
      ]
     },
     "execution_count": 15,
     "metadata": {},
     "output_type": "execute_result"
    }
   ],
   "source": [
    "df.describe()"
   ]
  },
  {
   "cell_type": "code",
   "execution_count": 16,
   "id": "b8dd8056-39ed-4a21-a679-6b0fc58fafc2",
   "metadata": {},
   "outputs": [
    {
     "data": {
      "image/png": "[encoded data removed]",
      "text/plain": [
       "<Figure size 432x432 with 1 Axes>"
      ]
     },
     "metadata": {
      "needs_background": "light"
     },
     "output_type": "display_data"
    }
   ],
   "source": [
    "# Plot data and regression model fits across a FacetGrid.\n",
    "sns.lmplot(x='population', y='profit', data=df, height=6, fit_reg=False)\n",
    "plt.show()"
   ]
  },
  {
   "cell_type": "code",
   "execution_count": 17,
   "id": "03acc05b-96c8-4527-b3e1-6ea6c7c6ea99",
   "metadata": {},
   "outputs": [],
   "source": [
    "X, y = func_get_X_y(df)"
   ]
  },
  {
   "cell_type": "code",
   "execution_count": 18,
   "id": "9036fcc6-5001-46e0-a4e3-137233b624db",
   "metadata": {},
   "outputs": [
    {
     "data": {
      "text/plain": [
       "(1, 97)"
      ]
     },
     "execution_count": 18,
     "metadata": {},
     "output_type": "execute_result"
    }
   ],
   "source": [
    "X.shape"
   ]
  },
  {
   "cell_type": "code",
   "execution_count": 19,
   "id": "8d8c1c57-d422-4a66-91f0-88a0229077a2",
   "metadata": {},
   "outputs": [
    {
     "data": {
      "text/plain": [
       "(1, 97)"
      ]
     },
     "execution_count": 19,
     "metadata": {},
     "output_type": "execute_result"
    }
   ],
   "source": [
    "y.shape"
   ]
  },
  {
   "cell_type": "code",
   "execution_count": 20,
   "id": "4233571e-8366-432e-990f-a30344f3347c",
   "metadata": {},
   "outputs": [
    {
     "data": {
      "text/plain": [
       "array([[8.1598]])"
      ]
     },
     "execution_count": 20,
     "metadata": {},
     "output_type": "execute_result"
    }
   ],
   "source": [
    "np.mean(X, axis=1, keepdims=True)"
   ]
  },
  {
   "cell_type": "code",
   "execution_count": 21,
   "id": "2709c36c-6749-4e63-bbea-fc532720822d",
   "metadata": {},
   "outputs": [
    {
     "data": {
      "text/plain": [
       "array([[3.849884]])"
      ]
     },
     "execution_count": 21,
     "metadata": {},
     "output_type": "execute_result"
    }
   ],
   "source": [
    "np.std(X, axis=1, keepdims=True)"
   ]
  },
  {
   "cell_type": "code",
   "execution_count": 22,
   "id": "5595fc8a-3198-48e5-962a-6892e95984d2",
   "metadata": {},
   "outputs": [],
   "source": [
    "X_norm = func_normalize_X(X)"
   ]
  },
  {
   "cell_type": "code",
   "execution_count": 23,
   "id": "e5a95ee6-89ce-4d6a-a90c-550d634f4536",
   "metadata": {},
   "outputs": [
    {
     "data": {
      "text/plain": [
       "array([[3.1933219e-16]])"
      ]
     },
     "execution_count": 23,
     "metadata": {},
     "output_type": "execute_result"
    }
   ],
   "source": [
    "np.mean(X_norm, axis=1, keepdims=True)"
   ]
  },
  {
   "cell_type": "code",
   "execution_count": 24,
   "id": "7cb3cb06-08eb-43ec-84cf-bcd666aeb2ea",
   "metadata": {},
   "outputs": [
    {
     "data": {
      "text/plain": [
       "array([[1.]])"
      ]
     },
     "execution_count": 24,
     "metadata": {},
     "output_type": "execute_result"
    }
   ],
   "source": [
    "np.std(X_norm, axis=1, keepdims=True)"
   ]
  },
  {
   "cell_type": "markdown",
   "id": "4f9d0698-8036-4fec-88f1-1f24fdb449e6",
   "metadata": {},
   "source": [
    "### dnn函数测试"
   ]
  },
  {
   "cell_type": "code",
   "execution_count": 25,
   "id": "412165a8-0207-4ec9-8564-23440d2b32b3",
   "metadata": {},
   "outputs": [],
   "source": [
    "parameters = func_initial_parameters(X_norm)"
   ]
  },
  {
   "cell_type": "code",
   "execution_count": 26,
   "id": "985a322e-7cec-47d2-a08c-62f1182056cd",
   "metadata": {},
   "outputs": [
    {
     "name": "stdout",
     "output_type": "stream",
     "text": [
      "w [[0.]]\n",
      "(1, 1)\n",
      "b [[0.]]\n",
      "(1, 1)\n"
     ]
    }
   ],
   "source": [
    "for key, value in parameters.items():\n",
    "    print(key, value)\n",
    "    print(value.shape)"
   ]
  },
  {
   "cell_type": "code",
   "execution_count": 27,
   "id": "96a72e45-2366-4803-a4dc-ba24ca19e30a",
   "metadata": {},
   "outputs": [],
   "source": [
    "z = func_forward_propagation(parameters, X_norm)"
   ]
  },
  {
   "cell_type": "code",
   "execution_count": 28,
   "id": "daabc6fb-d040-4cf6-b2c5-bf3669218f59",
   "metadata": {},
   "outputs": [
    {
     "data": {
      "text/plain": [
       "(1, 97)"
      ]
     },
     "execution_count": 28,
     "metadata": {},
     "output_type": "execute_result"
    }
   ],
   "source": [
    "z.shape"
   ]
  },
  {
   "cell_type": "code",
   "execution_count": 29,
   "id": "71b58da1-e180-48cf-b682-f72915b1f3bd",
   "metadata": {},
   "outputs": [],
   "source": [
    "cost = func_compute_cost(z, y)"
   ]
  },
  {
   "cell_type": "code",
   "execution_count": 30,
   "id": "8ffc90e2-4251-4a9c-be80-9b386f96a741",
   "metadata": {},
   "outputs": [
    {
     "data": {
      "text/plain": [
       "32.072733877455676"
      ]
     },
     "execution_count": 30,
     "metadata": {},
     "output_type": "execute_result"
    }
   ],
   "source": [
    "cost"
   ]
  },
  {
   "cell_type": "code",
   "execution_count": 31,
   "id": "8d7de249-1ec2-4075-9bb8-c7fad09b9ac3",
   "metadata": {},
   "outputs": [],
   "source": [
    "grads = func_backward_propagation(parameters, z, X, y)"
   ]
  },
  {
   "cell_type": "code",
   "execution_count": 32,
   "id": "f40dac1a-32a9-468c-b2ac-248954697fcf",
   "metadata": {},
   "outputs": [
    {
     "data": {
      "text/plain": [
       "{'dw': array([[-65.32884975]]), 'db': array([[-5.83913505]])}"
      ]
     },
     "execution_count": 32,
     "metadata": {},
     "output_type": "execute_result"
    }
   ],
   "source": [
    "grads"
   ]
  },
  {
   "cell_type": "code",
   "execution_count": 33,
   "id": "cc150cd7-ef91-4453-aac7-905518272720",
   "metadata": {},
   "outputs": [],
   "source": [
    "parameters = func_update_parameters(parameters, grads, lr=0.01)"
   ]
  },
  {
   "cell_type": "code",
   "execution_count": 34,
   "id": "2e1e6e92-eb86-4044-b345-d0c36ede779f",
   "metadata": {},
   "outputs": [
    {
     "data": {
      "text/plain": [
       "{'w': array([[0.6532885]]), 'b': array([[0.05839135]])}"
      ]
     },
     "execution_count": 34,
     "metadata": {},
     "output_type": "execute_result"
    }
   ],
   "source": [
    "parameters"
   ]
  },
  {
   "cell_type": "markdown",
   "id": "ad1484eb-b956-45cc-a11a-e0749fa6f8a1",
   "metadata": {},
   "source": [
    "### 自定义DNN"
   ]
  },
  {
   "cell_type": "code",
   "execution_count": 35,
   "id": "0b41868c-64d1-4eca-80a2-3ea11108e524",
   "metadata": {},
   "outputs": [
    {
     "name": "stdout",
     "output_type": "stream",
     "text": [
      "cost after 0 epoch: 32.072734\n",
      "cost after 1000 epoch: 4.515956\n",
      "cost after 2000 epoch: 4.478028\n",
      "cost after 3000 epoch: 4.477000\n",
      "cost after 4000 epoch: 4.476972\n",
      "cost after 5000 epoch: 4.476971\n",
      "cost after 6000 epoch: 4.476971\n",
      "cost after 7000 epoch: 4.476971\n",
      "cost after 8000 epoch: 4.476971\n",
      "cost after 9000 epoch: 4.476971\n"
     ]
    }
   ],
   "source": [
    "parameters, cost_list = func_linear_model(X, y, print_cost=True)"
   ]
  },
  {
   "cell_type": "code",
   "execution_count": 36,
   "id": "110fb013-376e-4658-8cf5-97b686d66014",
   "metadata": {},
   "outputs": [
    {
     "data": {
      "text/plain": [
       "{'w': array([[1.19303364]]), 'b': array([[-3.89578082]])}"
      ]
     },
     "execution_count": 36,
     "metadata": {},
     "output_type": "execute_result"
    }
   ],
   "source": [
    "parameters"
   ]
  },
  {
   "cell_type": "code",
   "execution_count": 37,
   "id": "1f94a8c2-dd78-4487-a975-78f49d18ab8b",
   "metadata": {},
   "outputs": [],
   "source": [
    "# cost_list"
   ]
  },
  {
   "cell_type": "markdown",
   "id": "36d0a663-5dce-444f-994b-516c557af385",
   "metadata": {},
   "source": [
    "### 可视化"
   ]
  },
  {
   "cell_type": "code",
   "execution_count": 38,
   "id": "6ab23f77-232f-4bef-bc0a-ea024b4ddfec",
   "metadata": {},
   "outputs": [],
   "source": [
    "w = parameters['w'].squeeze()\n",
    "b = parameters['b'].squeeze()"
   ]
  },
  {
   "cell_type": "code",
   "execution_count": 39,
   "id": "d550c6af-59da-43b2-b60e-82c0ed04ce5c",
   "metadata": {},
   "outputs": [
    {
     "data": {
      "image/png": "[encoded data removed]",
      "text/plain": [
       "<Figure size 432x288 with 1 Axes>"
      ]
     },
     "metadata": {
      "needs_background": "light"
     },
     "output_type": "display_data"
    }
   ],
   "source": [
    "plt.scatter(X, y, label='training data')\n",
    "plt.plot(X.squeeze(), (w*X+b).squeeze(), label='pred')\n",
    "plt.legend(loc=2)\n",
    "plt.show()"
   ]
  },
  {
   "cell_type": "code",
   "execution_count": 40,
   "id": "80d17ca6-2132-4eda-8584-59ba6ed415b0",
   "metadata": {},
   "outputs": [
    {
     "data": {
      "image/png": "[encoded data removed]",
      "text/plain": [
       "<Figure size 864x576 with 1 Axes>"
      ]
     },
     "metadata": {
      "needs_background": "light"
     },
     "output_type": "display_data"
    }
   ],
   "source": [
    "fig, ax = plt.subplots(figsize=(12, 8))\n",
    "ax.plot(range(len(cost_list)), cost_list, 'r')\n",
    "ax.set_xlabel('epochs')\n",
    "ax.set_ylabel('cost')\n",
    "ax.set_title('error vs. training epoch')\n",
    "plt.show()"
   ]
  },
  {
   "cell_type": "markdown",
   "id": "f41386c8-881b-4330-80fa-ce9f318e22f1",
   "metadata": {},
   "source": [
    "### sklearn"
   ]
  },
  {
   "cell_type": "code",
   "execution_count": 41,
   "id": "3e930701-b11a-49dc-8b1e-85ff89c4b023",
   "metadata": {},
   "outputs": [],
   "source": [
    "from sklearn.linear_model import LinearRegression"
   ]
  },
  {
   "cell_type": "code",
   "execution_count": 42,
   "id": "17ffd366-9233-4584-8010-34fc788313af",
   "metadata": {},
   "outputs": [
    {
     "data": {
      "text/plain": [
       "LinearRegression()"
      ]
     },
     "execution_count": 42,
     "metadata": {},
     "output_type": "execute_result"
    }
   ],
   "source": [
    "lr = LinearRegression()\n",
    "lr.fit(X.T, y.squeeze())"
   ]
  },
  {
   "cell_type": "code",
   "execution_count": 43,
   "id": "42fdcefd-f196-437a-b6d1-39bc378f29a0",
   "metadata": {},
   "outputs": [
    {
     "data": {
      "text/plain": [
       "array([1.19303364])"
      ]
     },
     "execution_count": 43,
     "metadata": {},
     "output_type": "execute_result"
    }
   ],
   "source": [
    "lr.coef_"
   ]
  },
  {
   "cell_type": "code",
   "execution_count": 44,
   "id": "f69b36af-bd8c-4aa4-bd73-aa1799f09820",
   "metadata": {},
   "outputs": [
    {
     "data": {
      "text/plain": [
       "-3.8957808783118484"
      ]
     },
     "execution_count": 44,
     "metadata": {},
     "output_type": "execute_result"
    }
   ],
   "source": [
    "lr.intercept_"
   ]
  },
  {
   "cell_type": "markdown",
   "id": "22c8aa9c-fcd7-4e2e-9b3e-ad578f96fc5d",
   "metadata": {
    "tags": []
   },
   "source": [
    "## 多变量线性回归"
   ]
  },
  {
   "cell_type": "markdown",
   "id": "310bca0e-78cc-4e52-9cc4-61a5ed50147d",
   "metadata": {},
   "source": [
    "### 导入数据"
   ]
  },
  {
   "cell_type": "code",
   "execution_count": 45,
   "id": "c58ac898-6848-4b9d-96fe-a6dc1567112f",
   "metadata": {},
   "outputs": [],
   "source": [
    "ex1data2_path = root_path + 'ex1data2.txt'"
   ]
  },
  {
   "cell_type": "code",
   "execution_count": 46,
   "id": "9f2d8649-35c7-4fc0-8413-0cca5dc58979",
   "metadata": {},
   "outputs": [],
   "source": [
    "df2 = pd.read_csv(ex1data2_path, header=None, names=['size', 'bedrooms', 'price'])"
   ]
  },
  {
   "cell_type": "markdown",
   "id": "adf47b0b-5457-4d84-9eab-c7ad77061f35",
   "metadata": {},
   "source": [
    "### 数据eda"
   ]
  },
  {
   "cell_type": "code",
   "execution_count": 47,
   "id": "29634d45-8777-426b-8de4-04af47b607ba",
   "metadata": {},
   "outputs": [
    {
     "data": {
      "text/html": [
       "<div>\n",
       "<style scoped>\n",
       "    .dataframe tbody tr th:only-of-type {\n",
       "        vertical-align: middle;\n",
       "    }\n",
       "\n",
       "    .dataframe tbody tr th {\n",
       "        vertical-align: top;\n",
       "    }\n",
       "\n",
       "    .dataframe thead th {\n",
       "        text-align: right;\n",
       "    }\n",
       "</style>\n",
       "<table border=\"1\" class=\"dataframe\">\n",
       "  <thead>\n",
       "    <tr style=\"text-align: right;\">\n",
       "      <th></th>\n",
       "      <th>size</th>\n",
       "      <th>bedrooms</th>\n",
       "      <th>price</th>\n",
       "    </tr>\n",
       "  </thead>\n",
       "  <tbody>\n",
       "    <tr>\n",
       "      <th>0</th>\n",
       "      <td>2104</td>\n",
       "      <td>3</td>\n",
       "      <td>399900</td>\n",
       "    </tr>\n",
       "    <tr>\n",
       "      <th>1</th>\n",
       "      <td>1600</td>\n",
       "      <td>3</td>\n",
       "      <td>329900</td>\n",
       "    </tr>\n",
       "    <tr>\n",
       "      <th>2</th>\n",
       "      <td>2400</td>\n",
       "      <td>3</td>\n",
       "      <td>369000</td>\n",
       "    </tr>\n",
       "    <tr>\n",
       "      <th>3</th>\n",
       "      <td>1416</td>\n",
       "      <td>2</td>\n",
       "      <td>232000</td>\n",
       "    </tr>\n",
       "    <tr>\n",
       "      <th>4</th>\n",
       "      <td>3000</td>\n",
       "      <td>4</td>\n",
       "      <td>539900</td>\n",
       "    </tr>\n",
       "  </tbody>\n",
       "</table>\n",
       "</div>"
      ],
      "text/plain": [
       "   size  bedrooms   price\n",
       "0  2104         3  399900\n",
       "1  1600         3  329900\n",
       "2  2400         3  369000\n",
       "3  1416         2  232000\n",
       "4  3000         4  539900"
      ]
     },
     "execution_count": 47,
     "metadata": {},
     "output_type": "execute_result"
    }
   ],
   "source": [
    "df2.head()"
   ]
  },
  {
   "cell_type": "code",
   "execution_count": 48,
   "id": "36a0b0a5-2b17-4fdc-b370-1185f794b4c3",
   "metadata": {},
   "outputs": [],
   "source": [
    "df2_norm = (df2 - df2.mean()) / df2.std()"
   ]
  },
  {
   "cell_type": "code",
   "execution_count": 49,
   "id": "1ef8a8ff-df7f-4e6d-9c63-2b402d9bf19d",
   "metadata": {},
   "outputs": [
    {
     "data": {
      "text/html": [
       "<div>\n",
       "<style scoped>\n",
       "    .dataframe tbody tr th:only-of-type {\n",
       "        vertical-align: middle;\n",
       "    }\n",
       "\n",
       "    .dataframe tbody tr th {\n",
       "        vertical-align: top;\n",
       "    }\n",
       "\n",
       "    .dataframe thead th {\n",
       "        text-align: right;\n",
       "    }\n",
       "</style>\n",
       "<table border=\"1\" class=\"dataframe\">\n",
       "  <thead>\n",
       "    <tr style=\"text-align: right;\">\n",
       "      <th></th>\n",
       "      <th>size</th>\n",
       "      <th>bedrooms</th>\n",
       "      <th>price</th>\n",
       "    </tr>\n",
       "  </thead>\n",
       "  <tbody>\n",
       "    <tr>\n",
       "      <th>0</th>\n",
       "      <td>0.130010</td>\n",
       "      <td>-0.223675</td>\n",
       "      <td>0.475747</td>\n",
       "    </tr>\n",
       "    <tr>\n",
       "      <th>1</th>\n",
       "      <td>-0.504190</td>\n",
       "      <td>-0.223675</td>\n",
       "      <td>-0.084074</td>\n",
       "    </tr>\n",
       "    <tr>\n",
       "      <th>2</th>\n",
       "      <td>0.502476</td>\n",
       "      <td>-0.223675</td>\n",
       "      <td>0.228626</td>\n",
       "    </tr>\n",
       "    <tr>\n",
       "      <th>3</th>\n",
       "      <td>-0.735723</td>\n",
       "      <td>-1.537767</td>\n",
       "      <td>-0.867025</td>\n",
       "    </tr>\n",
       "    <tr>\n",
       "      <th>4</th>\n",
       "      <td>1.257476</td>\n",
       "      <td>1.090417</td>\n",
       "      <td>1.595389</td>\n",
       "    </tr>\n",
       "  </tbody>\n",
       "</table>\n",
       "</div>"
      ],
      "text/plain": [
       "       size  bedrooms     price\n",
       "0  0.130010 -0.223675  0.475747\n",
       "1 -0.504190 -0.223675 -0.084074\n",
       "2  0.502476 -0.223675  0.228626\n",
       "3 -0.735723 -1.537767 -0.867025\n",
       "4  1.257476  1.090417  1.595389"
      ]
     },
     "execution_count": 49,
     "metadata": {},
     "output_type": "execute_result"
    }
   ],
   "source": [
    "df2_norm.head()"
   ]
  },
  {
   "cell_type": "code",
   "execution_count": 50,
   "id": "668812a9-b0c6-4585-8b82-e03b167ee266",
   "metadata": {},
   "outputs": [],
   "source": [
    "X, y = func_get_X_y(df2_norm)"
   ]
  },
  {
   "cell_type": "code",
   "execution_count": 51,
   "id": "91a1e618-6352-49e5-a199-96eabf6a32fe",
   "metadata": {},
   "outputs": [
    {
     "data": {
      "text/plain": [
       "(2, 47)"
      ]
     },
     "execution_count": 51,
     "metadata": {},
     "output_type": "execute_result"
    }
   ],
   "source": [
    "X.shape"
   ]
  },
  {
   "cell_type": "code",
   "execution_count": 52,
   "id": "2531ebc9-17d3-4740-a550-037752e04f24",
   "metadata": {},
   "outputs": [
    {
     "data": {
      "text/plain": [
       "(1, 47)"
      ]
     },
     "execution_count": 52,
     "metadata": {},
     "output_type": "execute_result"
    }
   ],
   "source": [
    "y.shape"
   ]
  },
  {
   "cell_type": "markdown",
   "id": "bfa71e1f-f7f6-4d37-8ad5-83d661f11af4",
   "metadata": {},
   "source": [
    "### 自定义DNN"
   ]
  },
  {
   "cell_type": "code",
   "execution_count": 53,
   "id": "5648a3d8-3774-4d9e-b732-ca74c2421e4d",
   "metadata": {},
   "outputs": [
    {
     "name": "stdout",
     "output_type": "stream",
     "text": [
      "cost after 0 epoch: 0.489362\n",
      "cost after 1000 epoch: 0.130703\n",
      "cost after 2000 epoch: 0.130686\n",
      "cost after 3000 epoch: 0.130686\n",
      "cost after 4000 epoch: 0.130686\n",
      "cost after 5000 epoch: 0.130686\n",
      "cost after 6000 epoch: 0.130686\n",
      "cost after 7000 epoch: 0.130686\n",
      "cost after 8000 epoch: 0.130686\n",
      "cost after 9000 epoch: 0.130686\n"
     ]
    }
   ],
   "source": [
    "parameters, cost_list = func_linear_model(X, y, print_cost=True)"
   ]
  },
  {
   "cell_type": "code",
   "execution_count": 54,
   "id": "036929e5-c72a-430a-a8a5-85ddb4bedba3",
   "metadata": {},
   "outputs": [
    {
     "data": {
      "text/plain": [
       "{'w': array([[ 0.88476599],\n",
       "        [-0.05317882]]),\n",
       " 'b': array([[-1.11034113e-16]])}"
      ]
     },
     "execution_count": 54,
     "metadata": {},
     "output_type": "execute_result"
    }
   ],
   "source": [
    "parameters"
   ]
  },
  {
   "cell_type": "code",
   "execution_count": 55,
   "id": "dcdda91f-21fb-4ff9-b0da-4b03064209d4",
   "metadata": {},
   "outputs": [
    {
     "data": {
      "image/png": "[encoded data removed]",
      "text/plain": [
       "<Figure size 864x576 with 1 Axes>"
      ]
     },
     "metadata": {
      "needs_background": "light"
     },
     "output_type": "display_data"
    }
   ],
   "source": [
    "fig, ax = plt.subplots(figsize=(12, 8))\n",
    "ax.plot(range(len(cost_list)), cost_list, 'r')\n",
    "ax.set_xlabel('epochs')\n",
    "ax.set_ylabel('cost')\n",
    "ax.set_title('error vs. training epoch')\n",
    "plt.show()"
   ]
  },
  {
   "cell_type": "markdown",
   "id": "d2c19ec9-7702-41eb-8924-e21a666e9a63",
   "metadata": {},
   "source": [
    "### sklearn"
   ]
  },
  {
   "cell_type": "code",
   "execution_count": 56,
   "id": "5f98cdcb-cf2a-462d-b464-eb48e1eaec52",
   "metadata": {},
   "outputs": [
    {
     "data": {
      "text/plain": [
       "LinearRegression()"
      ]
     },
     "execution_count": 56,
     "metadata": {},
     "output_type": "execute_result"
    }
   ],
   "source": [
    "lr = LinearRegression()\n",
    "lr.fit(X.T, y.squeeze())"
   ]
  },
  {
   "cell_type": "code",
   "execution_count": 57,
   "id": "add9e6e3-f423-4518-a182-2b8b08b99d69",
   "metadata": {},
   "outputs": [
    {
     "data": {
      "text/plain": [
       "array([ 0.88476599, -0.05317882])"
      ]
     },
     "execution_count": 57,
     "metadata": {},
     "output_type": "execute_result"
    }
   ],
   "source": [
    "lr.coef_"
   ]
  },
  {
   "cell_type": "code",
   "execution_count": 58,
   "id": "cc0cba2a-160e-48c8-a37e-01a492457c2f",
   "metadata": {},
   "outputs": [
    {
     "data": {
      "text/plain": [
       "-1.1568575416727595e-16"
      ]
     },
     "execution_count": 58,
     "metadata": {},
     "output_type": "execute_result"
    }
   ],
   "source": [
    "lr.intercept_"
   ]
  },
  {
   "cell_type": "markdown",
   "id": "78f9d645-fa05-4cef-aed7-78e29652b9a9",
   "metadata": {},
   "source": [
    "## TF2实现线性回归\n",
    "\n",
    "### 参考\n",
    "\n",
    "* [地址](https://huhuhang.com/post/machine-learning/tensorflow-2-0-02)\n",
    "\n",
    "### 低阶API实现"
   ]
  },
  {
   "cell_type": "code",
   "execution_count": 59,
   "id": "89e238e0-4ef4-469b-a5b7-61a664642891",
   "metadata": {},
   "outputs": [
    {
     "data": {
      "text/plain": [
       "(2, 47)"
      ]
     },
     "execution_count": 59,
     "metadata": {},
     "output_type": "execute_result"
    }
   ],
   "source": [
    "X.shape"
   ]
  },
  {
   "cell_type": "code",
   "execution_count": 60,
   "id": "494eb9be-6662-4b01-aaaf-61f8980e511e",
   "metadata": {},
   "outputs": [
    {
     "data": {
      "text/plain": [
       "(1, 47)"
      ]
     },
     "execution_count": 60,
     "metadata": {},
     "output_type": "execute_result"
    }
   ],
   "source": [
    "y.shape"
   ]
  },
  {
   "cell_type": "code",
   "execution_count": 61,
   "id": "e954bd94-bae4-4304-b3d0-fa32c010c5ca",
   "metadata": {},
   "outputs": [],
   "source": [
    "import tensorflow as tf\n",
    "tf.random.set_seed(2030)"
   ]
  },
  {
   "cell_type": "code",
   "execution_count": 62,
   "id": "1bebe3db-4f8d-47fb-bfc8-c3c1fdbff436",
   "metadata": {},
   "outputs": [
    {
     "name": "stderr",
     "output_type": "stream",
     "text": [
      "2021-09-07 23:40:36.093565: I tensorflow/core/platform/cpu_feature_guard.cc:142] This TensorFlow binary is optimized with oneAPI Deep Neural Network Library (oneDNN) to use the following CPU instructions in performance-critical operations:  AVX2 FMA\n",
      "To enable them in other operations, rebuild TensorFlow with the appropriate compiler flags.\n"
     ]
    }
   ],
   "source": [
    "X = tf.constant(X, dtype=tf.float32)\n",
    "y = tf.constant(y, dtype=tf.float32)"
   ]
  },
  {
   "cell_type": "code",
   "execution_count": 63,
   "id": "2df2edb3-4627-433c-b6ba-e8d696bc3957",
   "metadata": {},
   "outputs": [
    {
     "data": {
      "text/plain": [
       "<tf.Tensor: shape=(2, 47), dtype=float32, numpy=\n",
       "array([[ 1.3000987e-01, -5.0418985e-01,  5.0247633e-01, -7.3572308e-01,\n",
       "         1.2574760e+00, -1.9731728e-02, -5.8723980e-01, -7.2188139e-01,\n",
       "        -7.8102303e-01, -6.3757312e-01, -7.6356702e-02, -8.5673720e-04,\n",
       "        -1.3927335e-01,  3.1172919e+00, -9.2195630e-01,  3.7664309e-01,\n",
       "        -8.5652304e-01, -9.6222293e-01,  7.6546788e-01,  1.2964844e+00,\n",
       "        -2.9404828e-01, -1.4179000e-01, -4.9915650e-01, -4.8673380e-02,\n",
       "         2.3773921e+00, -1.1333562e+00, -6.8287307e-01,  6.6102630e-01,\n",
       "         2.5080982e-01,  8.0070120e-01, -2.0344831e-01, -1.2591895e+00,\n",
       "         4.9476571e-02,  1.4298676e+00, -2.3868163e-01, -7.0929807e-01,\n",
       "        -9.5844793e-01,  1.6524319e-01,  2.7863503e+00,  2.0299317e-01,\n",
       "        -4.2365655e-01,  2.9862645e-01,  7.1261793e-01, -1.0075229e+00,\n",
       "        -1.4454228e+00, -1.8708998e-01, -1.0037479e+00],\n",
       "       [-2.2367519e-01, -2.2367519e-01, -2.2367519e-01, -1.5377669e+00,\n",
       "         1.0904166e+00,  1.0904166e+00, -2.2367519e-01, -2.2367519e-01,\n",
       "        -2.2367519e-01, -2.2367519e-01,  1.0904166e+00, -2.2367519e-01,\n",
       "        -2.2367519e-01,  2.4045084e+00, -2.2367519e-01,  1.0904166e+00,\n",
       "        -1.5377669e+00, -2.2367519e-01,  1.0904166e+00,  1.0904166e+00,\n",
       "        -2.2367519e-01, -1.5377669e+00, -2.2367519e-01,  1.0904166e+00,\n",
       "        -2.2367519e-01, -2.2367519e-01, -2.2367519e-01, -2.2367519e-01,\n",
       "        -2.2367519e-01, -2.2367519e-01, -1.5377669e+00, -2.8518586e+00,\n",
       "         1.0904166e+00, -2.2367519e-01,  1.0904166e+00, -2.2367519e-01,\n",
       "        -2.2367519e-01,  1.0904166e+00,  1.0904166e+00,  1.0904166e+00,\n",
       "        -1.5377669e+00, -2.2367519e-01,  1.0904166e+00, -2.2367519e-01,\n",
       "        -1.5377669e+00,  1.0904166e+00, -2.2367519e-01]], dtype=float32)>"
      ]
     },
     "execution_count": 63,
     "metadata": {},
     "output_type": "execute_result"
    }
   ],
   "source": [
    "X"
   ]
  },
  {
   "cell_type": "code",
   "execution_count": 64,
   "id": "46036aae-2672-4f6d-b388-8dcf57f97604",
   "metadata": {},
   "outputs": [
    {
     "data": {
      "text/plain": [
       "<tf.Tensor: shape=(1, 47), dtype=float32, numpy=\n",
       "array([[ 0.47574687, -0.08407444,  0.22862574, -0.86702454,  1.5953895 ,\n",
       "        -0.32399786, -0.20403615, -1.1309483 , -1.0269735 , -0.7830513 ,\n",
       "        -0.80305296,  0.05268191, -0.08328269,  2.874981  , -0.64389575,\n",
       "         0.87561923, -0.32399786, -1.1237426 ,  1.2762754 ,  2.0680387 ,\n",
       "        -0.69987786, -0.68308324, -0.77985233, -0.64389575,  1.8673027 ,\n",
       "        -0.7238702 ,  0.99238193,  1.0283705 ,  1.0763551 , -0.32399786,\n",
       "         0.07587451, -1.363666  , -0.20403615,  1.9152874 , -0.4359621 ,\n",
       "        -0.7238702 , -0.88381916,  0.03668701,  1.6681663 , -0.4271649 ,\n",
       "         0.22462702, -0.08407444, -0.21123385, -0.33119556, -1.2836915 ,\n",
       "        -0.32399786, -0.8070437 ]], dtype=float32)>"
      ]
     },
     "execution_count": 64,
     "metadata": {},
     "output_type": "execute_result"
    }
   ],
   "source": [
    "y"
   ]
  },
  {
   "cell_type": "markdown",
   "id": "bdddf777-779e-4993-bb29-82451520ee6d",
   "metadata": {},
   "source": [
    "#### 定义模型类"
   ]
  },
  {
   "cell_type": "code",
   "execution_count": 65,
   "id": "0e630de8-e58d-489b-8f34-c768989cd583",
   "metadata": {},
   "outputs": [],
   "source": [
    "class Model(object):\n",
    "    def __init__(self, n_x, n_y):\n",
    "        tf.random.set_seed(2030)\n",
    "        self.w = tf.Variable(tf.random.uniform(shape=(n_y, n_x)))\n",
    "        self.b = tf.Variable(tf.random.uniform(shape=(n_y, 1)))\n",
    "    \n",
    "    def __call__(self, X):\n",
    "#         z = np.dot(tf.transpose(self.w), X) + self.b\n",
    "        z = tf.matmul(self.w, X) + self.b\n",
    "        return z"
   ]
  },
  {
   "cell_type": "code",
   "execution_count": 66,
   "id": "54e5a806-1d46-4935-b148-54f258abf189",
   "metadata": {},
   "outputs": [],
   "source": [
    "n_x, n_y = X.shape[0], 1"
   ]
  },
  {
   "cell_type": "code",
   "execution_count": 67,
   "id": "61bf42ab-bfc3-4660-b08a-897028629c3b",
   "metadata": {},
   "outputs": [],
   "source": [
    "model = Model(n_x, n_y)"
   ]
  },
  {
   "cell_type": "code",
   "execution_count": 68,
   "id": "e3a4123d-dc0d-408a-9723-1ceafe223b5a",
   "metadata": {},
   "outputs": [],
   "source": [
    "z = model(X)"
   ]
  },
  {
   "cell_type": "code",
   "execution_count": 69,
   "id": "8922d9de-b08b-4e32-9acb-ddbaff0917de",
   "metadata": {},
   "outputs": [
    {
     "data": {
      "text/plain": [
       "<tf.Tensor: shape=(1, 47), dtype=float32, numpy=\n",
       "array([[ 0.26395318,  0.22815093,  0.28497988, -0.08861065,  0.6312926 ,\n",
       "         0.5591908 ,  0.22346255,  0.21586168,  0.21252298,  0.22062111,\n",
       "         0.5559942 ,  0.25656542,  0.24875143,  1.0399749 ,  0.20456693,\n",
       "         0.5815672 , -0.09543014,  0.20229377,  0.6035174 ,  0.6334947 ,\n",
       "         0.24001399, -0.05508158,  0.22843508,  0.557557  ,  0.3908238 ,\n",
       "         0.19263284,  0.2180638 ,  0.29393047,  0.27077267,  0.30181548,\n",
       "        -0.05856234, -0.42185265,  0.56309783,  0.33733356,  0.54683053,\n",
       "         0.21657205,  0.20250687,  0.5696331 ,  0.71760154,  0.57176423,\n",
       "        -0.07099366,  0.27347204,  0.6005339 ,  0.19973646, -0.12867507,\n",
       "         0.549743  ,  0.19994956]], dtype=float32)>"
      ]
     },
     "execution_count": 69,
     "metadata": {},
     "output_type": "execute_result"
    }
   ],
   "source": [
    "z"
   ]
  },
  {
   "cell_type": "markdown",
   "id": "54f19cad-8ae6-494f-9d8a-a9b5dca1813b",
   "metadata": {},
   "source": [
    "#### 损失函数\n",
    "\n",
    "$$\n",
    "mse = loss = \\frac{1}{2m}(z-y)(z-y)^T\n",
    "$$"
   ]
  },
  {
   "cell_type": "code",
   "execution_count": 70,
   "id": "6ac008e0-2a0d-45cc-9cf1-171207151dfe",
   "metadata": {},
   "outputs": [],
   "source": [
    "def func_loss_linear_regression(model, X, y):\n",
    "    \"\"\"\n",
    "    计算mse\n",
    "    :param model: tf model\n",
    "    :param X:\n",
    "    :param y:\n",
    "    :return loss\n",
    "    \"\"\"\n",
    "#     n_x = X.shape[0]\n",
    "#     n_y = y.shape[0]\n",
    "    m = X.shape[1]\n",
    "    z = model(X)\n",
    "    loss = tf.reduce_mean(tf.square(z-y))  # Computes the mean of elements across dimensions of a tensor\n",
    "#     loss = 1 / (2*m) * tf.matmul(z-y, tf.transpose(z-y))\n",
    "    return loss"
   ]
  },
  {
   "cell_type": "code",
   "execution_count": 71,
   "id": "cc88cd5b-4de7-43e8-b9d2-8e3f96b40493",
   "metadata": {},
   "outputs": [],
   "source": [
    "mse_loss = func_loss_linear_regression(model, X, y)"
   ]
  },
  {
   "cell_type": "code",
   "execution_count": 72,
   "id": "266875ea-611c-4841-888c-0992ad028bda",
   "metadata": {},
   "outputs": [
    {
     "data": {
      "text/plain": [
       "<tf.Tensor: shape=(), dtype=float32, numpy=0.84892213>"
      ]
     },
     "execution_count": 72,
     "metadata": {},
     "output_type": "execute_result"
    }
   ],
   "source": [
    "mse_loss"
   ]
  },
  {
   "cell_type": "markdown",
   "id": "60867744-1f40-4d5d-976e-1597c8a27ac3",
   "metadata": {},
   "source": [
    "#### update parameters"
   ]
  },
  {
   "cell_type": "code",
   "execution_count": 73,
   "id": "8b5c7b21-1aeb-4554-9837-64ab660bddff",
   "metadata": {},
   "outputs": [],
   "source": [
    "epochs = 10000\n",
    "lr = 0.01"
   ]
  },
  {
   "cell_type": "code",
   "execution_count": 74,
   "id": "02a72234-0616-492a-95ce-74dd82683ac5",
   "metadata": {},
   "outputs": [
    {
     "name": "stdout",
     "output_type": "stream",
     "text": [
      "epoch [0/10000], loss 0.849\n",
      "epoch [1000/10000], loss 0.261\n",
      "epoch [2000/10000], loss 0.261\n",
      "epoch [3000/10000], loss 0.261\n",
      "epoch [4000/10000], loss 0.261\n",
      "epoch [5000/10000], loss 0.261\n",
      "epoch [6000/10000], loss 0.261\n",
      "epoch [7000/10000], loss 0.261\n",
      "epoch [8000/10000], loss 0.261\n",
      "epoch [9000/10000], loss 0.261\n"
     ]
    }
   ],
   "source": [
    "for epoch in range(epochs):\n",
    "    with tf.GradientTape() as tape:  # 追踪梯度\n",
    "        loss = func_loss_linear_regression(model, X, y)\n",
    "        dw, db = tape.gradient(loss, [model.w, model.b])\n",
    "    model.w.assign_sub(lr*dw)\n",
    "    model.b.assign_sub(lr*db)\n",
    "\n",
    "    if epoch % 1000 == 0:\n",
    "        print('epoch [{}/{}], loss {:.3f}'.format(epoch, epochs, loss))"
   ]
  },
  {
   "cell_type": "code",
   "execution_count": 75,
   "id": "99b53532-c9ef-449b-bbbb-e66c9c6dcb0d",
   "metadata": {},
   "outputs": [
    {
     "data": {
      "text/plain": [
       "<tf.Variable 'Variable:0' shape=(1, 2) dtype=float32, numpy=array([[ 0.8847637 , -0.05317748]], dtype=float32)>"
      ]
     },
     "execution_count": 75,
     "metadata": {},
     "output_type": "execute_result"
    }
   ],
   "source": [
    "model.w"
   ]
  },
  {
   "cell_type": "code",
   "execution_count": 76,
   "id": "7218ea1c-229b-439b-b086-c40e45b0af46",
   "metadata": {},
   "outputs": [
    {
     "data": {
      "text/plain": [
       "<tf.Variable 'Variable:0' shape=(1, 1) dtype=float32, numpy=array([[-1.1218328e-08]], dtype=float32)>"
      ]
     },
     "execution_count": 76,
     "metadata": {},
     "output_type": "execute_result"
    }
   ],
   "source": [
    "model.b"
   ]
  },
  {
   "cell_type": "code",
   "execution_count": 77,
   "id": "0bb41874-c338-4766-b89e-7c5295354fd0",
   "metadata": {},
   "outputs": [],
   "source": [
    "y_hat = model(X)"
   ]
  },
  {
   "cell_type": "code",
   "execution_count": 78,
   "id": "9bf102e0-2cb4-4215-bf81-17b46aa10848",
   "metadata": {},
   "outputs": [
    {
     "data": {
      "text/plain": [
       "<tf.Tensor: shape=(1, 47), dtype=float32, numpy=\n",
       "array([[ 0.12692249, -0.4341944 ,  0.45646733, -0.56916654,  1.0545835 ,\n",
       "        -0.07544354, -0.507674  , -0.6268    , -0.6791264 , -0.5522071 ,\n",
       "        -0.12554325,  0.01113646, -0.11132954,  2.630201  , -0.803819  ,\n",
       "         0.27525455, -0.6760459 , -0.8394455 ,  0.6192726 ,  1.0890968 ,\n",
       "        -0.24826878, -0.0436761 , -0.42974108, -0.10105006,  2.1153247 ,\n",
       "        -0.99085796, -0.5922868 ,  0.59674656,  0.23380189,  0.7203258 ,\n",
       "        -0.09822914, -0.96243054, -0.01421054,  1.2769895 , -0.26916245,\n",
       "        -0.61566675, -0.83610547,  0.08821556,  2.4072762 ,  0.12161537,\n",
       "        -0.29306138,  0.27610835,  0.57251287, -0.8795253 , -1.197083  ,\n",
       "        -0.22351605, -0.8761853 ]], dtype=float32)>"
      ]
     },
     "execution_count": 78,
     "metadata": {},
     "output_type": "execute_result"
    }
   ],
   "source": [
    "y_hat"
   ]
  },
  {
   "cell_type": "code",
   "execution_count": 79,
   "id": "961860d3-df3e-4632-965b-84f20df956ae",
   "metadata": {},
   "outputs": [
    {
     "data": {
      "text/plain": [
       "[<matplotlib.lines.Line2D at 0x1662d6070>]"
      ]
     },
     "execution_count": 79,
     "metadata": {},
     "output_type": "execute_result"
    },
    {
     "data": {
      "image/png": "[encoded data removed]",
      "text/plain": [
       "<Figure size 432x288 with 1 Axes>"
      ]
     },
     "metadata": {
      "needs_background": "light"
     },
     "output_type": "display_data"
    }
   ],
   "source": [
    "plt.scatter(y, y_hat)\n",
    "plt.plot(tf.squeeze(y), tf.squeeze(y), 'r--')"
   ]
  },
  {
   "cell_type": "code",
   "execution_count": null,
   "id": "7cdeb6ff-1ff7-46cd-9009-7e5593a09428",
   "metadata": {},
   "outputs": [],
   "source": []
  },
  {
   "cell_type": "markdown",
   "id": "3d5d90c5-6e4b-421e-807f-1ffffed76114",
   "metadata": {},
   "source": [
    "### 高阶API实现\n",
    "\n",
    "* `tf.keras`模块下提供的全连接层实际上就是一个线性计算过程"
   ]
  },
  {
   "cell_type": "code",
   "execution_count": 80,
   "id": "3b4739eb-c066-4c34-b068-674aff41fc8b",
   "metadata": {},
   "outputs": [],
   "source": [
    "X = tf.transpose(X)\n",
    "y = tf.transpose(y)"
   ]
  },
  {
   "cell_type": "code",
   "execution_count": 81,
   "id": "b66d23d7-d99b-41d6-998d-07460e98c95f",
   "metadata": {},
   "outputs": [
    {
     "data": {
      "text/plain": [
       "TensorShape([47, 2])"
      ]
     },
     "execution_count": 81,
     "metadata": {},
     "output_type": "execute_result"
    }
   ],
   "source": [
    "X.shape"
   ]
  },
  {
   "cell_type": "code",
   "execution_count": 82,
   "id": "e74e82fa-3c56-45ab-80c9-aca9855ef751",
   "metadata": {},
   "outputs": [
    {
     "data": {
      "text/plain": [
       "TensorShape([47, 1])"
      ]
     },
     "execution_count": 82,
     "metadata": {},
     "output_type": "execute_result"
    }
   ],
   "source": [
    "y.shape"
   ]
  },
  {
   "cell_type": "markdown",
   "id": "3316e6b4-0172-4fb7-a266-cdb7c75b77eb",
   "metadata": {},
   "source": [
    "#### 构建模型"
   ]
  },
  {
   "cell_type": "code",
   "execution_count": 83,
   "id": "1ce318e1-a830-463a-ad0d-8be344ba63da",
   "metadata": {},
   "outputs": [],
   "source": [
    "model = tf.keras.layers.Dense(units=1)"
   ]
  },
  {
   "cell_type": "code",
   "execution_count": 84,
   "id": "408be997-4c71-4eac-ade9-4eb05d60a241",
   "metadata": {},
   "outputs": [],
   "source": [
    "y_hat = model(X)"
   ]
  },
  {
   "cell_type": "code",
   "execution_count": 85,
   "id": "4bca1cf7-2acd-4387-894e-58954aeafbf7",
   "metadata": {},
   "outputs": [
    {
     "data": {
      "text/plain": [
       "TensorShape([47, 1])"
      ]
     },
     "execution_count": 85,
     "metadata": {},
     "output_type": "execute_result"
    }
   ],
   "source": [
    "y_hat.shape"
   ]
  },
  {
   "cell_type": "code",
   "execution_count": 86,
   "id": "b6469c45-36f4-4dc6-95ce-f5ccc376796f",
   "metadata": {},
   "outputs": [
    {
     "data": {
      "text/plain": [
       "[<matplotlib.lines.Line2D at 0x1695bb610>]"
      ]
     },
     "execution_count": 86,
     "metadata": {},
     "output_type": "execute_result"
    },
    {
     "data": {
      "image/png": "[encoded data removed]",
      "text/plain": [
       "<Figure size 432x288 with 1 Axes>"
      ]
     },
     "metadata": {
      "needs_background": "light"
     },
     "output_type": "display_data"
    }
   ],
   "source": [
    "plt.scatter(y, y_hat)\n",
    "plt.plot(tf.squeeze(y), tf.squeeze(y), 'r--')"
   ]
  },
  {
   "cell_type": "code",
   "execution_count": 87,
   "id": "dfb920b7-969e-4cd6-86e4-2027889ff745",
   "metadata": {},
   "outputs": [
    {
     "data": {
      "text/plain": [
       "[<tf.Variable 'dense/kernel:0' shape=(2, 1) dtype=float32, numpy=\n",
       " array([[-1.2987416 ],\n",
       "        [-0.30637085]], dtype=float32)>,\n",
       " <tf.Variable 'dense/bias:0' shape=(1,) dtype=float32, numpy=array([0.], dtype=float32)>]"
      ]
     },
     "execution_count": 87,
     "metadata": {},
     "output_type": "execute_result"
    }
   ],
   "source": [
    "model.variables"
   ]
  },
  {
   "cell_type": "code",
   "execution_count": 88,
   "id": "d9fac32c-af4a-4469-aa4d-039caa0a602d",
   "metadata": {},
   "outputs": [
    {
     "data": {
      "text/plain": [
       "TensorShape([47, 1])"
      ]
     },
     "execution_count": 88,
     "metadata": {},
     "output_type": "execute_result"
    }
   ],
   "source": [
    "y.shape"
   ]
  },
  {
   "cell_type": "code",
   "execution_count": 89,
   "id": "4991afee-1e0f-45f7-bc25-e44caca8a5ff",
   "metadata": {},
   "outputs": [
    {
     "data": {
      "text/plain": [
       "TensorShape([47, 1])"
      ]
     },
     "execution_count": 89,
     "metadata": {},
     "output_type": "execute_result"
    }
   ],
   "source": [
    "y_hat.shape"
   ]
  },
  {
   "cell_type": "code",
   "execution_count": 90,
   "id": "14600fdb-e450-424c-921e-691728daf4d7",
   "metadata": {},
   "outputs": [
    {
     "data": {
      "text/plain": [
       "<tf.Tensor: shape=(1, 47), dtype=float32, numpy=\n",
       "array([[-0.10032167,  0.7233399 , -0.58405936,  1.4266411 , -1.9672081 ,\n",
       "        -0.30844542,  0.8312003 ,  1.0060649 ,  1.0828747 ,  0.8965703 ,\n",
       "        -0.23490423,  0.06964023,  0.24940765, -4.7852283 ,  1.2659105 ,\n",
       "        -0.8232339 ,  1.583529  ,  1.3182065 , -1.3282168 , -2.01787   ,\n",
       "         0.4504203 ,  0.6552755 ,  0.7168029 , -0.2708577 , -3.0190904 ,\n",
       "         1.5404644 ,  0.9554032 , -0.78997475, -0.2572096 , -0.9713764 ,\n",
       "         0.73535377,  2.509088  , -0.39832914, -1.7885009 , -0.02408609,\n",
       "         0.9897225 ,  1.3133037 , -0.54868007, -3.9528208 , -0.5977075 ,\n",
       "         1.0213473 , -0.31931105, -1.2595783 ,  1.3770396 ,  2.3483577 ,\n",
       "        -0.09109031,  1.3721367 ]], dtype=float32)>"
      ]
     },
     "execution_count": 90,
     "metadata": {},
     "output_type": "execute_result"
    }
   ],
   "source": [
    "tf.reshape(y_hat, (1, -1))"
   ]
  },
  {
   "cell_type": "code",
   "execution_count": 91,
   "id": "d2941781-1866-4fa7-becb-e26836de6cbd",
   "metadata": {},
   "outputs": [
    {
     "data": {
      "text/plain": [
       "<tf.Tensor: shape=(1,), dtype=float32, numpy=array([5.596359], dtype=float32)>"
      ]
     },
     "execution_count": 91,
     "metadata": {},
     "output_type": "execute_result"
    }
   ],
   "source": [
    "tf.keras.losses.mean_squared_error(tf.transpose(y), tf.transpose(y_hat))"
   ]
  },
  {
   "cell_type": "markdown",
   "id": "7296f8c6-3bfc-4a75-a037-6cbbaf3a41a5",
   "metadata": {},
   "source": [
    "#### 更新模型"
   ]
  },
  {
   "cell_type": "code",
   "execution_count": 92,
   "id": "f9fbcea8-cd22-41b6-8454-ae3750fe6e53",
   "metadata": {},
   "outputs": [],
   "source": [
    "epochs = 10000\n",
    "lr = 0.01\n",
    "# model = tf.keras.layers.Dense(units=1)"
   ]
  },
  {
   "cell_type": "code",
   "execution_count": 93,
   "id": "b0ba7cc3-71d7-4770-94a5-59fd0a473767",
   "metadata": {},
   "outputs": [
    {
     "name": "stdout",
     "output_type": "stream",
     "text": [
      "epoch [0/10000], loss 5.596\n",
      "epoch [1000/10000], loss 0.261\n",
      "epoch [2000/10000], loss 0.261\n",
      "epoch [3000/10000], loss 0.261\n",
      "epoch [4000/10000], loss 0.261\n",
      "epoch [5000/10000], loss 0.261\n",
      "epoch [6000/10000], loss 0.261\n",
      "epoch [7000/10000], loss 0.261\n",
      "epoch [8000/10000], loss 0.261\n",
      "epoch [9000/10000], loss 0.261\n"
     ]
    }
   ],
   "source": [
    "for epoch in range(epochs):\n",
    "    with tf.GradientTape() as tape:\n",
    "        y_hat = model(X)\n",
    "        loss = tf.reduce_sum(tf.keras.losses.mean_squared_error(tf.transpose(y), tf.transpose(y_hat)))\n",
    "    grads = tape.gradient(loss, model.variables)\n",
    "    optimizer = tf.keras.optimizers.SGD(lr)\n",
    "    optimizer.apply_gradients(zip(grads, model.variables))\n",
    "\n",
    "    if epoch % 1000 == 0:\n",
    "        print('epoch [{}/{}], loss {:.3f}'.format(epoch, epochs, loss))"
   ]
  },
  {
   "cell_type": "code",
   "execution_count": 94,
   "id": "1d46168d-bb8e-4953-88b2-ccdbfc89588e",
   "metadata": {},
   "outputs": [
    {
     "data": {
      "text/plain": [
       "[<tf.Variable 'dense/kernel:0' shape=(2, 1) dtype=float32, numpy=\n",
       " array([[ 0.8847637 ],\n",
       "        [-0.05317745]], dtype=float32)>,\n",
       " <tf.Variable 'dense/bias:0' shape=(1,) dtype=float32, numpy=array([-1.490894e-08], dtype=float32)>]"
      ]
     },
     "execution_count": 94,
     "metadata": {},
     "output_type": "execute_result"
    }
   ],
   "source": [
    "model.variables"
   ]
  },
  {
   "cell_type": "code",
   "execution_count": 95,
   "id": "189937d8-04f5-49fc-9e16-502f5a48d62e",
   "metadata": {},
   "outputs": [],
   "source": [
    "y_hat = model(X)"
   ]
  },
  {
   "cell_type": "code",
   "execution_count": 96,
   "id": "02c4af95-2131-4278-a8ab-fab457b588dc",
   "metadata": {},
   "outputs": [
    {
     "data": {
      "text/plain": [
       "TensorShape([47, 1])"
      ]
     },
     "execution_count": 96,
     "metadata": {},
     "output_type": "execute_result"
    }
   ],
   "source": [
    "y_hat.shape"
   ]
  },
  {
   "cell_type": "code",
   "execution_count": 97,
   "id": "f2210d1c-1d81-4571-9e87-1e8f520d9704",
   "metadata": {},
   "outputs": [
    {
     "data": {
      "text/plain": [
       "[<matplotlib.lines.Line2D at 0x1696825b0>]"
      ]
     },
     "execution_count": 97,
     "metadata": {},
     "output_type": "execute_result"
    },
    {
     "data": {
      "image/png": "[encoded data removed]",
      "text/plain": [
       "<Figure size 432x288 with 1 Axes>"
      ]
     },
     "metadata": {
      "needs_background": "light"
     },
     "output_type": "display_data"
    }
   ],
   "source": [
    "plt.scatter(y, y_hat)\n",
    "plt.plot(tf.squeeze(y), tf.squeeze(y), 'r--')"
   ]
  },
  {
   "cell_type": "markdown",
   "id": "ad024d20-8299-4261-8dc4-3dc6a8618091",
   "metadata": {},
   "source": [
    "### keras方式实现\n",
    "\n",
    "* 高阶API并不精简，这里使用tensorflow keras API来实现"
   ]
  },
  {
   "cell_type": "code",
   "execution_count": 98,
   "id": "ce65b7ae-8ae7-4a53-8988-5d3e7955fe4f",
   "metadata": {},
   "outputs": [
    {
     "name": "stdout",
     "output_type": "stream",
     "text": [
      "Model: \"sequential\"\n",
      "_________________________________________________________________\n",
      "Layer (type)                 Output Shape              Param #   \n",
      "=================================================================\n",
      "dense_1 (Dense)              (None, 1)                 3         \n",
      "=================================================================\n",
      "Total params: 3\n",
      "Trainable params: 3\n",
      "Non-trainable params: 0\n",
      "_________________________________________________________________\n"
     ]
    }
   ],
   "source": [
    "model = tf.keras.Sequential()\n",
    "model.add(tf.keras.layers.Dense(units=1, input_shape=[X.shape[1]]))\n",
    "model.summary()"
   ]
  },
  {
   "cell_type": "code",
   "execution_count": 99,
   "id": "10be99f3-6ad9-4e8e-8855-f95fe0313736",
   "metadata": {},
   "outputs": [],
   "source": [
    "model.compile(optimizer='sgd', loss='mse')"
   ]
  },
  {
   "cell_type": "code",
   "execution_count": 100,
   "id": "bb0a6a84-bf52-4590-a3a9-e00726fd5ac8",
   "metadata": {},
   "outputs": [],
   "source": [
    "class PrintEpochs(tf.keras.callbacks.Callback):\n",
    "    def on_epoch_end(self, epoch, logs):\n",
    "        if epoch % 1000 == 0:\n",
    "            print('epoch: {}, logs: {}'.format(epoch, logs))"
   ]
  },
  {
   "cell_type": "code",
   "execution_count": 101,
   "id": "396c4cd0-13dc-4a70-b3d5-7524dd178792",
   "metadata": {},
   "outputs": [
    {
     "name": "stderr",
     "output_type": "stream",
     "text": [
      "2021-09-07 23:41:19.635042: I tensorflow/compiler/mlir/mlir_graph_optimization_pass.cc:185] None of the MLIR Optimization Passes are enabled (registered 2)\n"
     ]
    },
    {
     "name": "stdout",
     "output_type": "stream",
     "text": [
      "epoch: 0, logs: {'loss': 0.6870020031929016}\n",
      "epoch: 1000, logs: {'loss': 0.26153504848480225}\n",
      "epoch: 2000, logs: {'loss': 0.26175591349601746}\n",
      "epoch: 3000, logs: {'loss': 0.2618563175201416}\n",
      "epoch: 4000, logs: {'loss': 0.26148030161857605}\n",
      "epoch: 5000, logs: {'loss': 0.26158812642097473}\n",
      "epoch: 6000, logs: {'loss': 0.26160359382629395}\n",
      "epoch: 7000, logs: {'loss': 0.2616385519504547}\n",
      "epoch: 8000, logs: {'loss': 0.26146188378334045}\n",
      "epoch: 9000, logs: {'loss': 0.2615436911582947}\n"
     ]
    },
    {
     "data": {
      "text/plain": [
       "<keras.callbacks.History at 0x16974ef40>"
      ]
     },
     "execution_count": 101,
     "metadata": {},
     "output_type": "execute_result"
    }
   ],
   "source": [
    "model.fit(X, y, epochs=10000, verbose=0, callbacks=[PrintEpochs()])"
   ]
  },
  {
   "cell_type": "code",
   "execution_count": 102,
   "id": "a3695b53-898a-4a89-acf1-016bb43cf7b5",
   "metadata": {},
   "outputs": [],
   "source": [
    "y_hat = model(X)"
   ]
  },
  {
   "cell_type": "code",
   "execution_count": 103,
   "id": "2e5e27c6-3327-429e-b600-ff10b6feded4",
   "metadata": {},
   "outputs": [
    {
     "data": {
      "text/plain": [
       "TensorShape([47, 1])"
      ]
     },
     "execution_count": 103,
     "metadata": {},
     "output_type": "execute_result"
    }
   ],
   "source": [
    "y_hat.shape"
   ]
  },
  {
   "cell_type": "code",
   "execution_count": 104,
   "id": "8f07db1b-a084-4ac5-a032-5a2984f9aca1",
   "metadata": {},
   "outputs": [
    {
     "data": {
      "text/plain": [
       "[<matplotlib.lines.Line2D at 0x1699d9a90>]"
      ]
     },
     "execution_count": 104,
     "metadata": {},
     "output_type": "execute_result"
    },
    {
     "data": {
      "image/png": "[encoded data removed]",
      "text/plain": [
       "<Figure size 432x288 with 1 Axes>"
      ]
     },
     "metadata": {
      "needs_background": "light"
     },
     "output_type": "display_data"
    }
   ],
   "source": [
    "plt.scatter(tf.transpose(y), y_hat)\n",
    "plt.plot(tf.squeeze(y), tf.squeeze(y), 'r--')"
   ]
  },
  {
   "cell_type": "code",
   "execution_count": 105,
   "id": "76673c70-9b85-4686-9956-b1a1b22abc8a",
   "metadata": {},
   "outputs": [
    {
     "data": {
      "text/plain": [
       "[array([[ 0.8758631 ],\n",
       "        [-0.05261532]], dtype=float32),\n",
       " array([0.00111299], dtype=float32)]"
      ]
     },
     "execution_count": 105,
     "metadata": {},
     "output_type": "execute_result"
    }
   ],
   "source": [
    "model.get_weights()"
   ]
  },
  {
   "cell_type": "markdown",
   "id": "d953cf71-3c59-4e55-b8c5-4b7f8e7b5f6b",
   "metadata": {},
   "source": [
    "### TF官网回归例子\n",
    "\n",
    "* [参考链接](https://www.tensorflow.org/tutorials/keras/regression)\n",
    "\n",
    "* 简要\n",
    "    1. 使用经典[Auto MPG](https://archive.ics.uci.edu/ml/datasets/auto+mpg)数据集\n",
    "    2. 构建一个预测70年代末到80年代初汽车燃油效率的模型\n",
    "    3. 使用`tf.keras`API"
   ]
  },
  {
   "cell_type": "markdown",
   "id": "7716a569-6fe7-40af-bae9-9d85ace40e76",
   "metadata": {},
   "source": [
    "#### 导入模块"
   ]
  },
  {
   "cell_type": "code",
   "execution_count": 106,
   "id": "facc2ad9-4ef1-4f37-a1dc-15a9b2ec8ae2",
   "metadata": {},
   "outputs": [
    {
     "name": "stdout",
     "output_type": "stream",
     "text": [
      "2.6.0\n"
     ]
    }
   ],
   "source": [
    "import pathlib\n",
    "import matplotlib.pyplot as plt\n",
    "import pandas as pd\n",
    "import numpy as np\n",
    "import seaborn as sns\n",
    "\n",
    "import tensorflow as tf\n",
    "\n",
    "from tensorflow import keras\n",
    "from tensorflow.keras import layers\n",
    "\n",
    "print(tf.__version__)"
   ]
  },
  {
   "cell_type": "markdown",
   "id": "977e91f9-1d0c-4c63-8991-02010f913d60",
   "metadata": {},
   "source": [
    "#### 导入数据集"
   ]
  },
  {
   "cell_type": "code",
   "execution_count": 107,
   "id": "3146ab00-f78e-4bb8-a411-56f40e04d823",
   "metadata": {},
   "outputs": [
    {
     "data": {
      "text/plain": [
       "'./机器学习之吴恩达作业1/datasets/auto-mpg.data'"
      ]
     },
     "execution_count": 107,
     "metadata": {},
     "output_type": "execute_result"
    }
   ],
   "source": [
    "dataset_path = keras.utils.get_file(fname=\"auto-mpg.data\", \n",
    "                                    origin=\"http://archive.ics.uci.edu/ml/machine-learning-databases/auto-mpg/auto-mpg.data\",\n",
    "                                    cache_dir='./机器学习之吴恩达作业1/')\n",
    "dataset_path"
   ]
  },
  {
   "cell_type": "code",
   "execution_count": 108,
   "id": "e78322ad-b038-415c-992c-482c36978fa5",
   "metadata": {},
   "outputs": [],
   "source": [
    "columns_names = ['MPG', 'Cylinders', 'Displacement', 'Horsepower',\n",
    "                 'Weight', 'Acceleration', 'ModelYear', 'Origin']\n",
    "raw_dataset = pd.read_csv(dataset_path, names=columns_names, na_values='?',\n",
    "                          comment='\\t', sep=' ', skipinitialspace=True)\n",
    "dataset = raw_dataset.copy()"
   ]
  },
  {
   "cell_type": "code",
   "execution_count": 109,
   "id": "32880369-81e4-47e4-bb6c-e216cab5e4f0",
   "metadata": {},
   "outputs": [
    {
     "data": {
      "text/html": [
       "<div>\n",
       "<style scoped>\n",
       "    .dataframe tbody tr th:only-of-type {\n",
       "        vertical-align: middle;\n",
       "    }\n",
       "\n",
       "    .dataframe tbody tr th {\n",
       "        vertical-align: top;\n",
       "    }\n",
       "\n",
       "    .dataframe thead th {\n",
       "        text-align: right;\n",
       "    }\n",
       "</style>\n",
       "<table border=\"1\" class=\"dataframe\">\n",
       "  <thead>\n",
       "    <tr style=\"text-align: right;\">\n",
       "      <th></th>\n",
       "      <th>MPG</th>\n",
       "      <th>Cylinders</th>\n",
       "      <th>Displacement</th>\n",
       "      <th>Horsepower</th>\n",
       "      <th>Weight</th>\n",
       "      <th>Acceleration</th>\n",
       "      <th>ModelYear</th>\n",
       "      <th>Origin</th>\n",
       "    </tr>\n",
       "  </thead>\n",
       "  <tbody>\n",
       "    <tr>\n",
       "      <th>393</th>\n",
       "      <td>27.0</td>\n",
       "      <td>4</td>\n",
       "      <td>140.0</td>\n",
       "      <td>86.0</td>\n",
       "      <td>2790.0</td>\n",
       "      <td>15.6</td>\n",
       "      <td>82</td>\n",
       "      <td>1</td>\n",
       "    </tr>\n",
       "    <tr>\n",
       "      <th>394</th>\n",
       "      <td>44.0</td>\n",
       "      <td>4</td>\n",
       "      <td>97.0</td>\n",
       "      <td>52.0</td>\n",
       "      <td>2130.0</td>\n",
       "      <td>24.6</td>\n",
       "      <td>82</td>\n",
       "      <td>2</td>\n",
       "    </tr>\n",
       "    <tr>\n",
       "      <th>395</th>\n",
       "      <td>32.0</td>\n",
       "      <td>4</td>\n",
       "      <td>135.0</td>\n",
       "      <td>84.0</td>\n",
       "      <td>2295.0</td>\n",
       "      <td>11.6</td>\n",
       "      <td>82</td>\n",
       "      <td>1</td>\n",
       "    </tr>\n",
       "    <tr>\n",
       "      <th>396</th>\n",
       "      <td>28.0</td>\n",
       "      <td>4</td>\n",
       "      <td>120.0</td>\n",
       "      <td>79.0</td>\n",
       "      <td>2625.0</td>\n",
       "      <td>18.6</td>\n",
       "      <td>82</td>\n",
       "      <td>1</td>\n",
       "    </tr>\n",
       "    <tr>\n",
       "      <th>397</th>\n",
       "      <td>31.0</td>\n",
       "      <td>4</td>\n",
       "      <td>119.0</td>\n",
       "      <td>82.0</td>\n",
       "      <td>2720.0</td>\n",
       "      <td>19.4</td>\n",
       "      <td>82</td>\n",
       "      <td>1</td>\n",
       "    </tr>\n",
       "  </tbody>\n",
       "</table>\n",
       "</div>"
      ],
      "text/plain": [
       "      MPG  Cylinders  Displacement  Horsepower  Weight  Acceleration  \\\n",
       "393  27.0          4         140.0        86.0  2790.0          15.6   \n",
       "394  44.0          4          97.0        52.0  2130.0          24.6   \n",
       "395  32.0          4         135.0        84.0  2295.0          11.6   \n",
       "396  28.0          4         120.0        79.0  2625.0          18.6   \n",
       "397  31.0          4         119.0        82.0  2720.0          19.4   \n",
       "\n",
       "     ModelYear  Origin  \n",
       "393         82       1  \n",
       "394         82       2  \n",
       "395         82       1  \n",
       "396         82       1  \n",
       "397         82       1  "
      ]
     },
     "execution_count": 109,
     "metadata": {},
     "output_type": "execute_result"
    }
   ],
   "source": [
    "dataset.tail()"
   ]
  },
  {
   "cell_type": "markdown",
   "id": "5acb619d-1354-4692-8ff8-0d1327986202",
   "metadata": {},
   "source": [
    "#### 数据清洗"
   ]
  },
  {
   "cell_type": "code",
   "execution_count": 110,
   "id": "f24f1949-d19e-465a-8980-930a39da5ed3",
   "metadata": {},
   "outputs": [
    {
     "data": {
      "text/plain": [
       "MPG             0\n",
       "Cylinders       0\n",
       "Displacement    0\n",
       "Horsepower      6\n",
       "Weight          0\n",
       "Acceleration    0\n",
       "ModelYear       0\n",
       "Origin          0\n",
       "dtype: int64"
      ]
     },
     "execution_count": 110,
     "metadata": {},
     "output_type": "execute_result"
    }
   ],
   "source": [
    "dataset.isna().sum()"
   ]
  },
  {
   "cell_type": "code",
   "execution_count": 111,
   "id": "6024c90c-a6e0-46c4-bd98-8a7ed6969886",
   "metadata": {},
   "outputs": [],
   "source": [
    "dataset.dropna(inplace=True)"
   ]
  },
  {
   "cell_type": "code",
   "execution_count": 112,
   "id": "911bc695-0f20-40a3-aabb-0f6d6b2d9d42",
   "metadata": {},
   "outputs": [
    {
     "name": "stdout",
     "output_type": "stream",
     "text": [
      "<class 'pandas.core.frame.DataFrame'>\n",
      "Int64Index: 392 entries, 0 to 397\n",
      "Data columns (total 8 columns):\n",
      " #   Column        Non-Null Count  Dtype  \n",
      "---  ------        --------------  -----  \n",
      " 0   MPG           392 non-null    float64\n",
      " 1   Cylinders     392 non-null    int64  \n",
      " 2   Displacement  392 non-null    float64\n",
      " 3   Horsepower    392 non-null    float64\n",
      " 4   Weight        392 non-null    float64\n",
      " 5   Acceleration  392 non-null    float64\n",
      " 6   ModelYear     392 non-null    int64  \n",
      " 7   Origin        392 non-null    int64  \n",
      "dtypes: float64(5), int64(3)\n",
      "memory usage: 27.6 KB\n"
     ]
    }
   ],
   "source": [
    "dataset.info()"
   ]
  },
  {
   "cell_type": "code",
   "execution_count": 113,
   "id": "13d8ea4b-b5fe-4017-b756-3a5ad1a88bb8",
   "metadata": {},
   "outputs": [],
   "source": [
    "# 将origin进行onehot\n",
    "origin = dataset.pop('Origin')"
   ]
  },
  {
   "cell_type": "code",
   "execution_count": 114,
   "id": "1e4bcee0-3deb-4f19-a9c7-a1249e634e95",
   "metadata": {},
   "outputs": [],
   "source": [
    "dataset['USA'] = (origin == 1)*1.0\n",
    "dataset['Europe'] = (origin == 2)*1.0\n",
    "dataset['Japan'] = (origin == 3)*1.0"
   ]
  },
  {
   "cell_type": "code",
   "execution_count": 115,
   "id": "9b1f5ca3-62cb-4f14-ba48-84621e04755e",
   "metadata": {},
   "outputs": [
    {
     "data": {
      "text/html": [
       "<div>\n",
       "<style scoped>\n",
       "    .dataframe tbody tr th:only-of-type {\n",
       "        vertical-align: middle;\n",
       "    }\n",
       "\n",
       "    .dataframe tbody tr th {\n",
       "        vertical-align: top;\n",
       "    }\n",
       "\n",
       "    .dataframe thead th {\n",
       "        text-align: right;\n",
       "    }\n",
       "</style>\n",
       "<table border=\"1\" class=\"dataframe\">\n",
       "  <thead>\n",
       "    <tr style=\"text-align: right;\">\n",
       "      <th></th>\n",
       "      <th>MPG</th>\n",
       "      <th>Cylinders</th>\n",
       "      <th>Displacement</th>\n",
       "      <th>Horsepower</th>\n",
       "      <th>Weight</th>\n",
       "      <th>Acceleration</th>\n",
       "      <th>ModelYear</th>\n",
       "      <th>USA</th>\n",
       "      <th>Europe</th>\n",
       "      <th>Japan</th>\n",
       "    </tr>\n",
       "  </thead>\n",
       "  <tbody>\n",
       "    <tr>\n",
       "      <th>393</th>\n",
       "      <td>27.0</td>\n",
       "      <td>4</td>\n",
       "      <td>140.0</td>\n",
       "      <td>86.0</td>\n",
       "      <td>2790.0</td>\n",
       "      <td>15.6</td>\n",
       "      <td>82</td>\n",
       "      <td>1.0</td>\n",
       "      <td>0.0</td>\n",
       "      <td>0.0</td>\n",
       "    </tr>\n",
       "    <tr>\n",
       "      <th>394</th>\n",
       "      <td>44.0</td>\n",
       "      <td>4</td>\n",
       "      <td>97.0</td>\n",
       "      <td>52.0</td>\n",
       "      <td>2130.0</td>\n",
       "      <td>24.6</td>\n",
       "      <td>82</td>\n",
       "      <td>0.0</td>\n",
       "      <td>1.0</td>\n",
       "      <td>0.0</td>\n",
       "    </tr>\n",
       "    <tr>\n",
       "      <th>395</th>\n",
       "      <td>32.0</td>\n",
       "      <td>4</td>\n",
       "      <td>135.0</td>\n",
       "      <td>84.0</td>\n",
       "      <td>2295.0</td>\n",
       "      <td>11.6</td>\n",
       "      <td>82</td>\n",
       "      <td>1.0</td>\n",
       "      <td>0.0</td>\n",
       "      <td>0.0</td>\n",
       "    </tr>\n",
       "    <tr>\n",
       "      <th>396</th>\n",
       "      <td>28.0</td>\n",
       "      <td>4</td>\n",
       "      <td>120.0</td>\n",
       "      <td>79.0</td>\n",
       "      <td>2625.0</td>\n",
       "      <td>18.6</td>\n",
       "      <td>82</td>\n",
       "      <td>1.0</td>\n",
       "      <td>0.0</td>\n",
       "      <td>0.0</td>\n",
       "    </tr>\n",
       "    <tr>\n",
       "      <th>397</th>\n",
       "      <td>31.0</td>\n",
       "      <td>4</td>\n",
       "      <td>119.0</td>\n",
       "      <td>82.0</td>\n",
       "      <td>2720.0</td>\n",
       "      <td>19.4</td>\n",
       "      <td>82</td>\n",
       "      <td>1.0</td>\n",
       "      <td>0.0</td>\n",
       "      <td>0.0</td>\n",
       "    </tr>\n",
       "  </tbody>\n",
       "</table>\n",
       "</div>"
      ],
      "text/plain": [
       "      MPG  Cylinders  Displacement  Horsepower  Weight  Acceleration  \\\n",
       "393  27.0          4         140.0        86.0  2790.0          15.6   \n",
       "394  44.0          4          97.0        52.0  2130.0          24.6   \n",
       "395  32.0          4         135.0        84.0  2295.0          11.6   \n",
       "396  28.0          4         120.0        79.0  2625.0          18.6   \n",
       "397  31.0          4         119.0        82.0  2720.0          19.4   \n",
       "\n",
       "     ModelYear  USA  Europe  Japan  \n",
       "393         82  1.0     0.0    0.0  \n",
       "394         82  0.0     1.0    0.0  \n",
       "395         82  1.0     0.0    0.0  \n",
       "396         82  1.0     0.0    0.0  \n",
       "397         82  1.0     0.0    0.0  "
      ]
     },
     "execution_count": 115,
     "metadata": {},
     "output_type": "execute_result"
    }
   ],
   "source": [
    "dataset.tail()"
   ]
  },
  {
   "cell_type": "markdown",
   "id": "15ea345d-e9eb-4f54-a1ff-0b0c59fe5479",
   "metadata": {},
   "source": [
    "#### 划分训练集、测试集"
   ]
  },
  {
   "cell_type": "code",
   "execution_count": 116,
   "id": "0c4aecd3-03f6-44a1-82fb-12de72336f9d",
   "metadata": {},
   "outputs": [],
   "source": [
    "train_dataset = dataset.sample(frac=0.8, random_state=0)\n",
    "test_dataset = dataset.drop(train_dataset.index)"
   ]
  },
  {
   "cell_type": "code",
   "execution_count": 117,
   "id": "1dfa126c-3115-4f59-b044-b498c00f28b0",
   "metadata": {},
   "outputs": [
    {
     "data": {
      "text/plain": [
       "((314, 10), (78, 10))"
      ]
     },
     "execution_count": 117,
     "metadata": {},
     "output_type": "execute_result"
    }
   ],
   "source": [
    "train_dataset.shape, test_dataset.shape"
   ]
  },
  {
   "cell_type": "markdown",
   "id": "71d02c27-f75e-4cea-84e4-ce41afca0ead",
   "metadata": {},
   "source": [
    "#### 数据检查"
   ]
  },
  {
   "cell_type": "code",
   "execution_count": 118,
   "id": "5b57cb24-df69-482b-a522-2feea07a702d",
   "metadata": {},
   "outputs": [
    {
     "data": {
      "text/plain": [
       "<seaborn.axisgrid.PairGrid at 0x169a1cd60>"
      ]
     },
     "execution_count": 118,
     "metadata": {},
     "output_type": "execute_result"
    },
    {
     "data": {
      "image/png": "[encoded data removed]",
      "text/plain": [
       "<Figure size 720x720 with 20 Axes>"
      ]
     },
     "metadata": {
      "needs_background": "light"
     },
     "output_type": "display_data"
    }
   ],
   "source": [
    "# 数据联合分布\n",
    "sns.pairplot(train_dataset[[\"MPG\", \"Cylinders\", \"Displacement\", \"Weight\"]], diag_kind='kde')"
   ]
  },
  {
   "cell_type": "code",
   "execution_count": 119,
   "id": "42375b8e-46c8-4711-b5cf-1117776b2c09",
   "metadata": {},
   "outputs": [
    {
     "data": {
      "text/html": [
       "<div>\n",
       "<style scoped>\n",
       "    .dataframe tbody tr th:only-of-type {\n",
       "        vertical-align: middle;\n",
       "    }\n",
       "\n",
       "    .dataframe tbody tr th {\n",
       "        vertical-align: top;\n",
       "    }\n",
       "\n",
       "    .dataframe thead th {\n",
       "        text-align: right;\n",
       "    }\n",
       "</style>\n",
       "<table border=\"1\" class=\"dataframe\">\n",
       "  <thead>\n",
       "    <tr style=\"text-align: right;\">\n",
       "      <th></th>\n",
       "      <th>count</th>\n",
       "      <th>mean</th>\n",
       "      <th>std</th>\n",
       "      <th>min</th>\n",
       "      <th>25%</th>\n",
       "      <th>50%</th>\n",
       "      <th>75%</th>\n",
       "      <th>max</th>\n",
       "    </tr>\n",
       "  </thead>\n",
       "  <tbody>\n",
       "    <tr>\n",
       "      <th>Cylinders</th>\n",
       "      <td>314.0</td>\n",
       "      <td>5.477707</td>\n",
       "      <td>1.699788</td>\n",
       "      <td>3.0</td>\n",
       "      <td>4.00</td>\n",
       "      <td>4.0</td>\n",
       "      <td>8.00</td>\n",
       "      <td>8.0</td>\n",
       "    </tr>\n",
       "    <tr>\n",
       "      <th>Displacement</th>\n",
       "      <td>314.0</td>\n",
       "      <td>195.318471</td>\n",
       "      <td>104.331589</td>\n",
       "      <td>68.0</td>\n",
       "      <td>105.50</td>\n",
       "      <td>151.0</td>\n",
       "      <td>265.75</td>\n",
       "      <td>455.0</td>\n",
       "    </tr>\n",
       "    <tr>\n",
       "      <th>Horsepower</th>\n",
       "      <td>314.0</td>\n",
       "      <td>104.869427</td>\n",
       "      <td>38.096214</td>\n",
       "      <td>46.0</td>\n",
       "      <td>76.25</td>\n",
       "      <td>94.5</td>\n",
       "      <td>128.00</td>\n",
       "      <td>225.0</td>\n",
       "    </tr>\n",
       "    <tr>\n",
       "      <th>Weight</th>\n",
       "      <td>314.0</td>\n",
       "      <td>2990.251592</td>\n",
       "      <td>843.898596</td>\n",
       "      <td>1649.0</td>\n",
       "      <td>2256.50</td>\n",
       "      <td>2822.5</td>\n",
       "      <td>3608.00</td>\n",
       "      <td>5140.0</td>\n",
       "    </tr>\n",
       "    <tr>\n",
       "      <th>Acceleration</th>\n",
       "      <td>314.0</td>\n",
       "      <td>15.559236</td>\n",
       "      <td>2.789230</td>\n",
       "      <td>8.0</td>\n",
       "      <td>13.80</td>\n",
       "      <td>15.5</td>\n",
       "      <td>17.20</td>\n",
       "      <td>24.8</td>\n",
       "    </tr>\n",
       "    <tr>\n",
       "      <th>ModelYear</th>\n",
       "      <td>314.0</td>\n",
       "      <td>75.898089</td>\n",
       "      <td>3.675642</td>\n",
       "      <td>70.0</td>\n",
       "      <td>73.00</td>\n",
       "      <td>76.0</td>\n",
       "      <td>79.00</td>\n",
       "      <td>82.0</td>\n",
       "    </tr>\n",
       "    <tr>\n",
       "      <th>USA</th>\n",
       "      <td>314.0</td>\n",
       "      <td>0.624204</td>\n",
       "      <td>0.485101</td>\n",
       "      <td>0.0</td>\n",
       "      <td>0.00</td>\n",
       "      <td>1.0</td>\n",
       "      <td>1.00</td>\n",
       "      <td>1.0</td>\n",
       "    </tr>\n",
       "    <tr>\n",
       "      <th>Europe</th>\n",
       "      <td>314.0</td>\n",
       "      <td>0.178344</td>\n",
       "      <td>0.383413</td>\n",
       "      <td>0.0</td>\n",
       "      <td>0.00</td>\n",
       "      <td>0.0</td>\n",
       "      <td>0.00</td>\n",
       "      <td>1.0</td>\n",
       "    </tr>\n",
       "    <tr>\n",
       "      <th>Japan</th>\n",
       "      <td>314.0</td>\n",
       "      <td>0.197452</td>\n",
       "      <td>0.398712</td>\n",
       "      <td>0.0</td>\n",
       "      <td>0.00</td>\n",
       "      <td>0.0</td>\n",
       "      <td>0.00</td>\n",
       "      <td>1.0</td>\n",
       "    </tr>\n",
       "  </tbody>\n",
       "</table>\n",
       "</div>"
      ],
      "text/plain": [
       "              count         mean         std     min      25%     50%  \\\n",
       "Cylinders     314.0     5.477707    1.699788     3.0     4.00     4.0   \n",
       "Displacement  314.0   195.318471  104.331589    68.0   105.50   151.0   \n",
       "Horsepower    314.0   104.869427   38.096214    46.0    76.25    94.5   \n",
       "Weight        314.0  2990.251592  843.898596  1649.0  2256.50  2822.5   \n",
       "Acceleration  314.0    15.559236    2.789230     8.0    13.80    15.5   \n",
       "ModelYear     314.0    75.898089    3.675642    70.0    73.00    76.0   \n",
       "USA           314.0     0.624204    0.485101     0.0     0.00     1.0   \n",
       "Europe        314.0     0.178344    0.383413     0.0     0.00     0.0   \n",
       "Japan         314.0     0.197452    0.398712     0.0     0.00     0.0   \n",
       "\n",
       "                  75%     max  \n",
       "Cylinders        8.00     8.0  \n",
       "Displacement   265.75   455.0  \n",
       "Horsepower     128.00   225.0  \n",
       "Weight        3608.00  5140.0  \n",
       "Acceleration    17.20    24.8  \n",
       "ModelYear       79.00    82.0  \n",
       "USA              1.00     1.0  \n",
       "Europe           0.00     1.0  \n",
       "Japan            0.00     1.0  "
      ]
     },
     "execution_count": 119,
     "metadata": {},
     "output_type": "execute_result"
    }
   ],
   "source": [
    "# 数据总体统计\n",
    "train_stats = train_dataset.describe()\n",
    "train_stats.pop('MPG')\n",
    "train_stats = train_stats.transpose()\n",
    "train_stats"
   ]
  },
  {
   "cell_type": "markdown",
   "id": "27fcf5ca-61c4-4434-9093-b05ca4e0583b",
   "metadata": {},
   "source": [
    "#### 分离特征和target"
   ]
  },
  {
   "cell_type": "code",
   "execution_count": 120,
   "id": "e1f6374b-ece7-4d23-b580-143e9919fa35",
   "metadata": {},
   "outputs": [],
   "source": [
    "train_labels = train_dataset.pop('MPG')\n",
    "test_labels = test_dataset.pop('MPG')"
   ]
  },
  {
   "cell_type": "markdown",
   "id": "d33b4601-f88d-4f5f-85f2-e8c4f3a28814",
   "metadata": {},
   "source": [
    "#### 数据标准化"
   ]
  },
  {
   "cell_type": "code",
   "execution_count": 121,
   "id": "15560512-4a85-4d07-802e-7b48cc47803f",
   "metadata": {},
   "outputs": [],
   "source": [
    "normed_train_data = (train_dataset - train_dataset.mean()) / train_dataset.std()\n",
    "normed_test_data = (test_dataset - train_dataset.mean()) / train_dataset.std()"
   ]
  },
  {
   "cell_type": "markdown",
   "id": "43c7a326-02e8-4b9d-bdff-7e22614f5806",
   "metadata": {},
   "source": [
    "#### 模型\n",
    "\n",
    "##### 构建模型"
   ]
  },
  {
   "cell_type": "code",
   "execution_count": 122,
   "id": "ad24008b-5980-41d1-9684-5f37d36f0edb",
   "metadata": {},
   "outputs": [],
   "source": [
    "def func_build_model():\n",
    "    model = keras.Sequential([\n",
    "        layers.Dense(64, activation='relu', input_shape=[train_dataset.shape[1]]),\n",
    "        layers.Dense(64, activation='relu'),\n",
    "        layers.Dense(1)\n",
    "    ])\n",
    "    \n",
    "    optimizer = tf.keras.optimizers.RMSprop(0.001)\n",
    "    \n",
    "    model.compile(loss='mse',\n",
    "                  optimizer=optimizer,\n",
    "                  metrics=['mae', 'mse'])\n",
    "    return model"
   ]
  },
  {
   "cell_type": "code",
   "execution_count": 123,
   "id": "4cb2e6ea-7e6a-411c-928e-901ec4f8e332",
   "metadata": {},
   "outputs": [],
   "source": [
    "model = func_build_model()"
   ]
  },
  {
   "cell_type": "markdown",
   "id": "36718c5f-c4aa-420b-a00f-24a51af2cab8",
   "metadata": {},
   "source": [
    "##### 检查模型"
   ]
  },
  {
   "cell_type": "code",
   "execution_count": 124,
   "id": "e3e54e01-0c15-4917-a2ce-8994c9135df8",
   "metadata": {},
   "outputs": [
    {
     "name": "stdout",
     "output_type": "stream",
     "text": [
      "Model: \"sequential_1\"\n",
      "_________________________________________________________________\n",
      "Layer (type)                 Output Shape              Param #   \n",
      "=================================================================\n",
      "dense_2 (Dense)              (None, 64)                640       \n",
      "_________________________________________________________________\n",
      "dense_3 (Dense)              (None, 64)                4160      \n",
      "_________________________________________________________________\n",
      "dense_4 (Dense)              (None, 1)                 65        \n",
      "=================================================================\n",
      "Total params: 4,865\n",
      "Trainable params: 4,865\n",
      "Non-trainable params: 0\n",
      "_________________________________________________________________\n"
     ]
    }
   ],
   "source": [
    "model.summary()"
   ]
  },
  {
   "cell_type": "code",
   "execution_count": 125,
   "id": "bad027fc-1d3a-4022-891b-c5c2966f03dd",
   "metadata": {},
   "outputs": [
    {
     "data": {
      "text/plain": [
       "array([[0.4894033 ],\n",
       "       [0.2915542 ],\n",
       "       [0.02622074],\n",
       "       [0.20493463],\n",
       "       [0.4046716 ],\n",
       "       [0.2944433 ],\n",
       "       [0.4748975 ],\n",
       "       [0.7831887 ],\n",
       "       [0.28179386],\n",
       "       [0.55701965]], dtype=float32)"
      ]
     },
     "execution_count": 125,
     "metadata": {},
     "output_type": "execute_result"
    }
   ],
   "source": [
    "example_batch = normed_train_data[:10]\n",
    "example_result = model.predict(example_batch)\n",
    "example_result"
   ]
  },
  {
   "cell_type": "markdown",
   "id": "3f0719d5-63bc-411c-8b55-a5a644112b87",
   "metadata": {},
   "source": [
    "##### 训练模型\n",
    "\n",
    "* 对模型进行1000个周期的训练"
   ]
  },
  {
   "cell_type": "code",
   "execution_count": 126,
   "id": "211b15ab-3763-4c0f-8468-16a318b743c0",
   "metadata": {},
   "outputs": [],
   "source": [
    "class PrintEpochs(keras.callbacks.Callback):\n",
    "    def on_epoch_end(self, epoch, logs):\n",
    "        if epoch % 100 == 0:\n",
    "            print('epoch: {}, logs: {}'.format(epoch, logs))"
   ]
  },
  {
   "cell_type": "code",
   "execution_count": 127,
   "id": "92560252-1a08-4104-92d9-9e96f1757fb6",
   "metadata": {},
   "outputs": [],
   "source": [
    "epochs = 1000"
   ]
  },
  {
   "cell_type": "code",
   "execution_count": 128,
   "id": "e4e0afc0-776d-4aa6-87f3-2019dc0415bf",
   "metadata": {},
   "outputs": [
    {
     "name": "stdout",
     "output_type": "stream",
     "text": [
      "epoch: 0, logs: {'loss': 552.3905639648438, 'mae': 22.274259567260742, 'mse': 552.3905639648438, 'val_loss': 539.4788208007812, 'val_mae': 21.9625301361084, 'val_mse': 539.4788208007812}\n",
      "epoch: 100, logs: {'loss': 6.219203472137451, 'mae': 1.741994857788086, 'mse': 6.219203472137451, 'val_loss': 8.529964447021484, 'val_mae': 2.2209670543670654, 'val_mse': 8.529964447021484}\n",
      "epoch: 200, logs: {'loss': 5.566501617431641, 'mae': 1.6070328950881958, 'mse': 5.566501617431641, 'val_loss': 9.027262687683105, 'val_mae': 2.2147090435028076, 'val_mse': 9.027262687683105}\n",
      "epoch: 300, logs: {'loss': 4.821636199951172, 'mae': 1.5219510793685913, 'mse': 4.821636199951172, 'val_loss': 9.217964172363281, 'val_mae': 2.3883771896362305, 'val_mse': 9.217964172363281}\n",
      "epoch: 400, logs: {'loss': 4.370648384094238, 'mae': 1.4500079154968262, 'mse': 4.370648384094238, 'val_loss': 9.613961219787598, 'val_mae': 2.407794713973999, 'val_mse': 9.613961219787598}\n",
      "epoch: 500, logs: {'loss': 3.9961860179901123, 'mae': 1.3205206394195557, 'mse': 3.9961860179901123, 'val_loss': 8.978669166564941, 'val_mae': 2.237149238586426, 'val_mse': 8.978669166564941}\n",
      "epoch: 600, logs: {'loss': 3.7279908657073975, 'mae': 1.2908296585083008, 'mse': 3.7279908657073975, 'val_loss': 8.971795082092285, 'val_mae': 2.2347707748413086, 'val_mse': 8.971795082092285}\n",
      "epoch: 700, logs: {'loss': 3.5541672706604004, 'mae': 1.254643440246582, 'mse': 3.5541672706604004, 'val_loss': 9.195500373840332, 'val_mae': 2.26774001121521, 'val_mse': 9.195500373840332}\n",
      "epoch: 800, logs: {'loss': 3.146609306335449, 'mae': 1.1640102863311768, 'mse': 3.146609306335449, 'val_loss': 10.132817268371582, 'val_mae': 2.3554744720458984, 'val_mse': 10.132817268371582}\n",
      "epoch: 900, logs: {'loss': 2.824734687805176, 'mae': 1.1058069467544556, 'mse': 2.824734687805176, 'val_loss': 9.772823333740234, 'val_mae': 2.3153939247131348, 'val_mse': 9.772823333740234}\n"
     ]
    }
   ],
   "source": [
    "history = model.fit(\n",
    "    normed_train_data, train_labels, \n",
    "    epochs=epochs, validation_split=0.2, verbose=0, \n",
    "    callbacks=[PrintEpochs()])"
   ]
  },
  {
   "cell_type": "markdown",
   "id": "97c2a9cb-78e7-4d23-9ca7-51eabac678e6",
   "metadata": {},
   "source": [
    "使用`history`对象中存储的统计信息可视化模型的训练进度"
   ]
  },
  {
   "cell_type": "code",
   "execution_count": 129,
   "id": "19b49866-1d90-4af7-8101-565f29f8cd22",
   "metadata": {},
   "outputs": [
    {
     "data": {
      "text/html": [
       "<div>\n",
       "<style scoped>\n",
       "    .dataframe tbody tr th:only-of-type {\n",
       "        vertical-align: middle;\n",
       "    }\n",
       "\n",
       "    .dataframe tbody tr th {\n",
       "        vertical-align: top;\n",
       "    }\n",
       "\n",
       "    .dataframe thead th {\n",
       "        text-align: right;\n",
       "    }\n",
       "</style>\n",
       "<table border=\"1\" class=\"dataframe\">\n",
       "  <thead>\n",
       "    <tr style=\"text-align: right;\">\n",
       "      <th></th>\n",
       "      <th>loss</th>\n",
       "      <th>mae</th>\n",
       "      <th>mse</th>\n",
       "      <th>val_loss</th>\n",
       "      <th>val_mae</th>\n",
       "      <th>val_mse</th>\n",
       "      <th>epoch</th>\n",
       "    </tr>\n",
       "  </thead>\n",
       "  <tbody>\n",
       "    <tr>\n",
       "      <th>995</th>\n",
       "      <td>2.669586</td>\n",
       "      <td>1.113412</td>\n",
       "      <td>2.669586</td>\n",
       "      <td>10.422947</td>\n",
       "      <td>2.453421</td>\n",
       "      <td>10.422947</td>\n",
       "      <td>995</td>\n",
       "    </tr>\n",
       "    <tr>\n",
       "      <th>996</th>\n",
       "      <td>2.603099</td>\n",
       "      <td>1.050171</td>\n",
       "      <td>2.603099</td>\n",
       "      <td>9.832856</td>\n",
       "      <td>2.338202</td>\n",
       "      <td>9.832856</td>\n",
       "      <td>996</td>\n",
       "    </tr>\n",
       "    <tr>\n",
       "      <th>997</th>\n",
       "      <td>2.733811</td>\n",
       "      <td>1.114683</td>\n",
       "      <td>2.733811</td>\n",
       "      <td>11.410033</td>\n",
       "      <td>2.464207</td>\n",
       "      <td>11.410033</td>\n",
       "      <td>997</td>\n",
       "    </tr>\n",
       "    <tr>\n",
       "      <th>998</th>\n",
       "      <td>2.663424</td>\n",
       "      <td>1.095967</td>\n",
       "      <td>2.663424</td>\n",
       "      <td>9.941391</td>\n",
       "      <td>2.390267</td>\n",
       "      <td>9.941391</td>\n",
       "      <td>998</td>\n",
       "    </tr>\n",
       "    <tr>\n",
       "      <th>999</th>\n",
       "      <td>2.556182</td>\n",
       "      <td>1.059770</td>\n",
       "      <td>2.556182</td>\n",
       "      <td>10.403207</td>\n",
       "      <td>2.391733</td>\n",
       "      <td>10.403207</td>\n",
       "      <td>999</td>\n",
       "    </tr>\n",
       "  </tbody>\n",
       "</table>\n",
       "</div>"
      ],
      "text/plain": [
       "         loss       mae       mse   val_loss   val_mae    val_mse  epoch\n",
       "995  2.669586  1.113412  2.669586  10.422947  2.453421  10.422947    995\n",
       "996  2.603099  1.050171  2.603099   9.832856  2.338202   9.832856    996\n",
       "997  2.733811  1.114683  2.733811  11.410033  2.464207  11.410033    997\n",
       "998  2.663424  1.095967  2.663424   9.941391  2.390267   9.941391    998\n",
       "999  2.556182  1.059770  2.556182  10.403207  2.391733  10.403207    999"
      ]
     },
     "execution_count": 129,
     "metadata": {},
     "output_type": "execute_result"
    }
   ],
   "source": [
    "hist = pd.DataFrame(history.history)\n",
    "hist['epoch'] = history.epoch\n",
    "hist.tail()"
   ]
  },
  {
   "cell_type": "code",
   "execution_count": 130,
   "id": "54c053ff-62c1-4988-a6dd-c556f8bd09e1",
   "metadata": {},
   "outputs": [],
   "source": [
    "def func_plot_history(history):\n",
    "    hist = pd.DataFrame(history.history)\n",
    "    hist['epoch'] = history.epoch\n",
    "    \n",
    "    plt.figure()\n",
    "    plt.xlabel('epoch')\n",
    "    plt.ylabel('mean abs error [MPG]')\n",
    "    plt.plot(hist['epoch'], hist['mae'], label='train error')\n",
    "    plt.plot(hist['epoch'], hist['val_mae'], label='val error')\n",
    "    plt.ylim([0, 5])\n",
    "    plt.legend()\n",
    "    \n",
    "    plt.figure()\n",
    "    plt.xlabel('epoch')\n",
    "    plt.ylabel('mean square error [MPG]')\n",
    "    plt.plot(hist['epoch'], hist['mse'], label='train error')\n",
    "    plt.plot(hist['epoch'], hist['val_mse'], label='val error')\n",
    "    plt.ylim([0, 20])\n",
    "    plt.legend()\n",
    "    plt.show()"
   ]
  },
  {
   "cell_type": "code",
   "execution_count": 131,
   "id": "ed7c7079-e635-4dc9-9a20-ae77e22c66dd",
   "metadata": {},
   "outputs": [
    {
     "data": {
      "image/png": "[encoded data removed]",
      "text/plain": [
       "<Figure size 432x288 with 1 Axes>"
      ]
     },
     "metadata": {
      "needs_background": "light"
     },
     "output_type": "display_data"
    },
    {
     "data": {
      "image/png": "[encoded data removed]",
      "text/plain": [
       "<Figure size 432x288 with 1 Axes>"
      ]
     },
     "metadata": {
      "needs_background": "light"
     },
     "output_type": "display_data"
    }
   ],
   "source": [
    "func_plot_history(history)"
   ]
  },
  {
   "cell_type": "markdown",
   "id": "94a8ee25-dc1c-4ecb-a0c0-cc6dedd242cb",
   "metadata": {},
   "source": [
    "* 该图表显示在约100个周期后误差非但没有改进，反而出现恶化\n",
    "* 更新`model.fit`调用，当验证集没有提高时自动停止训练\n",
    "* 使用`keras.callbacks.EarlyStopping()`实现"
   ]
  },
  {
   "cell_type": "code",
   "execution_count": 132,
   "id": "ea5cfdcf-c029-45b5-ae46-be5bafcc8133",
   "metadata": {},
   "outputs": [],
   "source": [
    "model = func_build_model()"
   ]
  },
  {
   "cell_type": "code",
   "execution_count": 133,
   "id": "38cce9cf-6c47-4ce2-ba22-3451e7da5670",
   "metadata": {},
   "outputs": [
    {
     "name": "stdout",
     "output_type": "stream",
     "text": [
      "Model: \"sequential_2\"\n",
      "_________________________________________________________________\n",
      "Layer (type)                 Output Shape              Param #   \n",
      "=================================================================\n",
      "dense_5 (Dense)              (None, 64)                640       \n",
      "_________________________________________________________________\n",
      "dense_6 (Dense)              (None, 64)                4160      \n",
      "_________________________________________________________________\n",
      "dense_7 (Dense)              (None, 1)                 65        \n",
      "=================================================================\n",
      "Total params: 4,865\n",
      "Trainable params: 4,865\n",
      "Non-trainable params: 0\n",
      "_________________________________________________________________\n"
     ]
    }
   ],
   "source": [
    "model.summary()"
   ]
  },
  {
   "cell_type": "code",
   "execution_count": 134,
   "id": "94b8833e-4c57-4bbd-9610-cedb5d868778",
   "metadata": {},
   "outputs": [
    {
     "name": "stdout",
     "output_type": "stream",
     "text": [
      "epoch: 0, logs: {'loss': 562.9177856445312, 'mae': 22.478023529052734, 'mse': 562.9177856445312, 'val_loss': 543.6301879882812, 'val_mae': 22.027149200439453, 'val_mse': 543.6302490234375}\n"
     ]
    }
   ],
   "source": [
    "early_stop = keras.callbacks.EarlyStopping(monitor='val_loss', patience=10)\n",
    "\n",
    "history = model.fit(\n",
    "    normed_train_data, train_labels, \n",
    "    epochs=epochs, validation_split=0.2, verbose=0,\n",
    "    callbacks=[early_stop, PrintEpochs()])"
   ]
  },
  {
   "cell_type": "code",
   "execution_count": 135,
   "id": "9246e9ba-bfb1-44e5-8215-9480b7c954e8",
   "metadata": {},
   "outputs": [
    {
     "data": {
      "image/png": "[encoded data removed]",
      "text/plain": [
       "<Figure size 432x288 with 1 Axes>"
      ]
     },
     "metadata": {
      "needs_background": "light"
     },
     "output_type": "display_data"
    },
    {
     "data": {
      "image/png": "[encoded data removed]",
      "text/plain": [
       "<Figure size 432x288 with 1 Axes>"
      ]
     },
     "metadata": {
      "needs_background": "light"
     },
     "output_type": "display_data"
    }
   ],
   "source": [
    "func_plot_history(history)"
   ]
  },
  {
   "cell_type": "markdown",
   "id": "67e71d97-a9e7-4588-b401-2dd586577832",
   "metadata": {},
   "source": [
    "#### 预测"
   ]
  },
  {
   "cell_type": "code",
   "execution_count": 136,
   "id": "0dae3801-7b09-4327-8f8d-419e1817d41e",
   "metadata": {},
   "outputs": [],
   "source": [
    "test_pred = model.predict(normed_test_data).flatten()"
   ]
  },
  {
   "cell_type": "code",
   "execution_count": 137,
   "id": "0d55b9bb-2452-4fa9-a091-e99df26cd23c",
   "metadata": {},
   "outputs": [
    {
     "data": {
      "text/plain": [
       "((78,), (78,))"
      ]
     },
     "execution_count": 137,
     "metadata": {},
     "output_type": "execute_result"
    }
   ],
   "source": [
    "test_pred.shape, test_labels.shape"
   ]
  },
  {
   "cell_type": "code",
   "execution_count": 138,
   "id": "bf8245f7-0fcc-44d4-b398-8ec4437f3127",
   "metadata": {},
   "outputs": [
    {
     "data": {
      "image/png": "[encoded data removed]",
      "text/plain": [
       "<Figure size 432x288 with 1 Axes>"
      ]
     },
     "metadata": {
      "needs_background": "light"
     },
     "output_type": "display_data"
    }
   ],
   "source": [
    "plt.scatter(test_labels, test_pred)\n",
    "plt.xlabel('true values [MPG]')\n",
    "plt.ylabel('pred values [MPG]')\n",
    "plt.axis('equal')  # Set equal scaling\n",
    "plt.axis('square')\n",
    "plt.xlim([0, plt.xlim()[1]])\n",
    "plt.ylim([0, plt.ylim()[1]])\n",
    "_ = plt.plot([-100, 100], [-100, 100])"
   ]
  },
  {
   "cell_type": "markdown",
   "id": "39ae598e-43b8-47f0-9ef8-c2519ce99804",
   "metadata": {},
   "source": [
    "* 看起来模型还不错，预测还可以\n",
    "* 接下来看看误差分布"
   ]
  },
  {
   "cell_type": "code",
   "execution_count": 139,
   "id": "611d6de9-c8c5-460d-8bc2-d834965bfb50",
   "metadata": {},
   "outputs": [
    {
     "data": {
      "image/png": "[encoded data removed]",
      "text/plain": [
       "<Figure size 432x288 with 1 Axes>"
      ]
     },
     "metadata": {
      "needs_background": "light"
     },
     "output_type": "display_data"
    }
   ],
   "source": [
    "error = test_pred - test_labels\n",
    "plt.hist(error, bins=25)\n",
    "plt.xlabel('pred error [MPG]')\n",
    "_ = plt.ylabel('count')"
   ]
  },
  {
   "cell_type": "markdown",
   "id": "d97cc2a2-1fc2-40b0-808a-01d9156547e7",
   "metadata": {},
   "source": [
    "误差分布不是完全的高斯分布，但是可以推断出，是因为样本量很小导致的"
   ]
  },
  {
   "cell_type": "markdown",
   "id": "770e0bb3-c863-4e56-bf6e-7afda4b3aeab",
   "metadata": {},
   "source": [
    "#### 结论\n",
    "\n",
    "1. `mse`是用于回归问题的常见损失函数\n",
    "2. `mae`是常见的回归评估指标\n",
    "3. 当输入数据特征值存在不同范围时，每个特征应独立缩放到相同范围\n",
    "4. 如果训练数据不多，一种方法是选择隐藏层较小的小网络，以避免过拟合\n",
    "5. early stopping是一种防止过拟合的有效技术"
   ]
  },
  {
   "cell_type": "code",
   "execution_count": null,
   "id": "45b3c2ae-6c0a-49ba-baef-234d7b1329d4",
   "metadata": {},
   "outputs": [],
   "source": []
  }
 ],
 "metadata": {
  "kernelspec": {
   "display_name": "Python 3 (ipykernel)",
   "language": "python",
   "name": "python3"
  },
  "language_info": {
   "codemirror_mode": {
    "name": "ipython",
    "version": 3
   },
   "file_extension": ".py",
   "mimetype": "text/x-python",
   "name": "python",
   "nbconvert_exporter": "python",
   "pygments_lexer": "ipython3",
   "version": "3.8.2"
  }
 },
 "nbformat": 4,
 "nbformat_minor": 5
}
