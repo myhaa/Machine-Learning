{
 "cells": [
  {
   "cell_type": "markdown",
   "id": "47ab00a6-b63b-4e54-b186-2aeb864c23f7",
   "metadata": {
    "tags": []
   },
   "source": [
    "# linear regression(线性回归)\n",
    "\n",
    "* 注意：python版本为3.8\n",
    "\n",
    "## 参考\n",
    "\n",
    "* 视频：[地址](https://study.163.com/course/courseLearn.htm?courseId=1004570029#/learn/video?lessonId=1049052745&courseId=1004570029)"
   ]
  },
  {
   "cell_type": "markdown",
   "id": "19ffe8b5-2199-453c-bc76-aa9a2c2cd145",
   "metadata": {
    "tags": []
   },
   "source": [
    "## 导入模块"
   ]
  },
  {
   "cell_type": "code",
   "execution_count": 1,
   "id": "bedfab10-6a9b-4872-91c4-f9e0433d9ae0",
   "metadata": {},
   "outputs": [],
   "source": [
    "import numpy as np\n",
    "import pandas as pd\n",
    "import seaborn as sns\n",
    "import matplotlib.pyplot as plt\n",
    "import tensorflow as tf\n",
    "\n",
    "sns.set(context='notebook', style='whitegrid', palette='dark')\n",
    "%matplotlib inline"
   ]
  },
  {
   "cell_type": "markdown",
   "id": "f92c941f-d077-44f9-b2c5-f82010c1c849",
   "metadata": {
    "tags": []
   },
   "source": [
    "## 导入数据"
   ]
  },
  {
   "cell_type": "code",
   "execution_count": 2,
   "id": "220ec109-785b-471f-8900-a29675062f5a",
   "metadata": {},
   "outputs": [],
   "source": [
    "root_path = './机器学习之吴恩达作业1/'"
   ]
  },
  {
   "cell_type": "code",
   "execution_count": 3,
   "id": "da1787ef-e353-40e4-bb38-7d15daea3a3a",
   "metadata": {},
   "outputs": [],
   "source": [
    "ex1data1_path = root_path + 'ex1data1.txt'"
   ]
  },
  {
   "cell_type": "code",
   "execution_count": 4,
   "id": "688ffa4a-fe40-4587-a2e4-354c1b986988",
   "metadata": {},
   "outputs": [],
   "source": [
    "df = pd.read_csv(ex1data1_path, names=['population', 'profit'])"
   ]
  },
  {
   "cell_type": "markdown",
   "id": "f2593384-f5a4-42a1-a553-5f666c10264a",
   "metadata": {
    "tags": []
   },
   "source": [
    "## 数据eda"
   ]
  },
  {
   "cell_type": "code",
   "execution_count": 5,
   "id": "ee426e56-a947-4f08-a345-865bfa42e7f7",
   "metadata": {},
   "outputs": [
    {
     "data": {
      "text/html": [
       "<div>\n",
       "<style scoped>\n",
       "    .dataframe tbody tr th:only-of-type {\n",
       "        vertical-align: middle;\n",
       "    }\n",
       "\n",
       "    .dataframe tbody tr th {\n",
       "        vertical-align: top;\n",
       "    }\n",
       "\n",
       "    .dataframe thead th {\n",
       "        text-align: right;\n",
       "    }\n",
       "</style>\n",
       "<table border=\"1\" class=\"dataframe\">\n",
       "  <thead>\n",
       "    <tr style=\"text-align: right;\">\n",
       "      <th></th>\n",
       "      <th>population</th>\n",
       "      <th>profit</th>\n",
       "    </tr>\n",
       "  </thead>\n",
       "  <tbody>\n",
       "    <tr>\n",
       "      <th>0</th>\n",
       "      <td>6.1101</td>\n",
       "      <td>17.5920</td>\n",
       "    </tr>\n",
       "    <tr>\n",
       "      <th>1</th>\n",
       "      <td>5.5277</td>\n",
       "      <td>9.1302</td>\n",
       "    </tr>\n",
       "    <tr>\n",
       "      <th>2</th>\n",
       "      <td>8.5186</td>\n",
       "      <td>13.6620</td>\n",
       "    </tr>\n",
       "    <tr>\n",
       "      <th>3</th>\n",
       "      <td>7.0032</td>\n",
       "      <td>11.8540</td>\n",
       "    </tr>\n",
       "    <tr>\n",
       "      <th>4</th>\n",
       "      <td>5.8598</td>\n",
       "      <td>6.8233</td>\n",
       "    </tr>\n",
       "  </tbody>\n",
       "</table>\n",
       "</div>"
      ],
      "text/plain": [
       "   population   profit\n",
       "0      6.1101  17.5920\n",
       "1      5.5277   9.1302\n",
       "2      8.5186  13.6620\n",
       "3      7.0032  11.8540\n",
       "4      5.8598   6.8233"
      ]
     },
     "execution_count": 5,
     "metadata": {},
     "output_type": "execute_result"
    }
   ],
   "source": [
    "df.head()"
   ]
  },
  {
   "cell_type": "code",
   "execution_count": 6,
   "id": "18792c15-3f84-4a1a-9802-82b7a60defa0",
   "metadata": {},
   "outputs": [
    {
     "name": "stdout",
     "output_type": "stream",
     "text": [
      "<class 'pandas.core.frame.DataFrame'>\n",
      "RangeIndex: 97 entries, 0 to 96\n",
      "Data columns (total 2 columns):\n",
      " #   Column      Non-Null Count  Dtype  \n",
      "---  ------      --------------  -----  \n",
      " 0   population  97 non-null     float64\n",
      " 1   profit      97 non-null     float64\n",
      "dtypes: float64(2)\n",
      "memory usage: 1.6 KB\n"
     ]
    }
   ],
   "source": [
    "df.info()"
   ]
  },
  {
   "cell_type": "code",
   "execution_count": 7,
   "id": "66d43416-73d6-4419-8e4b-cfcf7d5068c3",
   "metadata": {},
   "outputs": [
    {
     "data": {
      "text/html": [
       "<div>\n",
       "<style scoped>\n",
       "    .dataframe tbody tr th:only-of-type {\n",
       "        vertical-align: middle;\n",
       "    }\n",
       "\n",
       "    .dataframe tbody tr th {\n",
       "        vertical-align: top;\n",
       "    }\n",
       "\n",
       "    .dataframe thead th {\n",
       "        text-align: right;\n",
       "    }\n",
       "</style>\n",
       "<table border=\"1\" class=\"dataframe\">\n",
       "  <thead>\n",
       "    <tr style=\"text-align: right;\">\n",
       "      <th></th>\n",
       "      <th>population</th>\n",
       "      <th>profit</th>\n",
       "    </tr>\n",
       "  </thead>\n",
       "  <tbody>\n",
       "    <tr>\n",
       "      <th>count</th>\n",
       "      <td>97.000000</td>\n",
       "      <td>97.000000</td>\n",
       "    </tr>\n",
       "    <tr>\n",
       "      <th>mean</th>\n",
       "      <td>8.159800</td>\n",
       "      <td>5.839135</td>\n",
       "    </tr>\n",
       "    <tr>\n",
       "      <th>std</th>\n",
       "      <td>3.869884</td>\n",
       "      <td>5.510262</td>\n",
       "    </tr>\n",
       "    <tr>\n",
       "      <th>min</th>\n",
       "      <td>5.026900</td>\n",
       "      <td>-2.680700</td>\n",
       "    </tr>\n",
       "    <tr>\n",
       "      <th>25%</th>\n",
       "      <td>5.707700</td>\n",
       "      <td>1.986900</td>\n",
       "    </tr>\n",
       "    <tr>\n",
       "      <th>50%</th>\n",
       "      <td>6.589400</td>\n",
       "      <td>4.562300</td>\n",
       "    </tr>\n",
       "    <tr>\n",
       "      <th>75%</th>\n",
       "      <td>8.578100</td>\n",
       "      <td>7.046700</td>\n",
       "    </tr>\n",
       "    <tr>\n",
       "      <th>max</th>\n",
       "      <td>22.203000</td>\n",
       "      <td>24.147000</td>\n",
       "    </tr>\n",
       "  </tbody>\n",
       "</table>\n",
       "</div>"
      ],
      "text/plain": [
       "       population     profit\n",
       "count   97.000000  97.000000\n",
       "mean     8.159800   5.839135\n",
       "std      3.869884   5.510262\n",
       "min      5.026900  -2.680700\n",
       "25%      5.707700   1.986900\n",
       "50%      6.589400   4.562300\n",
       "75%      8.578100   7.046700\n",
       "max     22.203000  24.147000"
      ]
     },
     "execution_count": 7,
     "metadata": {},
     "output_type": "execute_result"
    }
   ],
   "source": [
    "df.describe()"
   ]
  },
  {
   "cell_type": "code",
   "execution_count": 8,
   "id": "2a3d2276-28a1-4adc-9db5-accdd19eabda",
   "metadata": {},
   "outputs": [
    {
     "data": {
      "image/png": "[encoded data removed]",
      "text/plain": [
       "<Figure size 432x432 with 1 Axes>"
      ]
     },
     "metadata": {
      "needs_background": "light"
     },
     "output_type": "display_data"
    }
   ],
   "source": [
    "# Plot data and regression model fits across a FacetGrid.\n",
    "sns.lmplot(x='population', y='profit', data=df, height=6, fit_reg=False)\n",
    "plt.show()"
   ]
  },
  {
   "cell_type": "markdown",
   "id": "79f05d8c-522d-4afd-8e68-442281c3b388",
   "metadata": {
    "tags": []
   },
   "source": [
    "## 一些函数\n",
    "\n",
    "1. 读取X,y函数`func_get_X_y()`\n",
    "2. 读取y函数`func_get_y()`\n",
    "3. 归一化函数`func_normalize_X()`"
   ]
  },
  {
   "cell_type": "code",
   "execution_count": 9,
   "id": "2e8c171e-8771-47de-87a2-dfbb3b8bb50a",
   "metadata": {},
   "outputs": [],
   "source": [
    "def func_get_X_y(df):\n",
    "    \"\"\"\n",
    "    得到X,y\n",
    "    :param df: A dataframe\n",
    "    :return X: ndarray matrix\n",
    "    :return y: target\n",
    "    \"\"\"\n",
    "    X = df.iloc[:, :-1].values\n",
    "    y = np.array(df.iloc[:, -1])\n",
    "    return X.T, np.expand_dims(y, axis=0)"
   ]
  },
  {
   "cell_type": "code",
   "execution_count": 10,
   "id": "71e7537d-3a0e-4d81-bb68-09e3cf0dc6f9",
   "metadata": {},
   "outputs": [],
   "source": [
    "def func_normalize_X(X):\n",
    "    \"\"\"\n",
    "    normalize X\n",
    "    :param X: ndarray matrix\n",
    "    :return X_norm: norm ndarray matrix\n",
    "    \"\"\"\n",
    "    X_mean = np.mean(X, axis=1, keepdims=True)\n",
    "    X_std = np.std(X, axis=1, keepdims=True)\n",
    "    X_norm = (X - X_mean) / X_std\n",
    "    return X_norm"
   ]
  },
  {
   "cell_type": "code",
   "execution_count": 11,
   "id": "bd29ce74-6bd1-4b24-88f1-ac68b7bf5423",
   "metadata": {},
   "outputs": [],
   "source": [
    "X, y = func_get_X_y(df)"
   ]
  },
  {
   "cell_type": "code",
   "execution_count": 12,
   "id": "ca54e8cb-ceb4-4c13-9fe8-92b8da4596ff",
   "metadata": {},
   "outputs": [
    {
     "data": {
      "text/plain": [
       "(1, 97)"
      ]
     },
     "execution_count": 12,
     "metadata": {},
     "output_type": "execute_result"
    }
   ],
   "source": [
    "X.shape"
   ]
  },
  {
   "cell_type": "code",
   "execution_count": 13,
   "id": "3027b159-92e8-4307-b5d0-27f73e8582d7",
   "metadata": {},
   "outputs": [
    {
     "data": {
      "text/plain": [
       "(1, 97)"
      ]
     },
     "execution_count": 13,
     "metadata": {},
     "output_type": "execute_result"
    }
   ],
   "source": [
    "y.shape"
   ]
  },
  {
   "cell_type": "code",
   "execution_count": 14,
   "id": "34c45ac3-095b-470e-926e-0c7cb69bc13a",
   "metadata": {},
   "outputs": [
    {
     "data": {
      "text/plain": [
       "array([[8.1598]])"
      ]
     },
     "execution_count": 14,
     "metadata": {},
     "output_type": "execute_result"
    }
   ],
   "source": [
    "np.mean(X, axis=1, keepdims=True)"
   ]
  },
  {
   "cell_type": "code",
   "execution_count": 15,
   "id": "03937f48-b4fd-438f-84ab-7d79b87b4286",
   "metadata": {},
   "outputs": [
    {
     "data": {
      "text/plain": [
       "array([[3.849884]])"
      ]
     },
     "execution_count": 15,
     "metadata": {},
     "output_type": "execute_result"
    }
   ],
   "source": [
    "np.std(X, axis=1, keepdims=True)"
   ]
  },
  {
   "cell_type": "code",
   "execution_count": 16,
   "id": "d7de975e-586e-4b57-be04-53887ba73fd4",
   "metadata": {},
   "outputs": [],
   "source": [
    "X_norm = func_normalize_X(X)"
   ]
  },
  {
   "cell_type": "code",
   "execution_count": 17,
   "id": "1a2ae19b-576b-4e82-be1f-475b40e01ef8",
   "metadata": {},
   "outputs": [],
   "source": [
    "X_norm = func_normalize_X(X)"
   ]
  },
  {
   "cell_type": "code",
   "execution_count": 18,
   "id": "b12db4be-0704-46f6-9823-f716812153fa",
   "metadata": {},
   "outputs": [
    {
     "data": {
      "text/plain": [
       "array([[3.1933219e-16]])"
      ]
     },
     "execution_count": 18,
     "metadata": {},
     "output_type": "execute_result"
    }
   ],
   "source": [
    "np.mean(X_norm, axis=1, keepdims=True)"
   ]
  },
  {
   "cell_type": "code",
   "execution_count": 19,
   "id": "3ec9c44f-d1a4-47de-9472-7572cea7f604",
   "metadata": {},
   "outputs": [
    {
     "data": {
      "text/plain": [
       "array([[1.]])"
      ]
     },
     "execution_count": 19,
     "metadata": {},
     "output_type": "execute_result"
    }
   ],
   "source": [
    "np.std(X_norm, axis=1, keepdims=True)"
   ]
  },
  {
   "cell_type": "markdown",
   "id": "54698ef6-3cf7-406c-a9d3-7aeb81ad97f5",
   "metadata": {
    "tags": []
   },
   "source": [
    "## DNN实现linear regression\n",
    "\n",
    "### 步骤\n",
    "\n",
    "1. 初始化参数\n",
    "2. forward step\n",
    "3. 计算损失\n",
    "4. backward step\n",
    "5. 更新参数\n",
    "6. 将1-5步集合到一起\n",
    "7. predict"
   ]
  },
  {
   "cell_type": "markdown",
   "id": "69baab33-4504-4f6b-a6fe-23483e8b72f3",
   "metadata": {},
   "source": [
    "### 初始化参数"
   ]
  },
  {
   "cell_type": "code",
   "execution_count": null,
   "id": "c81b1775-4369-47a3-a9fe-10cf6916076d",
   "metadata": {},
   "outputs": [],
   "source": [
    "def func_initial_parameters(X):\n",
    "    \"\"\"\n",
    "    初始化参数\n",
    "    :param X: input vector\n",
    "    :return params\n",
    "    \"\"\"\n",
    "    n_x = X.shape[0]\n",
    "    \n",
    "    w = np.zeros((n_x, 1))\n",
    "    b = np.zeros((1, 1))\n",
    "    \n",
    "    params = {\n",
    "        'w': w,\n",
    "        'b': b\n",
    "    }\n",
    "    return params"
   ]
  },
  {
   "cell_type": "code",
   "execution_count": null,
   "id": "7abdebbe-a7d7-4af9-82bd-96e416e43db1",
   "metadata": {},
   "outputs": [],
   "source": [
    "parameters = func_initial_parameters(X_norm)"
   ]
  },
  {
   "cell_type": "code",
   "execution_count": null,
   "id": "8e90f8b2-e4b1-4f90-b2e7-cb132b3a9192",
   "metadata": {},
   "outputs": [],
   "source": [
    "for key, value in parameters.items():\n",
    "    print(key, value)\n",
    "    print(value.shape)"
   ]
  },
  {
   "cell_type": "markdown",
   "id": "7e361976-b209-49e2-9a39-dd33fbaef057",
   "metadata": {},
   "source": [
    "### forward step\n",
    "\n",
    "$$\n",
    "z = w*x+b\n",
    "$$"
   ]
  },
  {
   "cell_type": "code",
   "execution_count": null,
   "id": "5ab2ec35-15b8-4324-8d4e-f7083a7772b9",
   "metadata": {},
   "outputs": [],
   "source": [
    "def func_forward_propagation(parameters, X):\n",
    "    \"\"\"\n",
    "    forward step\n",
    "    :param parameters:\n",
    "    :param X: input vector\n",
    "    :return z: output vector\n",
    "    \"\"\"\n",
    "    w = parameters['w']\n",
    "    b = parameters['b']\n",
    "    z = np.dot(w.T, X) + b\n",
    "    return z"
   ]
  },
  {
   "cell_type": "code",
   "execution_count": null,
   "id": "e5c16c7e-67f8-43de-86fa-d449c860ab55",
   "metadata": {},
   "outputs": [],
   "source": [
    "z = func_forward_propagation(parameters, X_norm)"
   ]
  },
  {
   "cell_type": "code",
   "execution_count": null,
   "id": "7ba77962-6630-4f90-9114-e3e45e39ec07",
   "metadata": {},
   "outputs": [],
   "source": [
    "z.shape"
   ]
  },
  {
   "cell_type": "markdown",
   "id": "00cfcdcd-d929-45be-a408-4df5b6c5f701",
   "metadata": {},
   "source": [
    "### compute cost\n",
    "\n",
    "* cost公式\n",
    "\n",
    "    $$\n",
    "    cost = \\frac{1}{2m}(z-y)^2\n",
    "    $$"
   ]
  },
  {
   "cell_type": "code",
   "execution_count": null,
   "id": "d63f2455-5572-4b93-a9ea-183de230ecf3",
   "metadata": {},
   "outputs": [],
   "source": [
    "def func_compute_cost(z, y):\n",
    "    \"\"\"\n",
    "    计算损失\n",
    "    :param z: output vector\n",
    "    :param y: true label\n",
    "    :return cost: cost\n",
    "    \"\"\"\n",
    "    m = y.shape[1]\n",
    "    \n",
    "    cost = 1 / (2 * m) * np.sum(np.power(z-y, 2))\n",
    "    cost = cost.squeeze()\n",
    "    return cost"
   ]
  },
  {
   "cell_type": "code",
   "execution_count": null,
   "id": "2f97d27b-36c4-4978-bc6f-70fd73f0ead4",
   "metadata": {},
   "outputs": [],
   "source": [
    "cost = func_compute_cost(z, y)"
   ]
  },
  {
   "cell_type": "code",
   "execution_count": null,
   "id": "a0b3463f-52d8-4434-b4ef-44631a9850bb",
   "metadata": {},
   "outputs": [],
   "source": [
    "cost"
   ]
  },
  {
   "cell_type": "markdown",
   "id": "7cb97210-f81c-428b-b711-070460568607",
   "metadata": {
    "tags": []
   },
   "source": [
    "### backward step\n",
    "\n",
    "* 梯度公式\n",
    "\n",
    "    $$\n",
    "    dw = 1/m * X^T(z-y)  \\\\\n",
    "    db = 1/m * (z-y)\n",
    "    $$"
   ]
  },
  {
   "cell_type": "code",
   "execution_count": null,
   "id": "86e36006-6266-4546-a3cf-f38f5ac0c2d6",
   "metadata": {},
   "outputs": [],
   "source": [
    "def func_backward_propagation(parameters, z, X, y):\n",
    "    \"\"\"\n",
    "    计算梯度\n",
    "    :param parameters:\n",
    "    :param X:\n",
    "    :param y:\n",
    "    :param z:\n",
    "    :return grads:\n",
    "    \"\"\"\n",
    "    \n",
    "    m = X.shape[1]\n",
    "    \n",
    "    dw = 1 / m * np.dot(X, (z-y).T)\n",
    "    db = 1 / m * np.sum(z - y, axis=1, keepdims=True)\n",
    "    \n",
    "    grads = {\n",
    "        'dw': dw,\n",
    "        'db': db\n",
    "    }\n",
    "    return grads"
   ]
  },
  {
   "cell_type": "code",
   "execution_count": null,
   "id": "b177d843-7805-481c-bddf-3c396d972ab3",
   "metadata": {},
   "outputs": [],
   "source": [
    "grads = func_backward_propagation(parameters, z, X, y)"
   ]
  },
  {
   "cell_type": "markdown",
   "id": "339573cb-5c18-4b2a-8551-6beb2b4d7af4",
   "metadata": {},
   "source": [
    "### 更新参数"
   ]
  },
  {
   "cell_type": "code",
   "execution_count": null,
   "id": "a93e7b14-a8d1-4990-a4d6-54be7476e591",
   "metadata": {},
   "outputs": [],
   "source": [
    "grads"
   ]
  },
  {
   "cell_type": "markdown",
   "id": "0bc19324-76a6-472e-85eb-03b9a34005f2",
   "metadata": {},
   "source": [
    "### 更新参数\n",
    "\n",
    "* 公式\n",
    "\n",
    "    $$\n",
    "    \\theta = \\theta - \\alpha * d\\theta\n",
    "    $$"
   ]
  },
  {
   "cell_type": "code",
   "execution_count": 32,
   "id": "e8e3e85a-d20e-4ad8-b742-0221f2ca0a90",
   "metadata": {},
   "outputs": [],
   "source": [
    "def func_update_parameters(parameters, grads, lr):\n",
    "    \"\"\"\n",
    "    更新参数\n",
    "    :param parameters:\n",
    "    :param grads:\n",
    "    :param lr:\n",
    "    :return parameters:\n",
    "    \"\"\"\n",
    "    w = parameters['w']\n",
    "    b = parameters['b']\n",
    "    \n",
    "    dw = grads['dw']\n",
    "    db = grads['db']\n",
    "    \n",
    "    w = w - lr * dw\n",
    "    b = b - lr * db\n",
    "    \n",
    "    parameters = {\n",
    "        'w': w,\n",
    "        'b': b\n",
    "    }\n",
    "    return parameters"
   ]
  },
  {
   "cell_type": "code",
   "execution_count": 33,
   "id": "866cb69d-486e-45bd-8335-8537f3bdfe8b",
   "metadata": {},
   "outputs": [],
   "source": [
    "parameters = func_update_parameters(parameters, grads, lr=0.01)"
   ]
  },
  {
   "cell_type": "markdown",
   "id": "29b0a1c9-a15e-4636-99fd-cbfa3d8b1651",
   "metadata": {
    "tags": []
   },
   "source": [
    "### 整合到模型"
   ]
  },
  {
   "cell_type": "code",
   "execution_count": 34,
   "id": "3c4fbac2-1d26-4abf-80bc-7816a4be6833",
   "metadata": {},
   "outputs": [
    {
     "data": {
      "text/plain": [
       "{'w': array([[0.6532885]]), 'b': array([[0.05839135]])}"
      ]
     },
     "execution_count": 34,
     "metadata": {},
     "output_type": "execute_result"
    }
   ],
   "source": [
    "parameters"
   ]
  },
  {
   "cell_type": "markdown",
   "id": "1de318a2-13b7-4029-ba80-73551f12a1e0",
   "metadata": {},
   "source": [
    "## 单变量线性回归\n",
    "### sklearn"
   ]
  },
  {
   "cell_type": "code",
   "execution_count": 35,
   "id": "992ed29c-16c3-4dc5-b6b5-0a567764f95d",
   "metadata": {},
   "outputs": [],
   "source": [
    "def func_linear_model(X, y, num_epochs=10000, lr=0.01, print_cost=False):\n",
    "    \"\"\"\n",
    "    神经网络实现linear model\n",
    "    :param X:\n",
    "    :param y:\n",
    "    :param num_epochs:\n",
    "    :param lr:\n",
    "    :param print_cost:\n",
    "    :return parameters\n",
    "    \"\"\"\n",
    "    parameters = func_initial_parameters(X)\n",
    "    cost_list = []\n",
    "    for i in range(num_epochs):\n",
    "        z = func_forward_propagation(parameters, X)\n",
    "        cost = func_compute_cost(z, y)\n",
    "        cost_list.append(cost)\n",
    "        grads = func_backward_propagation(parameters, z, X, y)\n",
    "        parameters = func_update_parameters(parameters, grads, lr)\n",
    "        \n",
    "        if i % 1000 == 0 and print_cost:\n",
    "            print('cost after %i epoch: %f' % (i, cost))\n",
    "    \n",
    "    return parameters, cost_list"
   ]
  },
  {
   "cell_type": "markdown",
   "id": "bd98019d-52d9-48ae-870e-9c4268dec5ba",
   "metadata": {
    "tags": []
   },
   "source": [
    "## 单变量线性回归"
   ]
  },
  {
   "cell_type": "markdown",
   "id": "f41386c8-881b-4330-80fa-ce9f318e22f1",
   "metadata": {},
   "source": [
    "### sklearn"
   ]
  },
  {
   "cell_type": "code",
   "execution_count": 36,
   "id": "3e930701-b11a-49dc-8b1e-85ff89c4b023",
   "metadata": {},
   "outputs": [],
   "source": [
    "from sklearn.linear_model import LinearRegression"
   ]
  },
  {
   "cell_type": "code",
   "execution_count": 37,
   "id": "17ffd366-9233-4584-8010-34fc788313af",
   "metadata": {},
   "outputs": [
    {
     "data": {
      "text/plain": [
       "LinearRegression()"
      ]
     },
     "execution_count": 37,
     "metadata": {},
     "output_type": "execute_result"
    }
   ],
   "source": [
    "lr = LinearRegression()\n",
    "lr.fit(X.T, y.squeeze())"
   ]
  },
  {
   "cell_type": "code",
   "execution_count": 38,
   "id": "42fdcefd-f196-437a-b6d1-39bc378f29a0",
   "metadata": {},
   "outputs": [
    {
     "data": {
      "text/plain": [
       "array([1.19303364])"
      ]
     },
     "execution_count": 38,
     "metadata": {},
     "output_type": "execute_result"
    }
   ],
   "source": [
    "lr.coef_"
   ]
  },
  {
   "cell_type": "markdown",
   "id": "ed113244-ff3c-4158-866a-6d318019f5c1",
   "metadata": {},
   "source": [
    "### 自定义DNN"
   ]
  },
  {
   "cell_type": "code",
   "execution_count": 39,
   "id": "f69b36af-bd8c-4aa4-bd73-aa1799f09820",
   "metadata": {},
   "outputs": [
    {
     "data": {
      "text/plain": [
       "-3.8957808783118484"
      ]
     },
     "execution_count": 39,
     "metadata": {},
     "output_type": "execute_result"
    }
   ],
   "source": [
    "lr.intercept_"
   ]
  },
  {
   "cell_type": "code",
   "execution_count": 40,
   "id": "ccfd1c45-2c7d-4c6b-8b0d-ea8381577585",
   "metadata": {},
   "outputs": [
    {
     "name": "stdout",
     "output_type": "stream",
     "text": [
      "cost after 0 epoch: 32.072734\n",
      "cost after 1000 epoch: 4.515956\n",
      "cost after 2000 epoch: 4.478028\n",
      "cost after 3000 epoch: 4.477000\n",
      "cost after 4000 epoch: 4.476972\n",
      "cost after 5000 epoch: 4.476971\n",
      "cost after 6000 epoch: 4.476971\n",
      "cost after 7000 epoch: 4.476971\n",
      "cost after 8000 epoch: 4.476971\n",
      "cost after 9000 epoch: 4.476971\n"
     ]
    }
   ],
   "source": [
    "parameters, cost_list = func_linear_model(X, y, print_cost=True)"
   ]
  },
  {
   "cell_type": "code",
   "execution_count": 41,
   "id": "dd5cad51-b1ae-4ad1-82c8-8869ee6c520a",
   "metadata": {},
   "outputs": [
    {
     "data": {
      "text/plain": [
       "{'w': array([[1.19303364]]), 'b': array([[-3.89578082]])}"
      ]
     },
     "execution_count": 41,
     "metadata": {},
     "output_type": "execute_result"
    }
   ],
   "source": [
    "parameters"
   ]
  },
  {
   "cell_type": "code",
   "execution_count": 42,
   "id": "591515ef-b6e0-42d0-8183-c1fa2159dd05",
   "metadata": {},
   "outputs": [],
   "source": [
    "# cost_list"
   ]
  },
  {
   "cell_type": "markdown",
   "id": "b608fff8-1582-4d48-a3a1-23e01f918d91",
   "metadata": {},
   "source": [
    "### 可视化"
   ]
  },
  {
   "cell_type": "code",
   "execution_count": 43,
   "id": "51857b88-3931-4c14-987f-bfc178b8f5c0",
   "metadata": {},
   "outputs": [],
   "source": [
    "w = parameters['w'].squeeze()\n",
    "b = parameters['b'].squeeze()"
   ]
  },
  {
   "cell_type": "code",
   "execution_count": 44,
   "id": "f88bd0e8-3bff-4e16-852f-94110c2dfd4e",
   "metadata": {},
   "outputs": [
    {
     "data": {
      "image/png": "[encoded data removed]",
      "text/plain": [
       "<Figure size 432x288 with 1 Axes>"
      ]
     },
     "metadata": {
      "needs_background": "light"
     },
     "output_type": "display_data"
    }
   ],
   "source": [
    "plt.scatter(X, y, label='training data')\n",
    "plt.plot(X.squeeze(), (w*X+b).squeeze(), label='pred')\n",
    "plt.legend(loc=2)\n",
    "plt.show()"
   ]
  },
  {
   "cell_type": "code",
   "execution_count": 45,
   "id": "298fe7d3-e56c-4f7a-aa60-ee797e600ad5",
   "metadata": {},
   "outputs": [
    {
     "data": {
      "image/png": "[encoded data removed]",
      "text/plain": [
       "<Figure size 864x576 with 1 Axes>"
      ]
     },
     "metadata": {
      "needs_background": "light"
     },
     "output_type": "display_data"
    }
   ],
   "source": [
    "fig, ax = plt.subplots(figsize=(12, 8))\n",
    "ax.plot(range(len(cost_list)), cost_list, 'r')\n",
    "ax.set_xlabel('epochs')\n",
    "ax.set_ylabel('cost')\n",
    "ax.set_title('error vs. training epoch')\n",
    "plt.show()"
   ]
  },
  {
   "cell_type": "markdown",
   "id": "22c8aa9c-fcd7-4e2e-9b3e-ad578f96fc5d",
   "metadata": {
    "tags": []
   },
   "source": [
    "## 多变量线性回归"
   ]
  },
  {
   "cell_type": "code",
   "execution_count": 46,
   "id": "c58ac898-6848-4b9d-96fe-a6dc1567112f",
   "metadata": {},
   "outputs": [],
   "source": [
    "ex1data2_path = root_path + 'ex1data2.txt'"
   ]
  },
  {
   "cell_type": "code",
   "execution_count": 47,
   "id": "9f2d8649-35c7-4fc0-8413-0cca5dc58979",
   "metadata": {},
   "outputs": [],
   "source": [
    "df2 = pd.read_csv(ex1data2_path, header=None, names=['size', 'bedrooms', 'price'])"
   ]
  },
  {
   "cell_type": "code",
   "execution_count": 48,
   "id": "29634d45-8777-426b-8de4-04af47b607ba",
   "metadata": {},
   "outputs": [
    {
     "data": {
      "text/html": [
       "<div>\n",
       "<style scoped>\n",
       "    .dataframe tbody tr th:only-of-type {\n",
       "        vertical-align: middle;\n",
       "    }\n",
       "\n",
       "    .dataframe tbody tr th {\n",
       "        vertical-align: top;\n",
       "    }\n",
       "\n",
       "    .dataframe thead th {\n",
       "        text-align: right;\n",
       "    }\n",
       "</style>\n",
       "<table border=\"1\" class=\"dataframe\">\n",
       "  <thead>\n",
       "    <tr style=\"text-align: right;\">\n",
       "      <th></th>\n",
       "      <th>size</th>\n",
       "      <th>bedrooms</th>\n",
       "      <th>price</th>\n",
       "    </tr>\n",
       "  </thead>\n",
       "  <tbody>\n",
       "    <tr>\n",
       "      <th>0</th>\n",
       "      <td>2104</td>\n",
       "      <td>3</td>\n",
       "      <td>399900</td>\n",
       "    </tr>\n",
       "    <tr>\n",
       "      <th>1</th>\n",
       "      <td>1600</td>\n",
       "      <td>3</td>\n",
       "      <td>329900</td>\n",
       "    </tr>\n",
       "    <tr>\n",
       "      <th>2</th>\n",
       "      <td>2400</td>\n",
       "      <td>3</td>\n",
       "      <td>369000</td>\n",
       "    </tr>\n",
       "    <tr>\n",
       "      <th>3</th>\n",
       "      <td>1416</td>\n",
       "      <td>2</td>\n",
       "      <td>232000</td>\n",
       "    </tr>\n",
       "    <tr>\n",
       "      <th>4</th>\n",
       "      <td>3000</td>\n",
       "      <td>4</td>\n",
       "      <td>539900</td>\n",
       "    </tr>\n",
       "  </tbody>\n",
       "</table>\n",
       "</div>"
      ],
      "text/plain": [
       "   size  bedrooms   price\n",
       "0  2104         3  399900\n",
       "1  1600         3  329900\n",
       "2  2400         3  369000\n",
       "3  1416         2  232000\n",
       "4  3000         4  539900"
      ]
     },
     "execution_count": 48,
     "metadata": {},
     "output_type": "execute_result"
    }
   ],
   "source": [
    "df2.head()"
   ]
  },
  {
   "cell_type": "code",
   "execution_count": 49,
   "id": "36a0b0a5-2b17-4fdc-b370-1185f794b4c3",
   "metadata": {},
   "outputs": [],
   "source": [
    "df2_norm = (df2 - df2.mean()) / df2.std()"
   ]
  },
  {
   "cell_type": "code",
   "execution_count": 50,
   "id": "1ef8a8ff-df7f-4e6d-9c63-2b402d9bf19d",
   "metadata": {},
   "outputs": [
    {
     "data": {
      "text/html": [
       "<div>\n",
       "<style scoped>\n",
       "    .dataframe tbody tr th:only-of-type {\n",
       "        vertical-align: middle;\n",
       "    }\n",
       "\n",
       "    .dataframe tbody tr th {\n",
       "        vertical-align: top;\n",
       "    }\n",
       "\n",
       "    .dataframe thead th {\n",
       "        text-align: right;\n",
       "    }\n",
       "</style>\n",
       "<table border=\"1\" class=\"dataframe\">\n",
       "  <thead>\n",
       "    <tr style=\"text-align: right;\">\n",
       "      <th></th>\n",
       "      <th>size</th>\n",
       "      <th>bedrooms</th>\n",
       "      <th>price</th>\n",
       "    </tr>\n",
       "  </thead>\n",
       "  <tbody>\n",
       "    <tr>\n",
       "      <th>0</th>\n",
       "      <td>0.130010</td>\n",
       "      <td>-0.223675</td>\n",
       "      <td>0.475747</td>\n",
       "    </tr>\n",
       "    <tr>\n",
       "      <th>1</th>\n",
       "      <td>-0.504190</td>\n",
       "      <td>-0.223675</td>\n",
       "      <td>-0.084074</td>\n",
       "    </tr>\n",
       "    <tr>\n",
       "      <th>2</th>\n",
       "      <td>0.502476</td>\n",
       "      <td>-0.223675</td>\n",
       "      <td>0.228626</td>\n",
       "    </tr>\n",
       "    <tr>\n",
       "      <th>3</th>\n",
       "      <td>-0.735723</td>\n",
       "      <td>-1.537767</td>\n",
       "      <td>-0.867025</td>\n",
       "    </tr>\n",
       "    <tr>\n",
       "      <th>4</th>\n",
       "      <td>1.257476</td>\n",
       "      <td>1.090417</td>\n",
       "      <td>1.595389</td>\n",
       "    </tr>\n",
       "  </tbody>\n",
       "</table>\n",
       "</div>"
      ],
      "text/plain": [
       "       size  bedrooms     price\n",
       "0  0.130010 -0.223675  0.475747\n",
       "1 -0.504190 -0.223675 -0.084074\n",
       "2  0.502476 -0.223675  0.228626\n",
       "3 -0.735723 -1.537767 -0.867025\n",
       "4  1.257476  1.090417  1.595389"
      ]
     },
     "execution_count": 50,
     "metadata": {},
     "output_type": "execute_result"
    }
   ],
   "source": [
    "df2_norm.head()"
   ]
  },
  {
   "cell_type": "code",
   "execution_count": 51,
   "id": "668812a9-b0c6-4585-8b82-e03b167ee266",
   "metadata": {},
   "outputs": [],
   "source": [
    "X, y = func_get_X_y(df2_norm)"
   ]
  },
  {
   "cell_type": "code",
   "execution_count": 52,
   "id": "91a1e618-6352-49e5-a199-96eabf6a32fe",
   "metadata": {},
   "outputs": [
    {
     "data": {
      "text/plain": [
       "(2, 47)"
      ]
     },
     "execution_count": 52,
     "metadata": {},
     "output_type": "execute_result"
    }
   ],
   "source": [
    "X.shape"
   ]
  },
  {
   "cell_type": "code",
   "execution_count": 53,
   "id": "2531ebc9-17d3-4740-a550-037752e04f24",
   "metadata": {},
   "outputs": [
    {
     "data": {
      "text/plain": [
       "(1, 47)"
      ]
     },
     "execution_count": 53,
     "metadata": {},
     "output_type": "execute_result"
    }
   ],
   "source": [
    "y.shape"
   ]
  },
  {
   "cell_type": "markdown",
   "id": "d2c19ec9-7702-41eb-8924-e21a666e9a63",
   "metadata": {},
   "source": [
    "### sklearn"
   ]
  },
  {
   "cell_type": "code",
   "execution_count": 54,
   "id": "5f98cdcb-cf2a-462d-b464-eb48e1eaec52",
   "metadata": {},
   "outputs": [
    {
     "data": {
      "text/plain": [
       "LinearRegression()"
      ]
     },
     "execution_count": 54,
     "metadata": {},
     "output_type": "execute_result"
    }
   ],
   "source": [
    "lr = LinearRegression()\n",
    "lr.fit(X.T, y.squeeze())"
   ]
  },
  {
   "cell_type": "code",
   "execution_count": 55,
   "id": "add9e6e3-f423-4518-a182-2b8b08b99d69",
   "metadata": {},
   "outputs": [
    {
     "data": {
      "text/plain": [
       "array([ 0.88476599, -0.05317882])"
      ]
     },
     "execution_count": 55,
     "metadata": {},
     "output_type": "execute_result"
    }
   ],
   "source": [
    "lr.coef_"
   ]
  },
  {
   "cell_type": "code",
   "execution_count": 56,
   "id": "cc0cba2a-160e-48c8-a37e-01a492457c2f",
   "metadata": {},
   "outputs": [
    {
     "data": {
      "text/plain": [
       "-1.1568575416727595e-16"
      ]
     },
     "execution_count": 56,
     "metadata": {},
     "output_type": "execute_result"
    }
   ],
   "source": [
    "lr.intercept_"
   ]
  },
  {
   "cell_type": "markdown",
   "id": "6f5e9f60-826b-4130-bd0e-5a94d147d6a5",
   "metadata": {},
   "source": [
    "### 自定义DNN"
   ]
  },
  {
   "cell_type": "code",
   "execution_count": 57,
   "id": "0d1580bf-5641-4ee3-8bd0-1da92269d09e",
   "metadata": {},
   "outputs": [
    {
     "name": "stdout",
     "output_type": "stream",
     "text": [
      "cost after 0 epoch: 0.489362\n",
      "cost after 1000 epoch: 0.130703\n",
      "cost after 2000 epoch: 0.130686\n",
      "cost after 3000 epoch: 0.130686\n",
      "cost after 4000 epoch: 0.130686\n",
      "cost after 5000 epoch: 0.130686\n",
      "cost after 6000 epoch: 0.130686\n",
      "cost after 7000 epoch: 0.130686\n",
      "cost after 8000 epoch: 0.130686\n",
      "cost after 9000 epoch: 0.130686\n"
     ]
    }
   ],
   "source": [
    "parameters, cost_list = func_linear_model(X, y, print_cost=True)"
   ]
  },
  {
   "cell_type": "code",
   "execution_count": 58,
   "id": "07fe012c-7ee1-4f89-935f-bc1ef7a9e8a3",
   "metadata": {},
   "outputs": [
    {
     "data": {
      "text/plain": [
       "{'w': array([[ 0.88476599],\n",
       "        [-0.05317882]]),\n",
       " 'b': array([[-1.11034113e-16]])}"
      ]
     },
     "execution_count": 58,
     "metadata": {},
     "output_type": "execute_result"
    }
   ],
   "source": [
    "parameters"
   ]
  },
  {
   "cell_type": "code",
   "execution_count": 59,
   "id": "75c574a1-e9cc-4a01-8d53-d8972fb9a86b",
   "metadata": {},
   "outputs": [
    {
     "data": {
      "image/png": "[encoded data removed]",
      "text/plain": [
       "<Figure size 864x576 with 1 Axes>"
      ]
     },
     "metadata": {
      "needs_background": "light"
     },
     "output_type": "display_data"
    }
   ],
   "source": [
    "fig, ax = plt.subplots(figsize=(12, 8))\n",
    "ax.plot(range(len(cost_list)), cost_list, 'r')\n",
    "ax.set_xlabel('epochs')\n",
    "ax.set_ylabel('cost')\n",
    "ax.set_title('error vs. training epoch')\n",
    "plt.show()"
   ]
  },
  {
   "cell_type": "markdown",
   "id": "78f9d645-fa05-4cef-aed7-78e29652b9a9",
   "metadata": {},
   "source": [
    "## TF2实现线性回归\n",
    "\n",
    "### 参考\n",
    "\n",
    "* [地址](https://huhuhang.com/post/machine-learning/tensorflow-2-0-02)\n",
    "\n",
    "### 低阶API实现"
   ]
  },
  {
   "cell_type": "code",
   "execution_count": 60,
   "id": "89e238e0-4ef4-469b-a5b7-61a664642891",
   "metadata": {},
   "outputs": [
    {
     "data": {
      "text/plain": [
       "(2, 47)"
      ]
     },
     "execution_count": 60,
     "metadata": {},
     "output_type": "execute_result"
    }
   ],
   "source": [
    "X.shape"
   ]
  },
  {
   "cell_type": "code",
   "execution_count": 61,
   "id": "494eb9be-6662-4b01-aaaf-61f8980e511e",
   "metadata": {},
   "outputs": [
    {
     "data": {
      "text/plain": [
       "(1, 47)"
      ]
     },
     "execution_count": 61,
     "metadata": {},
     "output_type": "execute_result"
    }
   ],
   "source": [
    "y.shape"
   ]
  },
  {
   "cell_type": "code",
   "execution_count": 62,
   "id": "e954bd94-bae4-4304-b3d0-fa32c010c5ca",
   "metadata": {},
   "outputs": [],
   "source": [
    "import tensorflow as tf\n",
    "tf.random.set_seed(2030)"
   ]
  },
  {
   "cell_type": "code",
   "execution_count": 63,
   "id": "1bebe3db-4f8d-47fb-bfc8-c3c1fdbff436",
   "metadata": {},
   "outputs": [
    {
     "name": "stderr",
     "output_type": "stream",
     "text": [
      "2021-09-02 00:19:00.022482: I tensorflow/core/platform/cpu_feature_guard.cc:142] This TensorFlow binary is optimized with oneAPI Deep Neural Network Library (oneDNN) to use the following CPU instructions in performance-critical operations:  AVX2 FMA\n",
      "To enable them in other operations, rebuild TensorFlow with the appropriate compiler flags.\n"
     ]
    }
   ],
   "source": [
    "X = tf.constant(X, dtype=tf.float32)\n",
    "y = tf.constant(y, dtype=tf.float32)"
   ]
  },
  {
   "cell_type": "code",
   "execution_count": 64,
   "id": "2df2edb3-4627-433c-b6ba-e8d696bc3957",
   "metadata": {},
   "outputs": [
    {
     "data": {
      "text/plain": [
       "<tf.Tensor: shape=(2, 47), dtype=float32, numpy=\n",
       "array([[ 1.3000987e-01, -5.0418985e-01,  5.0247633e-01, -7.3572308e-01,\n",
       "         1.2574760e+00, -1.9731728e-02, -5.8723980e-01, -7.2188139e-01,\n",
       "        -7.8102303e-01, -6.3757312e-01, -7.6356702e-02, -8.5673720e-04,\n",
       "        -1.3927335e-01,  3.1172919e+00, -9.2195630e-01,  3.7664309e-01,\n",
       "        -8.5652304e-01, -9.6222293e-01,  7.6546788e-01,  1.2964844e+00,\n",
       "        -2.9404828e-01, -1.4179000e-01, -4.9915650e-01, -4.8673380e-02,\n",
       "         2.3773921e+00, -1.1333562e+00, -6.8287307e-01,  6.6102630e-01,\n",
       "         2.5080982e-01,  8.0070120e-01, -2.0344831e-01, -1.2591895e+00,\n",
       "         4.9476571e-02,  1.4298676e+00, -2.3868163e-01, -7.0929807e-01,\n",
       "        -9.5844793e-01,  1.6524319e-01,  2.7863503e+00,  2.0299317e-01,\n",
       "        -4.2365655e-01,  2.9862645e-01,  7.1261793e-01, -1.0075229e+00,\n",
       "        -1.4454228e+00, -1.8708998e-01, -1.0037479e+00],\n",
       "       [-2.2367519e-01, -2.2367519e-01, -2.2367519e-01, -1.5377669e+00,\n",
       "         1.0904166e+00,  1.0904166e+00, -2.2367519e-01, -2.2367519e-01,\n",
       "        -2.2367519e-01, -2.2367519e-01,  1.0904166e+00, -2.2367519e-01,\n",
       "        -2.2367519e-01,  2.4045084e+00, -2.2367519e-01,  1.0904166e+00,\n",
       "        -1.5377669e+00, -2.2367519e-01,  1.0904166e+00,  1.0904166e+00,\n",
       "        -2.2367519e-01, -1.5377669e+00, -2.2367519e-01,  1.0904166e+00,\n",
       "        -2.2367519e-01, -2.2367519e-01, -2.2367519e-01, -2.2367519e-01,\n",
       "        -2.2367519e-01, -2.2367519e-01, -1.5377669e+00, -2.8518586e+00,\n",
       "         1.0904166e+00, -2.2367519e-01,  1.0904166e+00, -2.2367519e-01,\n",
       "        -2.2367519e-01,  1.0904166e+00,  1.0904166e+00,  1.0904166e+00,\n",
       "        -1.5377669e+00, -2.2367519e-01,  1.0904166e+00, -2.2367519e-01,\n",
       "        -1.5377669e+00,  1.0904166e+00, -2.2367519e-01]], dtype=float32)>"
      ]
     },
     "execution_count": 64,
     "metadata": {},
     "output_type": "execute_result"
    }
   ],
   "source": [
    "X"
   ]
  },
  {
   "cell_type": "code",
   "execution_count": 65,
   "id": "46036aae-2672-4f6d-b388-8dcf57f97604",
   "metadata": {},
   "outputs": [
    {
     "data": {
      "text/plain": [
       "<tf.Tensor: shape=(1, 47), dtype=float32, numpy=\n",
       "array([[ 0.47574687, -0.08407444,  0.22862574, -0.86702454,  1.5953895 ,\n",
       "        -0.32399786, -0.20403615, -1.1309483 , -1.0269735 , -0.7830513 ,\n",
       "        -0.80305296,  0.05268191, -0.08328269,  2.874981  , -0.64389575,\n",
       "         0.87561923, -0.32399786, -1.1237426 ,  1.2762754 ,  2.0680387 ,\n",
       "        -0.69987786, -0.68308324, -0.77985233, -0.64389575,  1.8673027 ,\n",
       "        -0.7238702 ,  0.99238193,  1.0283705 ,  1.0763551 , -0.32399786,\n",
       "         0.07587451, -1.363666  , -0.20403615,  1.9152874 , -0.4359621 ,\n",
       "        -0.7238702 , -0.88381916,  0.03668701,  1.6681663 , -0.4271649 ,\n",
       "         0.22462702, -0.08407444, -0.21123385, -0.33119556, -1.2836915 ,\n",
       "        -0.32399786, -0.8070437 ]], dtype=float32)>"
      ]
     },
     "execution_count": 65,
     "metadata": {},
     "output_type": "execute_result"
    }
   ],
   "source": [
    "y"
   ]
  },
  {
   "cell_type": "markdown",
   "id": "bdddf777-779e-4993-bb29-82451520ee6d",
   "metadata": {},
   "source": [
    "#### 定义模型类"
   ]
  },
  {
   "cell_type": "code",
   "execution_count": 66,
   "id": "0e630de8-e58d-489b-8f34-c768989cd583",
   "metadata": {},
   "outputs": [],
   "source": [
    "class Model(object):\n",
    "    def __init__(self, n_x, n_y):\n",
    "        tf.random.set_seed(2030)\n",
    "        self.w = tf.Variable(tf.random.uniform(shape=(n_y, n_x)))\n",
    "        self.b = tf.Variable(tf.random.uniform(shape=(n_y, 1)))\n",
    "    \n",
    "    def __call__(self, X):\n",
    "#         z = np.dot(tf.transpose(self.w), X) + self.b\n",
    "        z = tf.matmul(self.w, X) + self.b\n",
    "        return z"
   ]
  },
  {
   "cell_type": "code",
   "execution_count": 67,
   "id": "54e5a806-1d46-4935-b148-54f258abf189",
   "metadata": {},
   "outputs": [],
   "source": [
    "n_x, n_y = X.shape[0], 1"
   ]
  },
  {
   "cell_type": "code",
   "execution_count": 68,
   "id": "61bf42ab-bfc3-4660-b08a-897028629c3b",
   "metadata": {},
   "outputs": [],
   "source": [
    "model = Model(n_x, n_y)"
   ]
  },
  {
   "cell_type": "code",
   "execution_count": 69,
   "id": "e3a4123d-dc0d-408a-9723-1ceafe223b5a",
   "metadata": {},
   "outputs": [],
   "source": [
    "z = model(X)"
   ]
  },
  {
   "cell_type": "code",
   "execution_count": 70,
   "id": "8922d9de-b08b-4e32-9acb-ddbaff0917de",
   "metadata": {},
   "outputs": [
    {
     "data": {
      "text/plain": [
       "<tf.Tensor: shape=(1, 47), dtype=float32, numpy=\n",
       "array([[ 0.26395318,  0.22815093,  0.28497988, -0.08861065,  0.6312926 ,\n",
       "         0.5591908 ,  0.22346255,  0.21586168,  0.21252298,  0.22062111,\n",
       "         0.5559942 ,  0.25656542,  0.24875143,  1.0399749 ,  0.20456693,\n",
       "         0.5815672 , -0.09543014,  0.20229377,  0.6035174 ,  0.6334947 ,\n",
       "         0.24001399, -0.05508158,  0.22843508,  0.557557  ,  0.3908238 ,\n",
       "         0.19263284,  0.2180638 ,  0.29393047,  0.27077267,  0.30181548,\n",
       "        -0.05856234, -0.42185265,  0.56309783,  0.33733356,  0.54683053,\n",
       "         0.21657205,  0.20250687,  0.5696331 ,  0.71760154,  0.57176423,\n",
       "        -0.07099366,  0.27347204,  0.6005339 ,  0.19973646, -0.12867507,\n",
       "         0.549743  ,  0.19994956]], dtype=float32)>"
      ]
     },
     "execution_count": 70,
     "metadata": {},
     "output_type": "execute_result"
    }
   ],
   "source": [
    "z"
   ]
  },
  {
   "cell_type": "markdown",
   "id": "54f19cad-8ae6-494f-9d8a-a9b5dca1813b",
   "metadata": {},
   "source": [
    "#### 损失函数\n",
    "\n",
    "$$\n",
    "mse = loss = \\frac{1}{2m}(z-y)(z-y)^T\n",
    "$$"
   ]
  },
  {
   "cell_type": "code",
   "execution_count": 71,
   "id": "6ac008e0-2a0d-45cc-9cf1-171207151dfe",
   "metadata": {},
   "outputs": [],
   "source": [
    "def func_loss_linear_regression(model, X, y):\n",
    "    \"\"\"\n",
    "    计算mse\n",
    "    :param model: tf model\n",
    "    :param X:\n",
    "    :param y:\n",
    "    :return loss\n",
    "    \"\"\"\n",
    "#     n_x = X.shape[0]\n",
    "#     n_y = y.shape[0]\n",
    "    m = X.shape[1]\n",
    "    z = model(X)\n",
    "    loss = tf.reduce_mean(tf.square(z-y))  # Computes the mean of elements across dimensions of a tensor\n",
    "#     loss = 1 / (2*m) * tf.matmul(z-y, tf.transpose(z-y))\n",
    "    return loss"
   ]
  },
  {
   "cell_type": "code",
   "execution_count": 72,
   "id": "cc88cd5b-4de7-43e8-b9d2-8e3f96b40493",
   "metadata": {},
   "outputs": [],
   "source": [
    "mse_loss = func_loss_linear_regression(model, X, y)"
   ]
  },
  {
   "cell_type": "code",
   "execution_count": 73,
   "id": "266875ea-611c-4841-888c-0992ad028bda",
   "metadata": {},
   "outputs": [
    {
     "data": {
      "text/plain": [
       "<tf.Tensor: shape=(), dtype=float32, numpy=0.84892213>"
      ]
     },
     "execution_count": 73,
     "metadata": {},
     "output_type": "execute_result"
    }
   ],
   "source": [
    "mse_loss"
   ]
  },
  {
   "cell_type": "markdown",
   "id": "60867744-1f40-4d5d-976e-1597c8a27ac3",
   "metadata": {},
   "source": [
    "#### update parameters"
   ]
  },
  {
   "cell_type": "code",
   "execution_count": 74,
   "id": "8b5c7b21-1aeb-4554-9837-64ab660bddff",
   "metadata": {},
   "outputs": [],
   "source": [
    "epochs = 10000\n",
    "lr = 0.01"
   ]
  },
  {
   "cell_type": "code",
   "execution_count": 75,
   "id": "02a72234-0616-492a-95ce-74dd82683ac5",
   "metadata": {},
   "outputs": [
    {
     "name": "stdout",
     "output_type": "stream",
     "text": [
      "epoch [0/10000], loss 0.849\n",
      "epoch [1000/10000], loss 0.261\n",
      "epoch [2000/10000], loss 0.261\n",
      "epoch [3000/10000], loss 0.261\n",
      "epoch [4000/10000], loss 0.261\n",
      "epoch [5000/10000], loss 0.261\n",
      "epoch [6000/10000], loss 0.261\n",
      "epoch [7000/10000], loss 0.261\n",
      "epoch [8000/10000], loss 0.261\n",
      "epoch [9000/10000], loss 0.261\n"
     ]
    }
   ],
   "source": [
    "for epoch in range(epochs):\n",
    "    with tf.GradientTape() as tape:  # 追踪梯度\n",
    "        loss = func_loss_linear_regression(model, X, y)\n",
    "        dw, db = tape.gradient(loss, [model.w, model.b])\n",
    "    model.w.assign_sub(lr*dw)\n",
    "    model.b.assign_sub(lr*db)\n",
    "\n",
    "    if epoch % 1000 == 0:\n",
    "        print('epoch [{}/{}], loss {:.3f}'.format(epoch, epochs, loss))"
   ]
  },
  {
   "cell_type": "code",
   "execution_count": 76,
   "id": "99b53532-c9ef-449b-bbbb-e66c9c6dcb0d",
   "metadata": {},
   "outputs": [
    {
     "data": {
      "text/plain": [
       "<tf.Variable 'Variable:0' shape=(1, 2) dtype=float32, numpy=array([[ 0.8847637 , -0.05317748]], dtype=float32)>"
      ]
     },
     "execution_count": 76,
     "metadata": {},
     "output_type": "execute_result"
    }
   ],
   "source": [
    "model.w"
   ]
  },
  {
   "cell_type": "code",
   "execution_count": 77,
   "id": "7218ea1c-229b-439b-b086-c40e45b0af46",
   "metadata": {},
   "outputs": [
    {
     "data": {
      "text/plain": [
       "<tf.Variable 'Variable:0' shape=(1, 1) dtype=float32, numpy=array([[-1.1218328e-08]], dtype=float32)>"
      ]
     },
     "execution_count": 77,
     "metadata": {},
     "output_type": "execute_result"
    }
   ],
   "source": [
    "model.b"
   ]
  },
  {
   "cell_type": "code",
   "execution_count": 78,
   "id": "0bb41874-c338-4766-b89e-7c5295354fd0",
   "metadata": {},
   "outputs": [],
   "source": [
    "y_hat = model(X)"
   ]
  },
  {
   "cell_type": "code",
   "execution_count": 79,
   "id": "9bf102e0-2cb4-4215-bf81-17b46aa10848",
   "metadata": {},
   "outputs": [
    {
     "data": {
      "text/plain": [
       "<tf.Tensor: shape=(1, 47), dtype=float32, numpy=\n",
       "array([[ 0.12692249, -0.4341944 ,  0.45646733, -0.56916654,  1.0545835 ,\n",
       "        -0.07544354, -0.507674  , -0.6268    , -0.6791264 , -0.5522071 ,\n",
       "        -0.12554325,  0.01113646, -0.11132954,  2.630201  , -0.803819  ,\n",
       "         0.27525455, -0.6760459 , -0.8394455 ,  0.6192726 ,  1.0890968 ,\n",
       "        -0.24826878, -0.0436761 , -0.42974108, -0.10105006,  2.1153247 ,\n",
       "        -0.99085796, -0.5922868 ,  0.59674656,  0.23380189,  0.7203258 ,\n",
       "        -0.09822914, -0.96243054, -0.01421054,  1.2769895 , -0.26916245,\n",
       "        -0.61566675, -0.83610547,  0.08821556,  2.4072762 ,  0.12161537,\n",
       "        -0.29306138,  0.27610835,  0.57251287, -0.8795253 , -1.197083  ,\n",
       "        -0.22351605, -0.8761853 ]], dtype=float32)>"
      ]
     },
     "execution_count": 79,
     "metadata": {},
     "output_type": "execute_result"
    }
   ],
   "source": [
    "y_hat"
   ]
  },
  {
   "cell_type": "code",
   "execution_count": 80,
   "id": "961860d3-df3e-4632-965b-84f20df956ae",
   "metadata": {},
   "outputs": [
    {
     "data": {
      "text/plain": [
       "[<matplotlib.lines.Line2D at 0x164fef9a0>]"
      ]
     },
     "execution_count": 80,
     "metadata": {},
     "output_type": "execute_result"
    },
    {
     "data": {
      "image/png": "[encoded data removed]",
      "text/plain": [
       "<Figure size 432x288 with 1 Axes>"
      ]
     },
     "metadata": {
      "needs_background": "light"
     },
     "output_type": "display_data"
    }
   ],
   "source": [
    "plt.scatter(y, y_hat)\n",
    "plt.plot(tf.squeeze(y), tf.squeeze(y), 'r--')"
   ]
  },
  {
   "cell_type": "code",
   "execution_count": null,
   "id": "7cdeb6ff-1ff7-46cd-9009-7e5593a09428",
   "metadata": {},
   "outputs": [],
   "source": []
  },
  {
   "cell_type": "markdown",
   "id": "3d5d90c5-6e4b-421e-807f-1ffffed76114",
   "metadata": {},
   "source": [
    "### 高阶API实现\n",
    "\n",
    "* `tf.keras`模块下提供的全连接层实际上就是一个线性计算过程"
   ]
  },
  {
   "cell_type": "code",
   "execution_count": 81,
   "id": "3b4739eb-c066-4c34-b068-674aff41fc8b",
   "metadata": {},
   "outputs": [],
   "source": [
    "X = tf.transpose(X)\n",
    "y = tf.transpose(y)"
   ]
  },
  {
   "cell_type": "code",
   "execution_count": 82,
   "id": "b66d23d7-d99b-41d6-998d-07460e98c95f",
   "metadata": {},
   "outputs": [
    {
     "data": {
      "text/plain": [
       "TensorShape([47, 2])"
      ]
     },
     "execution_count": 82,
     "metadata": {},
     "output_type": "execute_result"
    }
   ],
   "source": [
    "X.shape"
   ]
  },
  {
   "cell_type": "code",
   "execution_count": 83,
   "id": "e74e82fa-3c56-45ab-80c9-aca9855ef751",
   "metadata": {},
   "outputs": [
    {
     "data": {
      "text/plain": [
       "TensorShape([47, 1])"
      ]
     },
     "execution_count": 83,
     "metadata": {},
     "output_type": "execute_result"
    }
   ],
   "source": [
    "y.shape"
   ]
  },
  {
   "cell_type": "markdown",
   "id": "3316e6b4-0172-4fb7-a266-cdb7c75b77eb",
   "metadata": {},
   "source": [
    "#### 构建模型"
   ]
  },
  {
   "cell_type": "code",
   "execution_count": 84,
   "id": "1ce318e1-a830-463a-ad0d-8be344ba63da",
   "metadata": {},
   "outputs": [],
   "source": [
    "model = tf.keras.layers.Dense(units=1)"
   ]
  },
  {
   "cell_type": "code",
   "execution_count": 85,
   "id": "408be997-4c71-4eac-ade9-4eb05d60a241",
   "metadata": {},
   "outputs": [],
   "source": [
    "y_hat = model(X)"
   ]
  },
  {
   "cell_type": "code",
   "execution_count": 86,
   "id": "4bca1cf7-2acd-4387-894e-58954aeafbf7",
   "metadata": {},
   "outputs": [
    {
     "data": {
      "text/plain": [
       "TensorShape([47, 1])"
      ]
     },
     "execution_count": 86,
     "metadata": {},
     "output_type": "execute_result"
    }
   ],
   "source": [
    "y_hat.shape"
   ]
  },
  {
   "cell_type": "code",
   "execution_count": 87,
   "id": "b6469c45-36f4-4dc6-95ce-f5ccc376796f",
   "metadata": {},
   "outputs": [
    {
     "data": {
      "text/plain": [
       "[<matplotlib.lines.Line2D at 0x1677ae370>]"
      ]
     },
     "execution_count": 87,
     "metadata": {},
     "output_type": "execute_result"
    },
    {
     "data": {
      "image/png": "[encoded data removed]",
      "text/plain": [
       "<Figure size 432x288 with 1 Axes>"
      ]
     },
     "metadata": {
      "needs_background": "light"
     },
     "output_type": "display_data"
    }
   ],
   "source": [
    "plt.scatter(y, y_hat)\n",
    "plt.plot(tf.squeeze(y), tf.squeeze(y), 'r--')"
   ]
  },
  {
   "cell_type": "code",
   "execution_count": 88,
   "id": "dfb920b7-969e-4cd6-86e4-2027889ff745",
   "metadata": {},
   "outputs": [
    {
     "data": {
      "text/plain": [
       "[<tf.Variable 'dense/kernel:0' shape=(2, 1) dtype=float32, numpy=\n",
       " array([[-1.2987416 ],\n",
       "        [-0.30637085]], dtype=float32)>,\n",
       " <tf.Variable 'dense/bias:0' shape=(1,) dtype=float32, numpy=array([0.], dtype=float32)>]"
      ]
     },
     "execution_count": 88,
     "metadata": {},
     "output_type": "execute_result"
    }
   ],
   "source": [
    "model.variables"
   ]
  },
  {
   "cell_type": "code",
   "execution_count": 89,
   "id": "d9fac32c-af4a-4469-aa4d-039caa0a602d",
   "metadata": {},
   "outputs": [
    {
     "data": {
      "text/plain": [
       "TensorShape([47, 1])"
      ]
     },
     "execution_count": 89,
     "metadata": {},
     "output_type": "execute_result"
    }
   ],
   "source": [
    "y.shape"
   ]
  },
  {
   "cell_type": "code",
   "execution_count": 90,
   "id": "4991afee-1e0f-45f7-bc25-e44caca8a5ff",
   "metadata": {},
   "outputs": [
    {
     "data": {
      "text/plain": [
       "TensorShape([47, 1])"
      ]
     },
     "execution_count": 90,
     "metadata": {},
     "output_type": "execute_result"
    }
   ],
   "source": [
    "y_hat.shape"
   ]
  },
  {
   "cell_type": "code",
   "execution_count": 91,
   "id": "14600fdb-e450-424c-921e-691728daf4d7",
   "metadata": {},
   "outputs": [
    {
     "data": {
      "text/plain": [
       "<tf.Tensor: shape=(1, 47), dtype=float32, numpy=\n",
       "array([[-0.10032167,  0.7233399 , -0.58405936,  1.4266411 , -1.9672081 ,\n",
       "        -0.30844542,  0.8312003 ,  1.0060649 ,  1.0828747 ,  0.8965703 ,\n",
       "        -0.23490423,  0.06964023,  0.24940765, -4.7852283 ,  1.2659105 ,\n",
       "        -0.8232339 ,  1.583529  ,  1.3182065 , -1.3282168 , -2.01787   ,\n",
       "         0.4504203 ,  0.6552755 ,  0.7168029 , -0.2708577 , -3.0190904 ,\n",
       "         1.5404644 ,  0.9554032 , -0.78997475, -0.2572096 , -0.9713764 ,\n",
       "         0.73535377,  2.509088  , -0.39832914, -1.7885009 , -0.02408609,\n",
       "         0.9897225 ,  1.3133037 , -0.54868007, -3.9528208 , -0.5977075 ,\n",
       "         1.0213473 , -0.31931105, -1.2595783 ,  1.3770396 ,  2.3483577 ,\n",
       "        -0.09109031,  1.3721367 ]], dtype=float32)>"
      ]
     },
     "execution_count": 91,
     "metadata": {},
     "output_type": "execute_result"
    }
   ],
   "source": [
    "tf.reshape(y_hat, (1, -1))"
   ]
  },
  {
   "cell_type": "code",
   "execution_count": 92,
   "id": "d2941781-1866-4fa7-becb-e26836de6cbd",
   "metadata": {},
   "outputs": [
    {
     "data": {
      "text/plain": [
       "<tf.Tensor: shape=(1,), dtype=float32, numpy=array([5.596359], dtype=float32)>"
      ]
     },
     "execution_count": 92,
     "metadata": {},
     "output_type": "execute_result"
    }
   ],
   "source": [
    "tf.keras.losses.mean_squared_error(tf.transpose(y), tf.transpose(y_hat))"
   ]
  },
  {
   "cell_type": "markdown",
   "id": "7296f8c6-3bfc-4a75-a037-6cbbaf3a41a5",
   "metadata": {},
   "source": [
    "#### 更新模型"
   ]
  },
  {
   "cell_type": "code",
   "execution_count": 93,
   "id": "f9fbcea8-cd22-41b6-8454-ae3750fe6e53",
   "metadata": {},
   "outputs": [],
   "source": [
    "epochs = 10000\n",
    "lr = 0.01\n",
    "# model = tf.keras.layers.Dense(units=1)"
   ]
  },
  {
   "cell_type": "code",
   "execution_count": 94,
   "id": "b0ba7cc3-71d7-4770-94a5-59fd0a473767",
   "metadata": {},
   "outputs": [
    {
     "name": "stdout",
     "output_type": "stream",
     "text": [
      "epoch [0/10000], loss 5.596\n",
      "epoch [1000/10000], loss 0.261\n",
      "epoch [2000/10000], loss 0.261\n",
      "epoch [3000/10000], loss 0.261\n",
      "epoch [4000/10000], loss 0.261\n",
      "epoch [5000/10000], loss 0.261\n",
      "epoch [6000/10000], loss 0.261\n",
      "epoch [7000/10000], loss 0.261\n",
      "epoch [8000/10000], loss 0.261\n",
      "epoch [9000/10000], loss 0.261\n"
     ]
    }
   ],
   "source": [
    "for epoch in range(epochs):\n",
    "    with tf.GradientTape() as tape:\n",
    "        y_hat = model(X)\n",
    "        loss = tf.reduce_sum(tf.keras.losses.mean_squared_error(tf.transpose(y), tf.transpose(y_hat)))\n",
    "    grads = tape.gradient(loss, model.variables)\n",
    "    optimizer = tf.keras.optimizers.SGD(lr)\n",
    "    optimizer.apply_gradients(zip(grads, model.variables))\n",
    "\n",
    "    if epoch % 1000 == 0:\n",
    "        print('epoch [{}/{}], loss {:.3f}'.format(epoch, epochs, loss))"
   ]
  },
  {
   "cell_type": "code",
   "execution_count": 95,
   "id": "1d46168d-bb8e-4953-88b2-ccdbfc89588e",
   "metadata": {},
   "outputs": [
    {
     "data": {
      "text/plain": [
       "[<tf.Variable 'dense/kernel:0' shape=(2, 1) dtype=float32, numpy=\n",
       " array([[ 0.8847637 ],\n",
       "        [-0.05317745]], dtype=float32)>,\n",
       " <tf.Variable 'dense/bias:0' shape=(1,) dtype=float32, numpy=array([-1.490894e-08], dtype=float32)>]"
      ]
     },
     "execution_count": 95,
     "metadata": {},
     "output_type": "execute_result"
    }
   ],
   "source": [
    "model.variables"
   ]
  },
  {
   "cell_type": "code",
   "execution_count": 96,
   "id": "189937d8-04f5-49fc-9e16-502f5a48d62e",
   "metadata": {},
   "outputs": [],
   "source": [
    "y_hat = model(X)"
   ]
  },
  {
   "cell_type": "code",
   "execution_count": 97,
   "id": "02c4af95-2131-4278-a8ab-fab457b588dc",
   "metadata": {},
   "outputs": [
    {
     "data": {
      "text/plain": [
       "TensorShape([47, 1])"
      ]
     },
     "execution_count": 97,
     "metadata": {},
     "output_type": "execute_result"
    }
   ],
   "source": [
    "y_hat.shape"
   ]
  },
  {
   "cell_type": "code",
   "execution_count": 98,
   "id": "f2210d1c-1d81-4571-9e87-1e8f520d9704",
   "metadata": {},
   "outputs": [
    {
     "data": {
      "text/plain": [
       "[<matplotlib.lines.Line2D at 0x167867910>]"
      ]
     },
     "execution_count": 98,
     "metadata": {},
     "output_type": "execute_result"
    },
    {
     "data": {
      "image/png": "[encoded data removed]",
      "text/plain": [
       "<Figure size 432x288 with 1 Axes>"
      ]
     },
     "metadata": {
      "needs_background": "light"
     },
     "output_type": "display_data"
    }
   ],
   "source": [
    "plt.scatter(y, y_hat)\n",
    "plt.plot(tf.squeeze(y), tf.squeeze(y), 'r--')"
   ]
  },
  {
   "cell_type": "markdown",
   "id": "ad024d20-8299-4261-8dc4-3dc6a8618091",
   "metadata": {},
   "source": [
    "### keras方式实现\n",
    "\n",
    "* 高阶API并不精简，这里使用tensorflow keras API来实现"
   ]
  },
  {
   "cell_type": "code",
   "execution_count": 99,
   "id": "ce65b7ae-8ae7-4a53-8988-5d3e7955fe4f",
   "metadata": {},
   "outputs": [
    {
     "name": "stdout",
     "output_type": "stream",
     "text": [
      "Model: \"sequential\"\n",
      "_________________________________________________________________\n",
      "Layer (type)                 Output Shape              Param #   \n",
      "=================================================================\n",
      "dense_1 (Dense)              (None, 1)                 3         \n",
      "=================================================================\n",
      "Total params: 3\n",
      "Trainable params: 3\n",
      "Non-trainable params: 0\n",
      "_________________________________________________________________\n"
     ]
    }
   ],
   "source": [
    "model = tf.keras.Sequential()\n",
    "model.add(tf.keras.layers.Dense(units=1, input_shape=[X.shape[1]]))\n",
    "model.summary()"
   ]
  },
  {
   "cell_type": "code",
   "execution_count": 100,
   "id": "10be99f3-6ad9-4e8e-8855-f95fe0313736",
   "metadata": {},
   "outputs": [],
   "source": [
    "model.compile(optimizer='sgd', loss='mse')"
   ]
  },
  {
   "cell_type": "code",
   "execution_count": 101,
   "id": "bb0a6a84-bf52-4590-a3a9-e00726fd5ac8",
   "metadata": {},
   "outputs": [],
   "source": [
    "class PrintEpochs(tf.keras.callbacks.Callback):\n",
    "    def on_epoch_end(self, epoch, logs):\n",
    "        if epoch % 1000 == 0:\n",
    "            print('epoch: {}, logs: {}'.format(epoch, logs))"
   ]
  },
  {
   "cell_type": "code",
   "execution_count": 102,
   "id": "396c4cd0-13dc-4a70-b3d5-7524dd178792",
   "metadata": {},
   "outputs": [
    {
     "name": "stderr",
     "output_type": "stream",
     "text": [
      "2021-09-02 00:19:39.669632: I tensorflow/compiler/mlir/mlir_graph_optimization_pass.cc:185] None of the MLIR Optimization Passes are enabled (registered 2)\n"
     ]
    },
    {
     "name": "stdout",
     "output_type": "stream",
     "text": [
      "epoch: 0, logs: {'loss': 0.6870020031929016}\n",
      "epoch: 1000, logs: {'loss': 0.26153504848480225}\n",
      "epoch: 2000, logs: {'loss': 0.26175591349601746}\n",
      "epoch: 3000, logs: {'loss': 0.2618563175201416}\n",
      "epoch: 4000, logs: {'loss': 0.26148030161857605}\n",
      "epoch: 5000, logs: {'loss': 0.26158812642097473}\n",
      "epoch: 6000, logs: {'loss': 0.26160359382629395}\n",
      "epoch: 7000, logs: {'loss': 0.2616385519504547}\n",
      "epoch: 8000, logs: {'loss': 0.26146188378334045}\n",
      "epoch: 9000, logs: {'loss': 0.2615436911582947}\n"
     ]
    },
    {
     "data": {
      "text/plain": [
       "<keras.callbacks.History at 0x16775b190>"
      ]
     },
     "execution_count": 102,
     "metadata": {},
     "output_type": "execute_result"
    }
   ],
   "source": [
    "model.fit(X, y, epochs=10000, verbose=0, callbacks=[PrintEpochs()])"
   ]
  },
  {
   "cell_type": "code",
   "execution_count": 103,
   "id": "a3695b53-898a-4a89-acf1-016bb43cf7b5",
   "metadata": {},
   "outputs": [],
   "source": [
    "y_hat = model(X)"
   ]
  },
  {
   "cell_type": "code",
   "execution_count": 104,
   "id": "2e5e27c6-3327-429e-b600-ff10b6feded4",
   "metadata": {},
   "outputs": [
    {
     "data": {
      "text/plain": [
       "TensorShape([47, 1])"
      ]
     },
     "execution_count": 104,
     "metadata": {},
     "output_type": "execute_result"
    }
   ],
   "source": [
    "y_hat.shape"
   ]
  },
  {
   "cell_type": "code",
   "execution_count": 105,
   "id": "8f07db1b-a084-4ac5-a032-5a2984f9aca1",
   "metadata": {},
   "outputs": [
    {
     "data": {
      "text/plain": [
       "[<matplotlib.lines.Line2D at 0x167bc6a30>]"
      ]
     },
     "execution_count": 105,
     "metadata": {},
     "output_type": "execute_result"
    },
    {
     "data": {
      "image/png": "[encoded data removed]",
      "text/plain": [
       "<Figure size 432x288 with 1 Axes>"
      ]
     },
     "metadata": {
      "needs_background": "light"
     },
     "output_type": "display_data"
    }
   ],
   "source": [
    "plt.scatter(tf.transpose(y), y_hat)\n",
    "plt.plot(tf.squeeze(y), tf.squeeze(y), 'r--')"
   ]
  },
  {
   "cell_type": "code",
   "execution_count": 106,
   "id": "76673c70-9b85-4686-9956-b1a1b22abc8a",
   "metadata": {},
   "outputs": [
    {
     "data": {
      "text/plain": [
       "[array([[ 0.8758631 ],\n",
       "        [-0.05261532]], dtype=float32),\n",
       " array([0.00111299], dtype=float32)]"
      ]
     },
     "execution_count": 106,
     "metadata": {},
     "output_type": "execute_result"
    }
   ],
   "source": [
    "model.get_weights()"
   ]
  },
  {
   "cell_type": "code",
   "execution_count": null,
   "id": "84d0955a-10ad-4b6c-855a-696e48750e8e",
   "metadata": {},
   "outputs": [],
   "source": []
  },
  {
   "cell_type": "code",
   "execution_count": null,
   "id": "57b60983-d619-4056-a1f0-278e000686a0",
   "metadata": {},
   "outputs": [],
   "source": []
  }
 ],
 "metadata": {
  "kernelspec": {
   "display_name": "Python 3 (ipykernel)",
   "language": "python",
   "name": "python3"
  },
  "language_info": {
   "codemirror_mode": {
    "name": "ipython",
    "version": 3
   },
   "file_extension": ".py",
   "mimetype": "text/x-python",
   "name": "python",
   "nbconvert_exporter": "python",
   "pygments_lexer": "ipython3",
   "version": "3.8.2"
  }
 },
 "nbformat": 4,
 "nbformat_minor": 5
}
